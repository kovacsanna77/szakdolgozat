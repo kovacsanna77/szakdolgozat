{
  "nbformat": 4,
  "nbformat_minor": 0,
  "metadata": {
    "colab": {
      "provenance": [],
      "gpuType": "T4",
      "collapsed_sections": [
        "ltUGY1rd1qSx",
        "0TIx14HWbd5X",
        "A1j0htqqYpQQ",
        "TlfLnh3-YsTB",
        "OrGXw-EXo1lY",
        "Gvprm6vIXZAC",
        "MlGDroHJL7Kl",
        "L_6dcydq3bt8"
      ],
      "authorship_tag": "ABX9TyOSztw7a72xxr42Re+Fn+7O",
      "include_colab_link": true
    },
    "kernelspec": {
      "name": "python3",
      "display_name": "Python 3"
    },
    "language_info": {
      "name": "python"
    },
    "accelerator": "GPU"
  },
  "cells": [
    {
      "cell_type": "markdown",
      "metadata": {
        "id": "view-in-github",
        "colab_type": "text"
      },
      "source": [
        "<a href=\"https://colab.research.google.com/github/kovacsanna77/szakdolgozat/blob/main/nlp.ipynb\" target=\"_parent\"><img src=\"https://colab.research.google.com/assets/colab-badge.svg\" alt=\"Open In Colab\"/></a>"
      ]
    },
    {
      "cell_type": "markdown",
      "source": [
        "### Imports\n"
      ],
      "metadata": {
        "id": "ltUGY1rd1qSx"
      }
    },
    {
      "cell_type": "code",
      "source": [
        "from google.colab import drive\n",
        "drive.mount('/content/drive')"
      ],
      "metadata": {
        "colab": {
          "base_uri": "https://localhost:8080/"
        },
        "id": "4NS-k49_SbbB",
        "outputId": "efd4139e-02c2-4e52-baf5-14dd69358e9f"
      },
      "execution_count": null,
      "outputs": [
        {
          "output_type": "stream",
          "name": "stdout",
          "text": [
            "Mounted at /content/drive\n"
          ]
        }
      ]
    },
    {
      "cell_type": "code",
      "source": [
        "import pandas as pd\n",
        "import seaborn as sns\n",
        "import matplotlib.pyplot as plt\n",
        "from sklearn.model_selection import train_test_split\n",
        "from sklearn.preprocessing import OneHotEncoder\n",
        "import scipy.sparse as sp\n",
        "\n",
        "from sklearn.feature_extraction.text import TfidfVectorizer\n",
        "from sklearn.model_selection import train_test_split\n",
        "from sklearn.linear_model import LogisticRegression\n",
        "from sklearn.svm import SVC\n",
        "from sklearn.metrics import accuracy_score, roc_curve, f1_score, classification_report\n",
        "from sklearn.metrics import mean_squared_error\n",
        "import math\n",
        "from urllib.parse import urlparse\n",
        "import pandas as pd\n",
        "import nltk\n",
        "from nltk.corpus import stopwords\n",
        "from nltk.tokenize import word_tokenize\n",
        "from nltk.stem import PorterStemmer # removing the commoner morphological and inflexional endings from words in English\n",
        "from nltk.stem import WordNetLemmatizer #Lemmatization is the process of grouping together different inflected forms of the same word.\n",
        "from sklearn.preprocessing import MultiLabelBinarizer\n",
        "nltk.download('punkt')\n",
        "nltk.download('wordnet')\n",
        "nltk.download('stopwords')\n",
        "#Load up our stop words\n",
        "stop_words = stopwords.words('english')\n",
        "#Adds stuff to our stop words list\n"
      ],
      "metadata": {
        "colab": {
          "base_uri": "https://localhost:8080/"
        },
        "id": "j_Cry6qpSmwt",
        "outputId": "493e1d7f-8176-40a9-be7f-4fd788ba064a"
      },
      "execution_count": null,
      "outputs": [
        {
          "output_type": "stream",
          "name": "stderr",
          "text": [
            "[nltk_data] Downloading package punkt to /root/nltk_data...\n",
            "[nltk_data]   Unzipping tokenizers/punkt.zip.\n",
            "[nltk_data] Downloading package wordnet to /root/nltk_data...\n",
            "[nltk_data] Downloading package stopwords to /root/nltk_data...\n",
            "[nltk_data]   Unzipping corpora/stopwords.zip.\n"
          ]
        }
      ]
    },
    {
      "cell_type": "markdown",
      "source": [
        "### Load df, filtered dfs"
      ],
      "metadata": {
        "id": "0TIx14HWbd5X"
      }
    },
    {
      "cell_type": "code",
      "source": [
        "import pandas as pd\n",
        "import numpy as np\n",
        "\n",
        "df_temp = pd.read_csv(\"/content/drive/MyDrive/Fake news/dataset_enti_sum_processed.csv\", index_col=0)\n",
        "#df, ahol  disinfos sum + nltk sum a real newsokra\n",
        "df = pd.read_csv(\"/content/drive/MyDrive/Fake news/dataset_ent_sum.csv\", index_col=0)\n",
        "\n",
        "test = pd.read_csv('/content/drive/MyDrive/Fake news/test.csv', sep=';')\n",
        "\n",
        "\n",
        "df_real = pd.read_csv('/content/drive/MyDrive/Fake news/real.csv', index_col=0)\n",
        "df_fake = pd.read_csv('/content/drive/MyDrive/Fake news/fake.csv')\n",
        "\n",
        "df_fake = df_fake.drop(columns= ['tags_list'])\n",
        "df_real = df_real[df_real['year'] != 0]\n",
        "#filter df, hogy nagyjából kiegyensúlyozottak legyenek az osztályok\n",
        "df_fakefiltered = df_fake[df_fake['tags'].str.contains('war', case=False)| df_fake['tags'].str.contains('conspiracy', case=False) | df_fake['tags'].str.contains('War in Ukraine', case=False) | df_fake['tags'].str.contains('russia', case=False)| df_fake['tags'].str.contains('Ukraine', case=False)]\n",
        "\n",
        "df_real[\"summary\"] = df_real[\"content\"]\n",
        "df_fake['content'] = df_fake['summary']"
      ],
      "metadata": {
        "id": "6xqcDxmCSlBT"
      },
      "execution_count": null,
      "outputs": []
    },
    {
      "cell_type": "code",
      "source": [
        "df_real"
      ],
      "metadata": {
        "colab": {
          "base_uri": "https://localhost:8080/",
          "height": 1000
        },
        "id": "KjaaQDEdQmGR",
        "outputId": "7a07ce13-79c4-430a-c3ad-b3aef5b71a23"
      },
      "execution_count": null,
      "outputs": [
        {
          "output_type": "execute_result",
          "data": {
            "text/plain": [
              "                                                  title  \\\n",
              "0     Ukraine war: Zelensky says 31,000 troops kille...   \n",
              "1     Ukrainian woman gives Welsh pub new lease of life   \n",
              "2      Refugee returned to Kyiv due to state of UK home   \n",
              "3     The unlikely species entangled in Ukraine's re...   \n",
              "4     Ukraine war: Vatican envoy called in over Pope...   \n",
              "...                                                 ...   \n",
              "6623  Democrats have the power but the insurrectioni...   \n",
              "6624  Neo-fascists found their voice in Trump. Where...   \n",
              "6625  One frightening story reveals the true cost of...   \n",
              "6626         Yes, this kind of thing happens in America   \n",
              "6627  Can newly elected Brandon Scott be the mayor B...   \n",
              "\n",
              "                                                content             author  \\\n",
              "0     Volodymyr Zelensky says 31,000 Ukrainian soldi...  Kathryn Armstrong   \n",
              "1     A woman who fled war-torn Ukraine hopes that r...      Andrew Arthur   \n",
              "2     A Ukrainian refugee returned to live in Kyiv r...      Gemma Dunstan   \n",
              "3     Lawsuits, art and the sandy blind mole-rat hav...   Darya Tsymbalyuk   \n",
              "4     Ukraine has summoned the Vatican's envoy after...  Kathryn Armstrong   \n",
              "...                                                 ...                ...   \n",
              "6623  As the U.S. braced for the possibility of more...        Jaisal Noor   \n",
              "6624  As the U.S. braced for the possibility of more...       Marc Steiner   \n",
              "6625  As the U.S. braced for the possibility of more...        Taya Graham   \n",
              "6626  On Monday, congressional Democrats began an at...        Jaisal Noor   \n",
              "6627  EDITOR’S NOTE: One reason why The Real News Ne...       Lisa Snowden   \n",
              "\n",
              "                                                    url                 date  \\\n",
              "0            https://bbc.com/news/world-europe-68397525  2024-02-25 00:00:00   \n",
              "1            https://bbc.com/news/articles/cj7vlvy1yvro  2024-03-05 00:00:00   \n",
              "2            https://bbc.com/news/articles/c84jp1g2j71o  2024-03-14 00:00:00   \n",
              "3     https://bbc.com/future/article/20240223-ukrain...  2024-02-24 00:00:00   \n",
              "4            https://bbc.com/news/world-europe-68538267  2024-03-11 00:00:00   \n",
              "...                                                 ...                  ...   \n",
              "6623  https://therealnews.com/democrats-have-the-pow...  2021-01-15 00:00:00   \n",
              "6624  https://therealnews.com/neo-fascists-found-the...  2021-01-15 00:00:00   \n",
              "6625  https://therealnews.com/one-frightening-story-...  2021-01-14 00:00:00   \n",
              "6626  https://therealnews.com/yes-this-kind-of-thing...  2021-01-12 00:00:00   \n",
              "6627  https://therealnews.com/can-newly-elected-bran...  2021-01-12 00:00:00   \n",
              "\n",
              "        year  month   day  regions            tags  \\\n",
              "0     2024.0    2.0  25.0      NaN  War in Ukraine   \n",
              "1     2024.0    3.0   5.0      NaN  War in Ukraine   \n",
              "2     2024.0    3.0  14.0      NaN  War in Ukraine   \n",
              "3     2024.0    2.0  24.0      NaN  War in Ukraine   \n",
              "4     2024.0    3.0  11.0      NaN  War in Ukraine   \n",
              "...      ...    ...   ...      ...             ...   \n",
              "6623  2021.0    1.0  15.0      NaN             NaN   \n",
              "6624  2021.0    1.0  15.0      NaN             NaN   \n",
              "6625  2021.0    1.0  14.0      NaN             NaN   \n",
              "6626  2021.0    1.0  12.0      NaN             NaN   \n",
              "6627  2021.0    1.0  12.0      NaN             NaN   \n",
              "\n",
              "                                                summary  \\\n",
              "0     Volodymyr Zelensky says 31,000 Ukrainian soldi...   \n",
              "1     A woman who fled war-torn Ukraine hopes that r...   \n",
              "2     A Ukrainian refugee returned to live in Kyiv r...   \n",
              "3     Lawsuits, art and the sandy blind mole-rat hav...   \n",
              "4     Ukraine has summoned the Vatican's envoy after...   \n",
              "...                                                 ...   \n",
              "6623  As the U.S. braced for the possibility of more...   \n",
              "6624  As the U.S. braced for the possibility of more...   \n",
              "6625  As the U.S. braced for the possibility of more...   \n",
              "6626  On Monday, congressional Democrats began an at...   \n",
              "6627  EDITOR’S NOTE: One reason why The Real News Ne...   \n",
              "\n",
              "                                                og_link original_lang  label  \n",
              "0            https://bbc.com/news/world-europe-68397525            en      0  \n",
              "1            https://bbc.com/news/articles/cj7vlvy1yvro            en      0  \n",
              "2            https://bbc.com/news/articles/c84jp1g2j71o            en      0  \n",
              "3     https://bbc.com/future/article/20240223-ukrain...            en      0  \n",
              "4            https://bbc.com/news/world-europe-68538267            en      0  \n",
              "...                                                 ...           ...    ...  \n",
              "6623  https://therealnews.com/democrats-have-the-pow...       English      0  \n",
              "6624  https://therealnews.com/neo-fascists-found-the...       English      0  \n",
              "6625  https://therealnews.com/one-frightening-story-...       English      0  \n",
              "6626  https://therealnews.com/yes-this-kind-of-thing...       English      0  \n",
              "6627  https://therealnews.com/can-newly-elected-bran...       English      0  \n",
              "\n",
              "[6628 rows x 14 columns]"
            ],
            "text/html": [
              "\n",
              "  <div id=\"df-0663d6fd-1bca-4e48-941e-4f9742146b90\" class=\"colab-df-container\">\n",
              "    <div>\n",
              "<style scoped>\n",
              "    .dataframe tbody tr th:only-of-type {\n",
              "        vertical-align: middle;\n",
              "    }\n",
              "\n",
              "    .dataframe tbody tr th {\n",
              "        vertical-align: top;\n",
              "    }\n",
              "\n",
              "    .dataframe thead th {\n",
              "        text-align: right;\n",
              "    }\n",
              "</style>\n",
              "<table border=\"1\" class=\"dataframe\">\n",
              "  <thead>\n",
              "    <tr style=\"text-align: right;\">\n",
              "      <th></th>\n",
              "      <th>title</th>\n",
              "      <th>content</th>\n",
              "      <th>author</th>\n",
              "      <th>url</th>\n",
              "      <th>date</th>\n",
              "      <th>year</th>\n",
              "      <th>month</th>\n",
              "      <th>day</th>\n",
              "      <th>regions</th>\n",
              "      <th>tags</th>\n",
              "      <th>summary</th>\n",
              "      <th>og_link</th>\n",
              "      <th>original_lang</th>\n",
              "      <th>label</th>\n",
              "    </tr>\n",
              "  </thead>\n",
              "  <tbody>\n",
              "    <tr>\n",
              "      <th>0</th>\n",
              "      <td>Ukraine war: Zelensky says 31,000 troops kille...</td>\n",
              "      <td>Volodymyr Zelensky says 31,000 Ukrainian soldi...</td>\n",
              "      <td>Kathryn Armstrong</td>\n",
              "      <td>https://bbc.com/news/world-europe-68397525</td>\n",
              "      <td>2024-02-25 00:00:00</td>\n",
              "      <td>2024.0</td>\n",
              "      <td>2.0</td>\n",
              "      <td>25.0</td>\n",
              "      <td>NaN</td>\n",
              "      <td>War in Ukraine</td>\n",
              "      <td>Volodymyr Zelensky says 31,000 Ukrainian soldi...</td>\n",
              "      <td>https://bbc.com/news/world-europe-68397525</td>\n",
              "      <td>en</td>\n",
              "      <td>0</td>\n",
              "    </tr>\n",
              "    <tr>\n",
              "      <th>1</th>\n",
              "      <td>Ukrainian woman gives Welsh pub new lease of life</td>\n",
              "      <td>A woman who fled war-torn Ukraine hopes that r...</td>\n",
              "      <td>Andrew Arthur</td>\n",
              "      <td>https://bbc.com/news/articles/cj7vlvy1yvro</td>\n",
              "      <td>2024-03-05 00:00:00</td>\n",
              "      <td>2024.0</td>\n",
              "      <td>3.0</td>\n",
              "      <td>5.0</td>\n",
              "      <td>NaN</td>\n",
              "      <td>War in Ukraine</td>\n",
              "      <td>A woman who fled war-torn Ukraine hopes that r...</td>\n",
              "      <td>https://bbc.com/news/articles/cj7vlvy1yvro</td>\n",
              "      <td>en</td>\n",
              "      <td>0</td>\n",
              "    </tr>\n",
              "    <tr>\n",
              "      <th>2</th>\n",
              "      <td>Refugee returned to Kyiv due to state of UK home</td>\n",
              "      <td>A Ukrainian refugee returned to live in Kyiv r...</td>\n",
              "      <td>Gemma Dunstan</td>\n",
              "      <td>https://bbc.com/news/articles/c84jp1g2j71o</td>\n",
              "      <td>2024-03-14 00:00:00</td>\n",
              "      <td>2024.0</td>\n",
              "      <td>3.0</td>\n",
              "      <td>14.0</td>\n",
              "      <td>NaN</td>\n",
              "      <td>War in Ukraine</td>\n",
              "      <td>A Ukrainian refugee returned to live in Kyiv r...</td>\n",
              "      <td>https://bbc.com/news/articles/c84jp1g2j71o</td>\n",
              "      <td>en</td>\n",
              "      <td>0</td>\n",
              "    </tr>\n",
              "    <tr>\n",
              "      <th>3</th>\n",
              "      <td>The unlikely species entangled in Ukraine's re...</td>\n",
              "      <td>Lawsuits, art and the sandy blind mole-rat hav...</td>\n",
              "      <td>Darya Tsymbalyuk</td>\n",
              "      <td>https://bbc.com/future/article/20240223-ukrain...</td>\n",
              "      <td>2024-02-24 00:00:00</td>\n",
              "      <td>2024.0</td>\n",
              "      <td>2.0</td>\n",
              "      <td>24.0</td>\n",
              "      <td>NaN</td>\n",
              "      <td>War in Ukraine</td>\n",
              "      <td>Lawsuits, art and the sandy blind mole-rat hav...</td>\n",
              "      <td>https://bbc.com/future/article/20240223-ukrain...</td>\n",
              "      <td>en</td>\n",
              "      <td>0</td>\n",
              "    </tr>\n",
              "    <tr>\n",
              "      <th>4</th>\n",
              "      <td>Ukraine war: Vatican envoy called in over Pope...</td>\n",
              "      <td>Ukraine has summoned the Vatican's envoy after...</td>\n",
              "      <td>Kathryn Armstrong</td>\n",
              "      <td>https://bbc.com/news/world-europe-68538267</td>\n",
              "      <td>2024-03-11 00:00:00</td>\n",
              "      <td>2024.0</td>\n",
              "      <td>3.0</td>\n",
              "      <td>11.0</td>\n",
              "      <td>NaN</td>\n",
              "      <td>War in Ukraine</td>\n",
              "      <td>Ukraine has summoned the Vatican's envoy after...</td>\n",
              "      <td>https://bbc.com/news/world-europe-68538267</td>\n",
              "      <td>en</td>\n",
              "      <td>0</td>\n",
              "    </tr>\n",
              "    <tr>\n",
              "      <th>...</th>\n",
              "      <td>...</td>\n",
              "      <td>...</td>\n",
              "      <td>...</td>\n",
              "      <td>...</td>\n",
              "      <td>...</td>\n",
              "      <td>...</td>\n",
              "      <td>...</td>\n",
              "      <td>...</td>\n",
              "      <td>...</td>\n",
              "      <td>...</td>\n",
              "      <td>...</td>\n",
              "      <td>...</td>\n",
              "      <td>...</td>\n",
              "      <td>...</td>\n",
              "    </tr>\n",
              "    <tr>\n",
              "      <th>6623</th>\n",
              "      <td>Democrats have the power but the insurrectioni...</td>\n",
              "      <td>As the U.S. braced for the possibility of more...</td>\n",
              "      <td>Jaisal Noor</td>\n",
              "      <td>https://therealnews.com/democrats-have-the-pow...</td>\n",
              "      <td>2021-01-15 00:00:00</td>\n",
              "      <td>2021.0</td>\n",
              "      <td>1.0</td>\n",
              "      <td>15.0</td>\n",
              "      <td>NaN</td>\n",
              "      <td>NaN</td>\n",
              "      <td>As the U.S. braced for the possibility of more...</td>\n",
              "      <td>https://therealnews.com/democrats-have-the-pow...</td>\n",
              "      <td>English</td>\n",
              "      <td>0</td>\n",
              "    </tr>\n",
              "    <tr>\n",
              "      <th>6624</th>\n",
              "      <td>Neo-fascists found their voice in Trump. Where...</td>\n",
              "      <td>As the U.S. braced for the possibility of more...</td>\n",
              "      <td>Marc Steiner</td>\n",
              "      <td>https://therealnews.com/neo-fascists-found-the...</td>\n",
              "      <td>2021-01-15 00:00:00</td>\n",
              "      <td>2021.0</td>\n",
              "      <td>1.0</td>\n",
              "      <td>15.0</td>\n",
              "      <td>NaN</td>\n",
              "      <td>NaN</td>\n",
              "      <td>As the U.S. braced for the possibility of more...</td>\n",
              "      <td>https://therealnews.com/neo-fascists-found-the...</td>\n",
              "      <td>English</td>\n",
              "      <td>0</td>\n",
              "    </tr>\n",
              "    <tr>\n",
              "      <th>6625</th>\n",
              "      <td>One frightening story reveals the true cost of...</td>\n",
              "      <td>As the U.S. braced for the possibility of more...</td>\n",
              "      <td>Taya Graham</td>\n",
              "      <td>https://therealnews.com/one-frightening-story-...</td>\n",
              "      <td>2021-01-14 00:00:00</td>\n",
              "      <td>2021.0</td>\n",
              "      <td>1.0</td>\n",
              "      <td>14.0</td>\n",
              "      <td>NaN</td>\n",
              "      <td>NaN</td>\n",
              "      <td>As the U.S. braced for the possibility of more...</td>\n",
              "      <td>https://therealnews.com/one-frightening-story-...</td>\n",
              "      <td>English</td>\n",
              "      <td>0</td>\n",
              "    </tr>\n",
              "    <tr>\n",
              "      <th>6626</th>\n",
              "      <td>Yes, this kind of thing happens in America</td>\n",
              "      <td>On Monday, congressional Democrats began an at...</td>\n",
              "      <td>Jaisal Noor</td>\n",
              "      <td>https://therealnews.com/yes-this-kind-of-thing...</td>\n",
              "      <td>2021-01-12 00:00:00</td>\n",
              "      <td>2021.0</td>\n",
              "      <td>1.0</td>\n",
              "      <td>12.0</td>\n",
              "      <td>NaN</td>\n",
              "      <td>NaN</td>\n",
              "      <td>On Monday, congressional Democrats began an at...</td>\n",
              "      <td>https://therealnews.com/yes-this-kind-of-thing...</td>\n",
              "      <td>English</td>\n",
              "      <td>0</td>\n",
              "    </tr>\n",
              "    <tr>\n",
              "      <th>6627</th>\n",
              "      <td>Can newly elected Brandon Scott be the mayor B...</td>\n",
              "      <td>EDITOR’S NOTE: One reason why The Real News Ne...</td>\n",
              "      <td>Lisa Snowden</td>\n",
              "      <td>https://therealnews.com/can-newly-elected-bran...</td>\n",
              "      <td>2021-01-12 00:00:00</td>\n",
              "      <td>2021.0</td>\n",
              "      <td>1.0</td>\n",
              "      <td>12.0</td>\n",
              "      <td>NaN</td>\n",
              "      <td>NaN</td>\n",
              "      <td>EDITOR’S NOTE: One reason why The Real News Ne...</td>\n",
              "      <td>https://therealnews.com/can-newly-elected-bran...</td>\n",
              "      <td>English</td>\n",
              "      <td>0</td>\n",
              "    </tr>\n",
              "  </tbody>\n",
              "</table>\n",
              "<p>6628 rows × 14 columns</p>\n",
              "</div>\n",
              "    <div class=\"colab-df-buttons\">\n",
              "\n",
              "  <div class=\"colab-df-container\">\n",
              "    <button class=\"colab-df-convert\" onclick=\"convertToInteractive('df-0663d6fd-1bca-4e48-941e-4f9742146b90')\"\n",
              "            title=\"Convert this dataframe to an interactive table.\"\n",
              "            style=\"display:none;\">\n",
              "\n",
              "  <svg xmlns=\"http://www.w3.org/2000/svg\" height=\"24px\" viewBox=\"0 -960 960 960\">\n",
              "    <path d=\"M120-120v-720h720v720H120Zm60-500h600v-160H180v160Zm220 220h160v-160H400v160Zm0 220h160v-160H400v160ZM180-400h160v-160H180v160Zm440 0h160v-160H620v160ZM180-180h160v-160H180v160Zm440 0h160v-160H620v160Z\"/>\n",
              "  </svg>\n",
              "    </button>\n",
              "\n",
              "  <style>\n",
              "    .colab-df-container {\n",
              "      display:flex;\n",
              "      gap: 12px;\n",
              "    }\n",
              "\n",
              "    .colab-df-convert {\n",
              "      background-color: #E8F0FE;\n",
              "      border: none;\n",
              "      border-radius: 50%;\n",
              "      cursor: pointer;\n",
              "      display: none;\n",
              "      fill: #1967D2;\n",
              "      height: 32px;\n",
              "      padding: 0 0 0 0;\n",
              "      width: 32px;\n",
              "    }\n",
              "\n",
              "    .colab-df-convert:hover {\n",
              "      background-color: #E2EBFA;\n",
              "      box-shadow: 0px 1px 2px rgba(60, 64, 67, 0.3), 0px 1px 3px 1px rgba(60, 64, 67, 0.15);\n",
              "      fill: #174EA6;\n",
              "    }\n",
              "\n",
              "    .colab-df-buttons div {\n",
              "      margin-bottom: 4px;\n",
              "    }\n",
              "\n",
              "    [theme=dark] .colab-df-convert {\n",
              "      background-color: #3B4455;\n",
              "      fill: #D2E3FC;\n",
              "    }\n",
              "\n",
              "    [theme=dark] .colab-df-convert:hover {\n",
              "      background-color: #434B5C;\n",
              "      box-shadow: 0px 1px 3px 1px rgba(0, 0, 0, 0.15);\n",
              "      filter: drop-shadow(0px 1px 2px rgba(0, 0, 0, 0.3));\n",
              "      fill: #FFFFFF;\n",
              "    }\n",
              "  </style>\n",
              "\n",
              "    <script>\n",
              "      const buttonEl =\n",
              "        document.querySelector('#df-0663d6fd-1bca-4e48-941e-4f9742146b90 button.colab-df-convert');\n",
              "      buttonEl.style.display =\n",
              "        google.colab.kernel.accessAllowed ? 'block' : 'none';\n",
              "\n",
              "      async function convertToInteractive(key) {\n",
              "        const element = document.querySelector('#df-0663d6fd-1bca-4e48-941e-4f9742146b90');\n",
              "        const dataTable =\n",
              "          await google.colab.kernel.invokeFunction('convertToInteractive',\n",
              "                                                    [key], {});\n",
              "        if (!dataTable) return;\n",
              "\n",
              "        const docLinkHtml = 'Like what you see? Visit the ' +\n",
              "          '<a target=\"_blank\" href=https://colab.research.google.com/notebooks/data_table.ipynb>data table notebook</a>'\n",
              "          + ' to learn more about interactive tables.';\n",
              "        element.innerHTML = '';\n",
              "        dataTable['output_type'] = 'display_data';\n",
              "        await google.colab.output.renderOutput(dataTable, element);\n",
              "        const docLink = document.createElement('div');\n",
              "        docLink.innerHTML = docLinkHtml;\n",
              "        element.appendChild(docLink);\n",
              "      }\n",
              "    </script>\n",
              "  </div>\n",
              "\n",
              "\n",
              "<div id=\"df-7ee1d39e-c4d5-412d-8320-5cb4a03b630d\">\n",
              "  <button class=\"colab-df-quickchart\" onclick=\"quickchart('df-7ee1d39e-c4d5-412d-8320-5cb4a03b630d')\"\n",
              "            title=\"Suggest charts\"\n",
              "            style=\"display:none;\">\n",
              "\n",
              "<svg xmlns=\"http://www.w3.org/2000/svg\" height=\"24px\"viewBox=\"0 0 24 24\"\n",
              "     width=\"24px\">\n",
              "    <g>\n",
              "        <path d=\"M19 3H5c-1.1 0-2 .9-2 2v14c0 1.1.9 2 2 2h14c1.1 0 2-.9 2-2V5c0-1.1-.9-2-2-2zM9 17H7v-7h2v7zm4 0h-2V7h2v10zm4 0h-2v-4h2v4z\"/>\n",
              "    </g>\n",
              "</svg>\n",
              "  </button>\n",
              "\n",
              "<style>\n",
              "  .colab-df-quickchart {\n",
              "      --bg-color: #E8F0FE;\n",
              "      --fill-color: #1967D2;\n",
              "      --hover-bg-color: #E2EBFA;\n",
              "      --hover-fill-color: #174EA6;\n",
              "      --disabled-fill-color: #AAA;\n",
              "      --disabled-bg-color: #DDD;\n",
              "  }\n",
              "\n",
              "  [theme=dark] .colab-df-quickchart {\n",
              "      --bg-color: #3B4455;\n",
              "      --fill-color: #D2E3FC;\n",
              "      --hover-bg-color: #434B5C;\n",
              "      --hover-fill-color: #FFFFFF;\n",
              "      --disabled-bg-color: #3B4455;\n",
              "      --disabled-fill-color: #666;\n",
              "  }\n",
              "\n",
              "  .colab-df-quickchart {\n",
              "    background-color: var(--bg-color);\n",
              "    border: none;\n",
              "    border-radius: 50%;\n",
              "    cursor: pointer;\n",
              "    display: none;\n",
              "    fill: var(--fill-color);\n",
              "    height: 32px;\n",
              "    padding: 0;\n",
              "    width: 32px;\n",
              "  }\n",
              "\n",
              "  .colab-df-quickchart:hover {\n",
              "    background-color: var(--hover-bg-color);\n",
              "    box-shadow: 0 1px 2px rgba(60, 64, 67, 0.3), 0 1px 3px 1px rgba(60, 64, 67, 0.15);\n",
              "    fill: var(--button-hover-fill-color);\n",
              "  }\n",
              "\n",
              "  .colab-df-quickchart-complete:disabled,\n",
              "  .colab-df-quickchart-complete:disabled:hover {\n",
              "    background-color: var(--disabled-bg-color);\n",
              "    fill: var(--disabled-fill-color);\n",
              "    box-shadow: none;\n",
              "  }\n",
              "\n",
              "  .colab-df-spinner {\n",
              "    border: 2px solid var(--fill-color);\n",
              "    border-color: transparent;\n",
              "    border-bottom-color: var(--fill-color);\n",
              "    animation:\n",
              "      spin 1s steps(1) infinite;\n",
              "  }\n",
              "\n",
              "  @keyframes spin {\n",
              "    0% {\n",
              "      border-color: transparent;\n",
              "      border-bottom-color: var(--fill-color);\n",
              "      border-left-color: var(--fill-color);\n",
              "    }\n",
              "    20% {\n",
              "      border-color: transparent;\n",
              "      border-left-color: var(--fill-color);\n",
              "      border-top-color: var(--fill-color);\n",
              "    }\n",
              "    30% {\n",
              "      border-color: transparent;\n",
              "      border-left-color: var(--fill-color);\n",
              "      border-top-color: var(--fill-color);\n",
              "      border-right-color: var(--fill-color);\n",
              "    }\n",
              "    40% {\n",
              "      border-color: transparent;\n",
              "      border-right-color: var(--fill-color);\n",
              "      border-top-color: var(--fill-color);\n",
              "    }\n",
              "    60% {\n",
              "      border-color: transparent;\n",
              "      border-right-color: var(--fill-color);\n",
              "    }\n",
              "    80% {\n",
              "      border-color: transparent;\n",
              "      border-right-color: var(--fill-color);\n",
              "      border-bottom-color: var(--fill-color);\n",
              "    }\n",
              "    90% {\n",
              "      border-color: transparent;\n",
              "      border-bottom-color: var(--fill-color);\n",
              "    }\n",
              "  }\n",
              "</style>\n",
              "\n",
              "  <script>\n",
              "    async function quickchart(key) {\n",
              "      const quickchartButtonEl =\n",
              "        document.querySelector('#' + key + ' button');\n",
              "      quickchartButtonEl.disabled = true;  // To prevent multiple clicks.\n",
              "      quickchartButtonEl.classList.add('colab-df-spinner');\n",
              "      try {\n",
              "        const charts = await google.colab.kernel.invokeFunction(\n",
              "            'suggestCharts', [key], {});\n",
              "      } catch (error) {\n",
              "        console.error('Error during call to suggestCharts:', error);\n",
              "      }\n",
              "      quickchartButtonEl.classList.remove('colab-df-spinner');\n",
              "      quickchartButtonEl.classList.add('colab-df-quickchart-complete');\n",
              "    }\n",
              "    (() => {\n",
              "      let quickchartButtonEl =\n",
              "        document.querySelector('#df-7ee1d39e-c4d5-412d-8320-5cb4a03b630d button');\n",
              "      quickchartButtonEl.style.display =\n",
              "        google.colab.kernel.accessAllowed ? 'block' : 'none';\n",
              "    })();\n",
              "  </script>\n",
              "</div>\n",
              "    </div>\n",
              "  </div>\n"
            ],
            "application/vnd.google.colaboratory.intrinsic+json": {
              "type": "dataframe",
              "variable_name": "df_real",
              "summary": "{\n  \"name\": \"df_real\",\n  \"rows\": 6628,\n  \"fields\": [\n    {\n      \"column\": \"title\",\n      \"properties\": {\n        \"dtype\": \"string\",\n        \"num_unique_values\": 5080,\n        \"samples\": [\n          \"Ukraine war: Market hit as Russians shell frontline city Slovyansk\",\n          \"Leaked memo reveals Baltimore officials\\u2019 alarm over costs of obscure tax break for corporate developers\",\n          \"Putin's fifth term as Russian president was predictable, but what comes next?\"\n        ],\n        \"semantic_type\": \"\",\n        \"description\": \"\"\n      }\n    },\n    {\n      \"column\": \"content\",\n      \"properties\": {\n        \"dtype\": \"string\",\n        \"num_unique_values\": 4713,\n        \"samples\": [\n          \"The United States has historically been reluctant to accuse states of genocide. The UN Genocide Convention, of which the US is a signatory, requires countries to intervene once genocide is formally identified. But amid mounting evidence of atrocities in Ukraine, President Joe Biden has now accused Russian President Vladimir Putin of being guilty of what has been called the \\\"crime of all crimes\\\". He said President Putin was committing acts of genocide by trying to \\\"wipe out the idea\\\" of a Ukrainian identity. Not everyone is ready to go as far. French President Emmanuel Macron said he was reluctant to use the word, stating that he was \\\"not sure that an escalation of rhetoric serves that cause\\\". But what is genocide, and is there evidence that Russia is guilty of the crime in Ukraine? The BBC's George Wright took a look at the arguments for and against accusing President Putin of genocide. Russia is keeping up its assault on one of its key targets, the southern port city of Mariupol. If captured, it would be only the second major city after Kherson to fall since the war began, and pave the way for a broader Russian campaign in the east. The human cost has been immense: Mariupol's mayor says as many as 21,000 civilians have been killed in the southern city and 100,000 are still awaiting evacuation. Meanwhile, Ukraine has denied Russian reports of more than 1,000 marines surrendering in the city. One of them - a British man - told family there were no weapons left to fight. For a full picture of the fighting on the ground, our Visual Journalism team have been tracking the conflict in maps. When the Russians retreated from Bucha, one of several towns they occupied north of the capital Kyiv, a massive operation began to find and document the dead. One of the bodies belonged to Vitaliy, a former cook who moved to Bucha two years ago. \\\"He was living a peaceful life here,\\\" his brother Serhiy said. \\\"He was a normal guy, that's all, a kind-hearted man. He gave his all.\\\" At least 500 dead have been found since the Russians left. The BBC's Joel Gunter joined the local police officers and bereaved families as they carried out their grim task. One of Russia's main concerns has been the prospect of Ukraine joining Nato, but a consequence of the conflict may be that the bloc gains two new members anyway. Finnish Prime Minister Sanna Marin says her country will decide whether to apply to join Nato \\\"within weeks\\\". She was speaking at a news conference alongside her Swedish counterpart - Sweden too is considering membership. As our Diplomatic Correspondent James Landale notes, Russia's invasion of Ukraine is transforming European security. Viktor Medvedchuk is a wealthy businessman who is close to Russia's President Vladimir Putin. So close, in fact, that his daughter has President Putin as a godfather. For years Ukraine tolerated him as a useful channel to the Kremlin. But last year, he was charged with treason and soon after Russia's invasion he escaped house arrest. Ukraine has now recaptured him. On Wednesday security chief Ivan Bakanov gave more details of the operation. He said Ukrainian agents thwarted a plot by Russia's Federal Security Service to smuggle him across the border into Moldova, and then on to Moscow.\",\n          \"Around 3,000 Indians are estimated to be stranded in Sudan amid fierce fighting between the country's army and a paramilitary force. This number includes around 100 people from the Hakki-Pikki tribe - a nomadic tribe from the southern state of Karnataka - who were in Sudan to sell herbal medicine and products. Their plight had sparked a political row in India after the country's foreign minister, S Jaishankar, accused an opposition Congress leader of \\\"playing politics\\\" when he tweeted a request to ensure their safe return to India. Elections in Karnataka will be held next month. BBC Hindi spoke to some members of the Hakki-Pikki tribe in Sudan, who said they are living in fear and have little access to necessities such as food and water. While most of them are in the capital Khartoum - where the clashes are intense - others are in the western city of Al-Fashir, 1,000km away from the capital. The fighting, which has been raging since last week, is the result of a power struggle between Sudan's regular army and a paramilitary unit called the Rapid Support Forces. The death toll caused by the fighting is unclear, but the Central Committee of Sudanese Doctors (CCSD) said on Tuesday that at least 174 civilians had been killed in the violence. \\\"It is extremely scary. Heavy firing takes place nearby, mainly in the mornings and evenings. It continues late into the night,\\\" says Prabhu S, a member of the Hakki-Pikki tribe who is in Al-Fashir. \\\"`We are living in a hotel where the employees went away five days ago, soon after the fighting started,\\\" says Sanju Pitaji, who is stuck in Khartoum. \\\"We are surviving on some leftover bread and drinking water from the tap in the washroom. Ten of us are living in this room,\\\" he says. According to the 2011 Census, there are about 12,000 Hakki-Pikkis in Karnataka. \\\"Hakki-Pikki\\\" translates to bird-hunters in the Kannada language, but after bird-hunting was banned in India in the 1970s, members of the tribe began making medicinal products from plants to make ends meet. They travel to countries like Sudan, Singapore and Malaysia, often with their families, to sell these products, says Dr DC Nanjunda, an anthropologist and deputy director at the Centre for Study of Social Exclusion and Inclusive Policy, University of Mysore. \\\"During our research, we found that all members of the community have a passport. They speak a language called 'Vaagari' in which you will find some traces of Gujarati,\\\" Dr Nanjunda said. They claim that the herbal and ayurvedic oil extracts can treat various ailments, ranging from gastric problems to hair loss. \\\"They stay there for about five-six months, earning anywhere between 2,000 rupees ($24; \\u00a320) and 3,000 rupees per day and then return home,'' says Raghuveer, 33, a school teacher from the Hakki-Pikki community who lives in Karnataka. His sister, brother-in-law and five other relatives left for Sudan five months ago. They had to take a loan of 500,000 rupees to travel abroad, he says. \\\"I spoke to my sister about 10 days ago but haven't been able to since then,'' he adds. Back in Khartoum, community members say they have been cautioned by Indian authorities not to step out of their homes. Sanju and his wife, who are currently stuck without electricity, were scheduled to take a flight back to India on 18 April, but the airport is shut. \\\"Indian embassy officials got in touch with us and told us not to move out. But how long do we wait indoors?'' he asks. BBC News India is now on YouTube. Click here to subscribe and watch our documentaries, explainers and features.\",\n          \"David Michaud had just checked into a motel in Hot Springs, MT when he was approached by local police and ordered to present identification. After Michaud demanded to know why he was being questioned, a contentious exchange ensued that ended with police tasering Michaud multiple times. Michaud, who is Chamorro, was asked by officers whether he was \\u201ctribal\\u201d before being tasered and arrested. Police gave multiple and conflicting reasons for Michaud\\u2019s treatment, from an alleged busted tail light to failing to present ID. Once they had Michaud detained, local authorities pressed DUI charges against him.\\u00a0Police Accountability Report\\u00a0investigates this case of police abuse of power and violence in small town Montana, speaking directly to David Michaud about his ordeal. Production: Stephen JanisPost-Production: Stephen Janis, Adam Coley The following is a rushed transcript and may contain errors. A proofread version will be made available as soon as possible. Taya Graham: Hello, my name is Taya Graham, and welcome to the Police Accountability Report. As I always make clear, this show has a single purpose, holding the politically powerful institution of policing accountable. And to do so, we don\\u2019t just focus on the bad behavior of individual cops. Instead, we examine the system that makes bad policing possible. And today, we will achieve that goal by showing you this video of a Montana man who was arrested, and then later charged with a DUI while checking into a motel room. I\\u2019m not kidding, but it\\u2019s why police charged him and what they did after he was cuffed that shows just how much the power of police in rural communities warrants more attention. But, before I get started, I want you watching to know that if you have video evidence of police misconduct, please email it to us privately at par@therealnews.com, or message me at Police Accountability Reports on Facebook. And please like, share and comment on our videos to help our videos and our guests, and you know I read your comments and appreciate them. Even if I don\\u2019t get to answer all of them, I promise you, I read them. And we do have a Patreon link, Accountability Reports, pinned in the comments below, so if you feel inspired to donate, please do. We don\\u2019t run ads or take corporate dollars, so anything you can spare is truly appreciated. All right, we\\u2019ve gotten that out of the way. Now, if there is one thing Steven and I have learned covering police across this country, it\\u2019s that rural law enforcement is often as questionable and misguided as their more visible urban counterparts. In fact, in some cases, it seems to us, that cops who work in small communities often act with more impunity, not less, than big city police. Case in point is this video you are watching right now. It depicts the arrest of a man named David Michaud in Hot Springs, Montana in April of 2023. Michaud was driving his car across a parking lot after checking into a hotel room for the night. But suddenly, a Hot Springs Montana police officer swerves into the parking lot and pulls Michaud out of his car. Let\\u2019s watch. Wendy: He\\u2019s not harmful. He\\u2019s not going to hurt you. He doesn\\u2019t have any weapons. David: Will you get away from me? Police Officer: Hands behind your back. Wait, put your hands behind your back. You understand? David: Wait. Police Officer: Put your hands behind your back. Wendy: I\\u2019m recording. David: Can my wife- Police Officer: Hands behind your back. David: Can I give my wife my [inaudible 00:02:29]. Police Officer: Put your hands, yeah. David: Dude, stop attacking me, okay? I\\u2019m not going to hurt you. Wendy: I already have the keys. David: I\\u2019m not trying to get away. I\\u2019m not trying to do anything. [inaudible 00:02:36]. Can I give my wife the keys?\"\n        ],\n        \"semantic_type\": \"\",\n        \"description\": \"\"\n      }\n    },\n    {\n      \"column\": \"author\",\n      \"properties\": {\n        \"dtype\": \"category\",\n        \"num_unique_values\": 1217,\n        \"samples\": [\n          \"David Gregory-Kumar\",\n          \"Hannah Roberts & Jasmine Ketibuah-Foley\",\n          \"Frances Mao\"\n        ],\n        \"semantic_type\": \"\",\n        \"description\": \"\"\n      }\n    },\n    {\n      \"column\": \"url\",\n      \"properties\": {\n        \"dtype\": \"string\",\n        \"num_unique_values\": 5084,\n        \"samples\": [\n          \"https://therealnews.com/post-9-11-militarization-has-cost-21-trillion-heres-where-that-money-could-have-gone\",\n          \"https://bbc.com/news/world-europe-63049386\",\n          \"https://bbc.com/news/uk-scotland-60385397\"\n        ],\n        \"semantic_type\": \"\",\n        \"description\": \"\"\n      }\n    },\n    {\n      \"column\": \"date\",\n      \"properties\": {\n        \"dtype\": \"object\",\n        \"num_unique_values\": 1176,\n        \"samples\": [\n          \"2023-12-01 00:00:00\",\n          \"2022-09-07 00:00:00\",\n          \"2023-12-27 00:00:00\"\n        ],\n        \"semantic_type\": \"\",\n        \"description\": \"\"\n      }\n    },\n    {\n      \"column\": \"year\",\n      \"properties\": {\n        \"dtype\": \"number\",\n        \"std\": 1.3063367076478585,\n        \"min\": 2010.0,\n        \"max\": 2024.0,\n        \"num_unique_values\": 15,\n        \"samples\": [\n          2020.0,\n          2012.0,\n          2024.0\n        ],\n        \"semantic_type\": \"\",\n        \"description\": \"\"\n      }\n    },\n    {\n      \"column\": \"month\",\n      \"properties\": {\n        \"dtype\": \"number\",\n        \"std\": 3.488623590671667,\n        \"min\": 1.0,\n        \"max\": 12.0,\n        \"num_unique_values\": 12,\n        \"samples\": [\n          6.0,\n          9.0,\n          2.0\n        ],\n        \"semantic_type\": \"\",\n        \"description\": \"\"\n      }\n    },\n    {\n      \"column\": \"day\",\n      \"properties\": {\n        \"dtype\": \"number\",\n        \"std\": 8.736184838546356,\n        \"min\": 1.0,\n        \"max\": 31.0,\n        \"num_unique_values\": 31,\n        \"samples\": [\n          21.0,\n          6.0,\n          26.0\n        ],\n        \"semantic_type\": \"\",\n        \"description\": \"\"\n      }\n    },\n    {\n      \"column\": \"regions\",\n      \"properties\": {\n        \"dtype\": \"number\",\n        \"std\": null,\n        \"min\": null,\n        \"max\": null,\n        \"num_unique_values\": 0,\n        \"samples\": [],\n        \"semantic_type\": \"\",\n        \"description\": \"\"\n      }\n    },\n    {\n      \"column\": \"tags\",\n      \"properties\": {\n        \"dtype\": \"category\",\n        \"num_unique_values\": 1,\n        \"samples\": [],\n        \"semantic_type\": \"\",\n        \"description\": \"\"\n      }\n    },\n    {\n      \"column\": \"summary\",\n      \"properties\": {\n        \"dtype\": \"string\",\n        \"num_unique_values\": 4713,\n        \"samples\": [],\n        \"semantic_type\": \"\",\n        \"description\": \"\"\n      }\n    },\n    {\n      \"column\": \"og_link\",\n      \"properties\": {\n        \"dtype\": \"string\",\n        \"num_unique_values\": 5084,\n        \"samples\": [],\n        \"semantic_type\": \"\",\n        \"description\": \"\"\n      }\n    },\n    {\n      \"column\": \"original_lang\",\n      \"properties\": {\n        \"dtype\": \"category\",\n        \"num_unique_values\": 2,\n        \"samples\": [],\n        \"semantic_type\": \"\",\n        \"description\": \"\"\n      }\n    },\n    {\n      \"column\": \"label\",\n      \"properties\": {\n        \"dtype\": \"number\",\n        \"std\": 0,\n        \"min\": 0,\n        \"max\": 0,\n        \"num_unique_values\": 1,\n        \"samples\": [],\n        \"semantic_type\": \"\",\n        \"description\": \"\"\n      }\n    }\n  ]\n}"
            }
          },
          "metadata": {},
          "execution_count": 4
        }
      ]
    },
    {
      "cell_type": "code",
      "source": [
        "df_fakefiltered.info()"
      ],
      "metadata": {
        "colab": {
          "base_uri": "https://localhost:8080/"
        },
        "id": "5iwrRrFerYYi",
        "outputId": "411704be-1c89-4808-ba52-899bfeec958e"
      },
      "execution_count": null,
      "outputs": [
        {
          "output_type": "stream",
          "name": "stdout",
          "text": [
            "<class 'pandas.core.frame.DataFrame'>\n",
            "Index: 6250 entries, 1 to 10163\n",
            "Data columns (total 13 columns):\n",
            " #   Column         Non-Null Count  Dtype \n",
            "---  ------         --------------  ----- \n",
            " 0   title          6250 non-null   object\n",
            " 1   author         6250 non-null   object\n",
            " 2   url            6250 non-null   object\n",
            " 3   date           6250 non-null   object\n",
            " 4   year           6250 non-null   int64 \n",
            " 5   month          6250 non-null   int64 \n",
            " 6   day            6250 non-null   int64 \n",
            " 7   regions        6250 non-null   object\n",
            " 8   tags           6250 non-null   object\n",
            " 9   summary        6092 non-null   object\n",
            " 10  og_link        6178 non-null   object\n",
            " 11  original_lang  6250 non-null   object\n",
            " 12  label          6250 non-null   int64 \n",
            "dtypes: int64(4), object(9)\n",
            "memory usage: 812.6+ KB\n"
          ]
        }
      ]
    },
    {
      "cell_type": "code",
      "source": [
        "df_fake.isna().sum()"
      ],
      "metadata": {
        "colab": {
          "base_uri": "https://localhost:8080/"
        },
        "id": "FHqNo7B1uwH1",
        "outputId": "fbec4a53-8000-4b77-c92a-ebed74af7f89"
      },
      "execution_count": null,
      "outputs": [
        {
          "output_type": "execute_result",
          "data": {
            "text/plain": [
              "title              0\n",
              "author             0\n",
              "url                0\n",
              "date               0\n",
              "year               0\n",
              "month              0\n",
              "day                0\n",
              "regions            0\n",
              "tags               0\n",
              "summary          233\n",
              "og_link           80\n",
              "original_lang      0\n",
              "label              0\n",
              "content          233\n",
              "dtype: int64"
            ]
          },
          "metadata": {},
          "execution_count": 6
        }
      ]
    },
    {
      "cell_type": "code",
      "source": [],
      "metadata": {
        "colab": {
          "base_uri": "https://localhost:8080/",
          "height": 141
        },
        "id": "Y2u0JpM6g6B4",
        "outputId": "59c05c92-0735-4748-d8cd-7879546e6cda"
      },
      "execution_count": null,
      "outputs": [
        {
          "output_type": "error",
          "ename": "NameError",
          "evalue": "name 'df_temp' is not defined",
          "traceback": [
            "\u001b[0;31m---------------------------------------------------------------------------\u001b[0m",
            "\u001b[0;31mNameError\u001b[0m                                 Traceback (most recent call last)",
            "\u001b[0;32m<ipython-input-8-cd2be5b3bdf4>\u001b[0m in \u001b[0;36m<cell line: 1>\u001b[0;34m()\u001b[0m\n\u001b[0;32m----> 1\u001b[0;31m \u001b[0mdf_temp\u001b[0m\u001b[0;34m\u001b[0m\u001b[0;34m\u001b[0m\u001b[0m\n\u001b[0m",
            "\u001b[0;31mNameError\u001b[0m: name 'df_temp' is not defined"
          ]
        }
      ]
    },
    {
      "cell_type": "code",
      "source": [
        "df_real['tags'] = \"War in Ukraine\"\n",
        "df_real.head()\n",
        "df_real.to_csv(\"real.csv\")"
      ],
      "metadata": {
        "id": "UHnLfbeXSpj1"
      },
      "execution_count": null,
      "outputs": []
    },
    {
      "cell_type": "markdown",
      "source": [
        "### NLTK summary"
      ],
      "metadata": {
        "id": "A1j0htqqYpQQ"
      }
    },
    {
      "cell_type": "code",
      "source": [
        "import nltk\n",
        "from nltk.corpus import stopwords\n",
        "from nltk.tokenize import sent_tokenize, word_tokenize\n",
        "from collections import Counter\n",
        "\n",
        "# Ensure you've downloaded the necessary NLTK data\n",
        "nltk.download('punkt')\n",
        "nltk.download('stopwords')\n",
        "\n",
        "def nltk_summarize(text, num_sentences=7):\n",
        "    # Tokenize the text into sentences\n",
        "    sentences = sent_tokenize(text)\n",
        "    # Tokenize and lower case words, remove stopwords\n",
        "    stop_words = set(stopwords.words('english'))\n",
        "    words = [word.lower() for word in word_tokenize(text) if word.lower() not in stop_words and word.isalnum()]\n",
        "\n",
        "    # Count word frequencies\n",
        "    word_frequencies = Counter(words)\n",
        "    # Rank sentences by the sum of word frequencies\n",
        "    sentence_ranks = {sentence: sum(word_frequencies[word.lower()] for word in word_tokenize(sentence) if word.lower() in word_frequencies and word.isalnum()) for sentence in sentences}\n",
        "    # Select top N ranked sentences\n",
        "    ranked_sentences = sorted(sentence_ranks, key=sentence_ranks.get, reverse=True)[:num_sentences]\n",
        "\n",
        "    # Return concatenated top ranked sentences as the summary\n",
        "    return ' '.join(ranked_sentences)\n",
        "\n",
        "# Example usage\n",
        "\n",
        "\n"
      ],
      "metadata": {
        "colab": {
          "base_uri": "https://localhost:8080/"
        },
        "id": "B0-vyislS9CP",
        "outputId": "734484a5-1be1-4647-9a6d-16c430030d3b"
      },
      "execution_count": null,
      "outputs": [
        {
          "output_type": "stream",
          "name": "stderr",
          "text": [
            "[nltk_data] Downloading package punkt to /root/nltk_data...\n",
            "[nltk_data]   Package punkt is already up-to-date!\n",
            "[nltk_data] Downloading package stopwords to /root/nltk_data...\n",
            "[nltk_data]   Package stopwords is already up-to-date!\n"
          ]
        }
      ]
    },
    {
      "cell_type": "code",
      "source": [
        "df_real['summary_nltk'] = df_real['content'].apply(lambda x: nltk_summarize(x) )\n"
      ],
      "metadata": {
        "id": "VM2_vSBDCOig"
      },
      "execution_count": null,
      "outputs": []
    },
    {
      "cell_type": "code",
      "source": [
        "df_fakefiltered.loc[:,'summary_nltk'] = df_fakefiltered['summary']\n",
        "#df_fakefiltered['summarized_sumy'] = df_fakefiltered['summary']\n",
        "\n",
        "df_fakefiltered.loc[:,'content'] = df_fakefiltered['summary']"
      ],
      "metadata": {
        "id": "poCF5UzDl363",
        "colab": {
          "base_uri": "https://localhost:8080/"
        },
        "outputId": "3b73f765-5730-4771-d166-583e611859c3"
      },
      "execution_count": null,
      "outputs": [
        {
          "output_type": "stream",
          "name": "stderr",
          "text": [
            "<ipython-input-11-7db8705fb6e0>:1: SettingWithCopyWarning: \n",
            "A value is trying to be set on a copy of a slice from a DataFrame.\n",
            "Try using .loc[row_indexer,col_indexer] = value instead\n",
            "\n",
            "See the caveats in the documentation: https://pandas.pydata.org/pandas-docs/stable/user_guide/indexing.html#returning-a-view-versus-a-copy\n",
            "  df_fakefiltered.loc[:,'summary_nltk'] = df_fakefiltered['summary']\n",
            "<ipython-input-11-7db8705fb6e0>:4: SettingWithCopyWarning: \n",
            "A value is trying to be set on a copy of a slice from a DataFrame.\n",
            "Try using .loc[row_indexer,col_indexer] = value instead\n",
            "\n",
            "See the caveats in the documentation: https://pandas.pydata.org/pandas-docs/stable/user_guide/indexing.html#returning-a-view-versus-a-copy\n",
            "  df_fakefiltered.loc[:,'content'] = df_fakefiltered['summary']\n"
          ]
        }
      ]
    },
    {
      "cell_type": "code",
      "source": [
        "df = pd.DataFrame()\n",
        "df = pd.concat([df_fakefiltered, df_real])\n",
        "random_indexes = np.random.randint(0,len(df),len(df))\n",
        "df = df.iloc[random_indexes].reset_index(drop=True)\n",
        "df = df.drop(columns= ['content'])"
      ],
      "metadata": {
        "id": "D3bgjZA2l2wE"
      },
      "execution_count": null,
      "outputs": []
    },
    {
      "cell_type": "code",
      "source": [
        "df"
      ],
      "metadata": {
        "colab": {
          "base_uri": "https://localhost:8080/",
          "height": 1000
        },
        "id": "id2CQpkAqo9-",
        "outputId": "a4770ffd-cfb8-463b-f5d8-f3fd9f5cea8a"
      },
      "execution_count": null,
      "outputs": [
        {
          "output_type": "execute_result",
          "data": {
            "text/plain": [
              "                                                   title  \\\n",
              "0      There is a Western pressure campaign against R...   \n",
              "1      World's most expensive cities: New York and Si...   \n",
              "2      Ukraine: Bath woman says visa scheme an 'absol...   \n",
              "3             Swedes cheer end of long wait to join Nato   \n",
              "4      Misinformation spreads in China on ‘civil war’...   \n",
              "...                                                  ...   \n",
              "12873                     What’s next for Julian Assange   \n",
              "12874  Leaders of NATO's European countries are compl...   \n",
              "12875  Secret classes to counter Russian brainwashing...   \n",
              "12876  Neo-Nazis commit genocide in Ukraine, Russia f...   \n",
              "12877  Ukraine war: UK to send more military equipmen...   \n",
              "\n",
              "                     author  \\\n",
              "0                        na   \n",
              "1              Malu Cursino   \n",
              "2                       NaN   \n",
              "3              Maddy Savage   \n",
              "4               Kerry Allen   \n",
              "...                     ...   \n",
              "12873    Alexander Zaitchik   \n",
              "12874                    na   \n",
              "12875  Anastasiia Levchenko   \n",
              "12876                    na   \n",
              "12877          James Clarke   \n",
              "\n",
              "                                                     url                 date  \\\n",
              "0      https://euvsdisinfo.eu/report/western-pressure...           2020-02-06   \n",
              "1                    https://bbc.com/news/world-63825214  2022-12-01 00:00:00   \n",
              "2      https://bbc.com/news/uk-england-somerset-61113570  2022-04-15 00:00:00   \n",
              "3             https://bbc.com/news/world-europe-68509301  2024-03-08 00:00:00   \n",
              "4          https://bbc.com/news/world-us-canada-68185317  2024-02-02 00:00:00   \n",
              "...                                                  ...                  ...   \n",
              "12873  https://therealnews.com/whats-next-for-julian-...  2024-02-23 00:00:00   \n",
              "12874  https://euvsdisinfo.eu/report/leaders-of-natos...           2021-10-22   \n",
              "12875                https://bbc.com/news/world-68578822  2024-03-16 00:00:00   \n",
              "12876  https://euvsdisinfo.eu/report/neo-nazis-commit...           2022-02-25   \n",
              "12877                   https://bbc.com/news/uk-61203882  2022-04-23 00:00:00   \n",
              "\n",
              "         year  month   day                 regions  \\\n",
              "0      2020.0    2.0   6.0      France, US, Russia   \n",
              "1      2022.0   12.0   1.0                     NaN   \n",
              "2      2022.0    4.0  15.0                     NaN   \n",
              "3      2024.0    3.0   8.0                     NaN   \n",
              "4      2024.0    2.0   2.0                     NaN   \n",
              "...       ...    ...   ...                     ...   \n",
              "12873  2024.0    2.0  23.0                     NaN   \n",
              "12874  2021.0   10.0  22.0  EU, Europe, Russia, US   \n",
              "12875  2024.0    3.0  16.0                     NaN   \n",
              "12876  2022.0    2.0  25.0         Ukraine, Russia   \n",
              "12877  2022.0    4.0  23.0                     NaN   \n",
              "\n",
              "                                                    tags  \\\n",
              "0      Russia Today (RT), Emmanuel Macron, Mainstream...   \n",
              "1                                         War in Ukraine   \n",
              "2                                         War in Ukraine   \n",
              "3                                         War in Ukraine   \n",
              "4                                         War in Ukraine   \n",
              "...                                                  ...   \n",
              "12873                                     War in Ukraine   \n",
              "12874  NATO, Warmongering, security threat, US presen...   \n",
              "12875                                     War in Ukraine   \n",
              "12876     War in Ukraine, Donbas, Genocide, Nazi/Fascist   \n",
              "12877                                     War in Ukraine   \n",
              "\n",
              "                                                 summary  \\\n",
              "0      Western countries are carrying out a pressure ...   \n",
              "1      The world's most expensive cities are jointly ...   \n",
              "2      A woman who has prepared her home for the arri...   \n",
              "3      Almost two years after applying to join Nato, ...   \n",
              "4      Amid the escalating border standoff between Te...   \n",
              "...                                                  ...   \n",
              "12873  This story originally appeared in Truthdig on ...   \n",
              "12874  The leaders of NATO's 28 European countries ar...   \n",
              "12875  Like millions of other Ukrainians, in the earl...   \n",
              "12876  Nobody intends to attack the Ukrainian people....   \n",
              "12877  The UK is to provide Ukraine with more militar...   \n",
              "\n",
              "                                                 og_link original_lang  label  \\\n",
              "0      https://mundo.sputniknews.com/politica/2020020...       Spanish      1   \n",
              "1                    https://bbc.com/news/world-63825214            en      0   \n",
              "2      https://bbc.com/news/uk-england-somerset-61113570            en      0   \n",
              "3             https://bbc.com/news/world-europe-68509301            en      0   \n",
              "4          https://bbc.com/news/world-us-canada-68185317            en      0   \n",
              "...                                                  ...           ...    ...   \n",
              "12873  https://therealnews.com/whats-next-for-julian-...       English      0   \n",
              "12874  https://sputnik.az/20211022/nato-nun-problemi-...   Azerbaijani      1   \n",
              "12875                https://bbc.com/news/world-68578822            en      0   \n",
              "12876                  https://tass.com/politics/1411139       English      1   \n",
              "12877                   https://bbc.com/news/uk-61203882            en      0   \n",
              "\n",
              "                                            summary_nltk  \n",
              "0      Western countries are carrying out a pressure ...  \n",
              "1      1 = New York 1 = Singapore 3 = Tel Aviv 4 = Ho...  \n",
              "2      Five adults and two children have arrived in B...  \n",
              "3      In early 2022, the country's then Social Democ...  \n",
              "4      A Voice of America journalist Wenhao, who spec...  \n",
              "...                                                  ...  \n",
              "12873  If the judges decide to buck Britain’s politic...  \n",
              "12874  The leaders of NATO's 28 European countries ar...  \n",
              "12875  \"It's not so important to teach children what ...  \n",
              "12876  Nobody intends to attack the Ukrainian people....  \n",
              "12877  President Zelensky and Russian leader Vladimir...  \n",
              "\n",
              "[12878 rows x 14 columns]"
            ],
            "text/html": [
              "\n",
              "  <div id=\"df-33717609-35cb-426a-93ae-35e966f2dd7f\" class=\"colab-df-container\">\n",
              "    <div>\n",
              "<style scoped>\n",
              "    .dataframe tbody tr th:only-of-type {\n",
              "        vertical-align: middle;\n",
              "    }\n",
              "\n",
              "    .dataframe tbody tr th {\n",
              "        vertical-align: top;\n",
              "    }\n",
              "\n",
              "    .dataframe thead th {\n",
              "        text-align: right;\n",
              "    }\n",
              "</style>\n",
              "<table border=\"1\" class=\"dataframe\">\n",
              "  <thead>\n",
              "    <tr style=\"text-align: right;\">\n",
              "      <th></th>\n",
              "      <th>title</th>\n",
              "      <th>author</th>\n",
              "      <th>url</th>\n",
              "      <th>date</th>\n",
              "      <th>year</th>\n",
              "      <th>month</th>\n",
              "      <th>day</th>\n",
              "      <th>regions</th>\n",
              "      <th>tags</th>\n",
              "      <th>summary</th>\n",
              "      <th>og_link</th>\n",
              "      <th>original_lang</th>\n",
              "      <th>label</th>\n",
              "      <th>summary_nltk</th>\n",
              "    </tr>\n",
              "  </thead>\n",
              "  <tbody>\n",
              "    <tr>\n",
              "      <th>0</th>\n",
              "      <td>There is a Western pressure campaign against R...</td>\n",
              "      <td>na</td>\n",
              "      <td>https://euvsdisinfo.eu/report/western-pressure...</td>\n",
              "      <td>2020-02-06</td>\n",
              "      <td>2020.0</td>\n",
              "      <td>2.0</td>\n",
              "      <td>6.0</td>\n",
              "      <td>France, US, Russia</td>\n",
              "      <td>Russia Today (RT), Emmanuel Macron, Mainstream...</td>\n",
              "      <td>Western countries are carrying out a pressure ...</td>\n",
              "      <td>https://mundo.sputniknews.com/politica/2020020...</td>\n",
              "      <td>Spanish</td>\n",
              "      <td>1</td>\n",
              "      <td>Western countries are carrying out a pressure ...</td>\n",
              "    </tr>\n",
              "    <tr>\n",
              "      <th>1</th>\n",
              "      <td>World's most expensive cities: New York and Si...</td>\n",
              "      <td>Malu Cursino</td>\n",
              "      <td>https://bbc.com/news/world-63825214</td>\n",
              "      <td>2022-12-01 00:00:00</td>\n",
              "      <td>2022.0</td>\n",
              "      <td>12.0</td>\n",
              "      <td>1.0</td>\n",
              "      <td>NaN</td>\n",
              "      <td>War in Ukraine</td>\n",
              "      <td>The world's most expensive cities are jointly ...</td>\n",
              "      <td>https://bbc.com/news/world-63825214</td>\n",
              "      <td>en</td>\n",
              "      <td>0</td>\n",
              "      <td>1 = New York 1 = Singapore 3 = Tel Aviv 4 = Ho...</td>\n",
              "    </tr>\n",
              "    <tr>\n",
              "      <th>2</th>\n",
              "      <td>Ukraine: Bath woman says visa scheme an 'absol...</td>\n",
              "      <td>NaN</td>\n",
              "      <td>https://bbc.com/news/uk-england-somerset-61113570</td>\n",
              "      <td>2022-04-15 00:00:00</td>\n",
              "      <td>2022.0</td>\n",
              "      <td>4.0</td>\n",
              "      <td>15.0</td>\n",
              "      <td>NaN</td>\n",
              "      <td>War in Ukraine</td>\n",
              "      <td>A woman who has prepared her home for the arri...</td>\n",
              "      <td>https://bbc.com/news/uk-england-somerset-61113570</td>\n",
              "      <td>en</td>\n",
              "      <td>0</td>\n",
              "      <td>Five adults and two children have arrived in B...</td>\n",
              "    </tr>\n",
              "    <tr>\n",
              "      <th>3</th>\n",
              "      <td>Swedes cheer end of long wait to join Nato</td>\n",
              "      <td>Maddy Savage</td>\n",
              "      <td>https://bbc.com/news/world-europe-68509301</td>\n",
              "      <td>2024-03-08 00:00:00</td>\n",
              "      <td>2024.0</td>\n",
              "      <td>3.0</td>\n",
              "      <td>8.0</td>\n",
              "      <td>NaN</td>\n",
              "      <td>War in Ukraine</td>\n",
              "      <td>Almost two years after applying to join Nato, ...</td>\n",
              "      <td>https://bbc.com/news/world-europe-68509301</td>\n",
              "      <td>en</td>\n",
              "      <td>0</td>\n",
              "      <td>In early 2022, the country's then Social Democ...</td>\n",
              "    </tr>\n",
              "    <tr>\n",
              "      <th>4</th>\n",
              "      <td>Misinformation spreads in China on ‘civil war’...</td>\n",
              "      <td>Kerry Allen</td>\n",
              "      <td>https://bbc.com/news/world-us-canada-68185317</td>\n",
              "      <td>2024-02-02 00:00:00</td>\n",
              "      <td>2024.0</td>\n",
              "      <td>2.0</td>\n",
              "      <td>2.0</td>\n",
              "      <td>NaN</td>\n",
              "      <td>War in Ukraine</td>\n",
              "      <td>Amid the escalating border standoff between Te...</td>\n",
              "      <td>https://bbc.com/news/world-us-canada-68185317</td>\n",
              "      <td>en</td>\n",
              "      <td>0</td>\n",
              "      <td>A Voice of America journalist Wenhao, who spec...</td>\n",
              "    </tr>\n",
              "    <tr>\n",
              "      <th>...</th>\n",
              "      <td>...</td>\n",
              "      <td>...</td>\n",
              "      <td>...</td>\n",
              "      <td>...</td>\n",
              "      <td>...</td>\n",
              "      <td>...</td>\n",
              "      <td>...</td>\n",
              "      <td>...</td>\n",
              "      <td>...</td>\n",
              "      <td>...</td>\n",
              "      <td>...</td>\n",
              "      <td>...</td>\n",
              "      <td>...</td>\n",
              "      <td>...</td>\n",
              "    </tr>\n",
              "    <tr>\n",
              "      <th>12873</th>\n",
              "      <td>What’s next for Julian Assange</td>\n",
              "      <td>Alexander Zaitchik</td>\n",
              "      <td>https://therealnews.com/whats-next-for-julian-...</td>\n",
              "      <td>2024-02-23 00:00:00</td>\n",
              "      <td>2024.0</td>\n",
              "      <td>2.0</td>\n",
              "      <td>23.0</td>\n",
              "      <td>NaN</td>\n",
              "      <td>War in Ukraine</td>\n",
              "      <td>This story originally appeared in Truthdig on ...</td>\n",
              "      <td>https://therealnews.com/whats-next-for-julian-...</td>\n",
              "      <td>English</td>\n",
              "      <td>0</td>\n",
              "      <td>If the judges decide to buck Britain’s politic...</td>\n",
              "    </tr>\n",
              "    <tr>\n",
              "      <th>12874</th>\n",
              "      <td>Leaders of NATO's European countries are compl...</td>\n",
              "      <td>na</td>\n",
              "      <td>https://euvsdisinfo.eu/report/leaders-of-natos...</td>\n",
              "      <td>2021-10-22</td>\n",
              "      <td>2021.0</td>\n",
              "      <td>10.0</td>\n",
              "      <td>22.0</td>\n",
              "      <td>EU, Europe, Russia, US</td>\n",
              "      <td>NATO, Warmongering, security threat, US presen...</td>\n",
              "      <td>The leaders of NATO's 28 European countries ar...</td>\n",
              "      <td>https://sputnik.az/20211022/nato-nun-problemi-...</td>\n",
              "      <td>Azerbaijani</td>\n",
              "      <td>1</td>\n",
              "      <td>The leaders of NATO's 28 European countries ar...</td>\n",
              "    </tr>\n",
              "    <tr>\n",
              "      <th>12875</th>\n",
              "      <td>Secret classes to counter Russian brainwashing...</td>\n",
              "      <td>Anastasiia Levchenko</td>\n",
              "      <td>https://bbc.com/news/world-68578822</td>\n",
              "      <td>2024-03-16 00:00:00</td>\n",
              "      <td>2024.0</td>\n",
              "      <td>3.0</td>\n",
              "      <td>16.0</td>\n",
              "      <td>NaN</td>\n",
              "      <td>War in Ukraine</td>\n",
              "      <td>Like millions of other Ukrainians, in the earl...</td>\n",
              "      <td>https://bbc.com/news/world-68578822</td>\n",
              "      <td>en</td>\n",
              "      <td>0</td>\n",
              "      <td>\"It's not so important to teach children what ...</td>\n",
              "    </tr>\n",
              "    <tr>\n",
              "      <th>12876</th>\n",
              "      <td>Neo-Nazis commit genocide in Ukraine, Russia f...</td>\n",
              "      <td>na</td>\n",
              "      <td>https://euvsdisinfo.eu/report/neo-nazis-commit...</td>\n",
              "      <td>2022-02-25</td>\n",
              "      <td>2022.0</td>\n",
              "      <td>2.0</td>\n",
              "      <td>25.0</td>\n",
              "      <td>Ukraine, Russia</td>\n",
              "      <td>War in Ukraine, Donbas, Genocide, Nazi/Fascist</td>\n",
              "      <td>Nobody intends to attack the Ukrainian people....</td>\n",
              "      <td>https://tass.com/politics/1411139</td>\n",
              "      <td>English</td>\n",
              "      <td>1</td>\n",
              "      <td>Nobody intends to attack the Ukrainian people....</td>\n",
              "    </tr>\n",
              "    <tr>\n",
              "      <th>12877</th>\n",
              "      <td>Ukraine war: UK to send more military equipmen...</td>\n",
              "      <td>James Clarke</td>\n",
              "      <td>https://bbc.com/news/uk-61203882</td>\n",
              "      <td>2022-04-23 00:00:00</td>\n",
              "      <td>2022.0</td>\n",
              "      <td>4.0</td>\n",
              "      <td>23.0</td>\n",
              "      <td>NaN</td>\n",
              "      <td>War in Ukraine</td>\n",
              "      <td>The UK is to provide Ukraine with more militar...</td>\n",
              "      <td>https://bbc.com/news/uk-61203882</td>\n",
              "      <td>en</td>\n",
              "      <td>0</td>\n",
              "      <td>President Zelensky and Russian leader Vladimir...</td>\n",
              "    </tr>\n",
              "  </tbody>\n",
              "</table>\n",
              "<p>12878 rows × 14 columns</p>\n",
              "</div>\n",
              "    <div class=\"colab-df-buttons\">\n",
              "\n",
              "  <div class=\"colab-df-container\">\n",
              "    <button class=\"colab-df-convert\" onclick=\"convertToInteractive('df-33717609-35cb-426a-93ae-35e966f2dd7f')\"\n",
              "            title=\"Convert this dataframe to an interactive table.\"\n",
              "            style=\"display:none;\">\n",
              "\n",
              "  <svg xmlns=\"http://www.w3.org/2000/svg\" height=\"24px\" viewBox=\"0 -960 960 960\">\n",
              "    <path d=\"M120-120v-720h720v720H120Zm60-500h600v-160H180v160Zm220 220h160v-160H400v160Zm0 220h160v-160H400v160ZM180-400h160v-160H180v160Zm440 0h160v-160H620v160ZM180-180h160v-160H180v160Zm440 0h160v-160H620v160Z\"/>\n",
              "  </svg>\n",
              "    </button>\n",
              "\n",
              "  <style>\n",
              "    .colab-df-container {\n",
              "      display:flex;\n",
              "      gap: 12px;\n",
              "    }\n",
              "\n",
              "    .colab-df-convert {\n",
              "      background-color: #E8F0FE;\n",
              "      border: none;\n",
              "      border-radius: 50%;\n",
              "      cursor: pointer;\n",
              "      display: none;\n",
              "      fill: #1967D2;\n",
              "      height: 32px;\n",
              "      padding: 0 0 0 0;\n",
              "      width: 32px;\n",
              "    }\n",
              "\n",
              "    .colab-df-convert:hover {\n",
              "      background-color: #E2EBFA;\n",
              "      box-shadow: 0px 1px 2px rgba(60, 64, 67, 0.3), 0px 1px 3px 1px rgba(60, 64, 67, 0.15);\n",
              "      fill: #174EA6;\n",
              "    }\n",
              "\n",
              "    .colab-df-buttons div {\n",
              "      margin-bottom: 4px;\n",
              "    }\n",
              "\n",
              "    [theme=dark] .colab-df-convert {\n",
              "      background-color: #3B4455;\n",
              "      fill: #D2E3FC;\n",
              "    }\n",
              "\n",
              "    [theme=dark] .colab-df-convert:hover {\n",
              "      background-color: #434B5C;\n",
              "      box-shadow: 0px 1px 3px 1px rgba(0, 0, 0, 0.15);\n",
              "      filter: drop-shadow(0px 1px 2px rgba(0, 0, 0, 0.3));\n",
              "      fill: #FFFFFF;\n",
              "    }\n",
              "  </style>\n",
              "\n",
              "    <script>\n",
              "      const buttonEl =\n",
              "        document.querySelector('#df-33717609-35cb-426a-93ae-35e966f2dd7f button.colab-df-convert');\n",
              "      buttonEl.style.display =\n",
              "        google.colab.kernel.accessAllowed ? 'block' : 'none';\n",
              "\n",
              "      async function convertToInteractive(key) {\n",
              "        const element = document.querySelector('#df-33717609-35cb-426a-93ae-35e966f2dd7f');\n",
              "        const dataTable =\n",
              "          await google.colab.kernel.invokeFunction('convertToInteractive',\n",
              "                                                    [key], {});\n",
              "        if (!dataTable) return;\n",
              "\n",
              "        const docLinkHtml = 'Like what you see? Visit the ' +\n",
              "          '<a target=\"_blank\" href=https://colab.research.google.com/notebooks/data_table.ipynb>data table notebook</a>'\n",
              "          + ' to learn more about interactive tables.';\n",
              "        element.innerHTML = '';\n",
              "        dataTable['output_type'] = 'display_data';\n",
              "        await google.colab.output.renderOutput(dataTable, element);\n",
              "        const docLink = document.createElement('div');\n",
              "        docLink.innerHTML = docLinkHtml;\n",
              "        element.appendChild(docLink);\n",
              "      }\n",
              "    </script>\n",
              "  </div>\n",
              "\n",
              "\n",
              "<div id=\"df-17a5fc02-60cf-4df2-974f-6e06865c1430\">\n",
              "  <button class=\"colab-df-quickchart\" onclick=\"quickchart('df-17a5fc02-60cf-4df2-974f-6e06865c1430')\"\n",
              "            title=\"Suggest charts\"\n",
              "            style=\"display:none;\">\n",
              "\n",
              "<svg xmlns=\"http://www.w3.org/2000/svg\" height=\"24px\"viewBox=\"0 0 24 24\"\n",
              "     width=\"24px\">\n",
              "    <g>\n",
              "        <path d=\"M19 3H5c-1.1 0-2 .9-2 2v14c0 1.1.9 2 2 2h14c1.1 0 2-.9 2-2V5c0-1.1-.9-2-2-2zM9 17H7v-7h2v7zm4 0h-2V7h2v10zm4 0h-2v-4h2v4z\"/>\n",
              "    </g>\n",
              "</svg>\n",
              "  </button>\n",
              "\n",
              "<style>\n",
              "  .colab-df-quickchart {\n",
              "      --bg-color: #E8F0FE;\n",
              "      --fill-color: #1967D2;\n",
              "      --hover-bg-color: #E2EBFA;\n",
              "      --hover-fill-color: #174EA6;\n",
              "      --disabled-fill-color: #AAA;\n",
              "      --disabled-bg-color: #DDD;\n",
              "  }\n",
              "\n",
              "  [theme=dark] .colab-df-quickchart {\n",
              "      --bg-color: #3B4455;\n",
              "      --fill-color: #D2E3FC;\n",
              "      --hover-bg-color: #434B5C;\n",
              "      --hover-fill-color: #FFFFFF;\n",
              "      --disabled-bg-color: #3B4455;\n",
              "      --disabled-fill-color: #666;\n",
              "  }\n",
              "\n",
              "  .colab-df-quickchart {\n",
              "    background-color: var(--bg-color);\n",
              "    border: none;\n",
              "    border-radius: 50%;\n",
              "    cursor: pointer;\n",
              "    display: none;\n",
              "    fill: var(--fill-color);\n",
              "    height: 32px;\n",
              "    padding: 0;\n",
              "    width: 32px;\n",
              "  }\n",
              "\n",
              "  .colab-df-quickchart:hover {\n",
              "    background-color: var(--hover-bg-color);\n",
              "    box-shadow: 0 1px 2px rgba(60, 64, 67, 0.3), 0 1px 3px 1px rgba(60, 64, 67, 0.15);\n",
              "    fill: var(--button-hover-fill-color);\n",
              "  }\n",
              "\n",
              "  .colab-df-quickchart-complete:disabled,\n",
              "  .colab-df-quickchart-complete:disabled:hover {\n",
              "    background-color: var(--disabled-bg-color);\n",
              "    fill: var(--disabled-fill-color);\n",
              "    box-shadow: none;\n",
              "  }\n",
              "\n",
              "  .colab-df-spinner {\n",
              "    border: 2px solid var(--fill-color);\n",
              "    border-color: transparent;\n",
              "    border-bottom-color: var(--fill-color);\n",
              "    animation:\n",
              "      spin 1s steps(1) infinite;\n",
              "  }\n",
              "\n",
              "  @keyframes spin {\n",
              "    0% {\n",
              "      border-color: transparent;\n",
              "      border-bottom-color: var(--fill-color);\n",
              "      border-left-color: var(--fill-color);\n",
              "    }\n",
              "    20% {\n",
              "      border-color: transparent;\n",
              "      border-left-color: var(--fill-color);\n",
              "      border-top-color: var(--fill-color);\n",
              "    }\n",
              "    30% {\n",
              "      border-color: transparent;\n",
              "      border-left-color: var(--fill-color);\n",
              "      border-top-color: var(--fill-color);\n",
              "      border-right-color: var(--fill-color);\n",
              "    }\n",
              "    40% {\n",
              "      border-color: transparent;\n",
              "      border-right-color: var(--fill-color);\n",
              "      border-top-color: var(--fill-color);\n",
              "    }\n",
              "    60% {\n",
              "      border-color: transparent;\n",
              "      border-right-color: var(--fill-color);\n",
              "    }\n",
              "    80% {\n",
              "      border-color: transparent;\n",
              "      border-right-color: var(--fill-color);\n",
              "      border-bottom-color: var(--fill-color);\n",
              "    }\n",
              "    90% {\n",
              "      border-color: transparent;\n",
              "      border-bottom-color: var(--fill-color);\n",
              "    }\n",
              "  }\n",
              "</style>\n",
              "\n",
              "  <script>\n",
              "    async function quickchart(key) {\n",
              "      const quickchartButtonEl =\n",
              "        document.querySelector('#' + key + ' button');\n",
              "      quickchartButtonEl.disabled = true;  // To prevent multiple clicks.\n",
              "      quickchartButtonEl.classList.add('colab-df-spinner');\n",
              "      try {\n",
              "        const charts = await google.colab.kernel.invokeFunction(\n",
              "            'suggestCharts', [key], {});\n",
              "      } catch (error) {\n",
              "        console.error('Error during call to suggestCharts:', error);\n",
              "      }\n",
              "      quickchartButtonEl.classList.remove('colab-df-spinner');\n",
              "      quickchartButtonEl.classList.add('colab-df-quickchart-complete');\n",
              "    }\n",
              "    (() => {\n",
              "      let quickchartButtonEl =\n",
              "        document.querySelector('#df-17a5fc02-60cf-4df2-974f-6e06865c1430 button');\n",
              "      quickchartButtonEl.style.display =\n",
              "        google.colab.kernel.accessAllowed ? 'block' : 'none';\n",
              "    })();\n",
              "  </script>\n",
              "</div>\n",
              "    </div>\n",
              "  </div>\n"
            ],
            "application/vnd.google.colaboratory.intrinsic+json": {
              "type": "dataframe",
              "variable_name": "df",
              "summary": "{\n  \"name\": \"df\",\n  \"rows\": 12878,\n  \"fields\": [\n    {\n      \"column\": \"title\",\n      \"properties\": {\n        \"dtype\": \"string\",\n        \"num_unique_values\": 7303,\n        \"samples\": [\n          \"Ukraine did not, does not and will not exist\",\n          \"\\u2018Huge victory\\u2019 as judge blocks Biden\\u2019s oil lease sale in Gulf of Mexico\",\n          \"Northampton woman calls for UK settled status for Ukrainians\"\n        ],\n        \"semantic_type\": \"\",\n        \"description\": \"\"\n      }\n    },\n    {\n      \"column\": \"author\",\n      \"properties\": {\n        \"dtype\": \"category\",\n        \"num_unique_values\": 963,\n        \"samples\": [\n          \"Nick Beake\",\n          \"Jason Kerzinski\",\n          \"David McKenna\"\n        ],\n        \"semantic_type\": \"\",\n        \"description\": \"\"\n      }\n    },\n    {\n      \"column\": \"url\",\n      \"properties\": {\n        \"dtype\": \"string\",\n        \"num_unique_values\": 7307,\n        \"samples\": [\n          \"https://euvsdisinfo.eu/report/the-eu-does-not-help-ukraine-at-all/\",\n          \"https://bbc.com/news/uk-northern-ireland-61557076\",\n          \"https://therealnews.com/us-freight-workers-say-its-time-to-nationalize-the-railroads\"\n        ],\n        \"semantic_type\": \"\",\n        \"description\": \"\"\n      }\n    },\n    {\n      \"column\": \"date\",\n      \"properties\": {\n        \"dtype\": \"category\",\n        \"num_unique_values\": 2294,\n        \"samples\": [\n          \"2023-07-25\",\n          \"2020-11-18\",\n          \"2024-01-13 00:00:00\"\n        ],\n        \"semantic_type\": \"\",\n        \"description\": \"\"\n      }\n    },\n    {\n      \"column\": \"year\",\n      \"properties\": {\n        \"dtype\": \"number\",\n        \"std\": 1.349369183544309,\n        \"min\": 2010.0,\n        \"max\": 2024.0,\n        \"num_unique_values\": 14,\n        \"samples\": [\n          2016.0,\n          2013.0,\n          2020.0\n        ],\n        \"semantic_type\": \"\",\n        \"description\": \"\"\n      }\n    },\n    {\n      \"column\": \"month\",\n      \"properties\": {\n        \"dtype\": \"number\",\n        \"std\": 3.466797618051741,\n        \"min\": 1.0,\n        \"max\": 12.0,\n        \"num_unique_values\": 12,\n        \"samples\": [\n          6.0,\n          8.0,\n          2.0\n        ],\n        \"semantic_type\": \"\",\n        \"description\": \"\"\n      }\n    },\n    {\n      \"column\": \"day\",\n      \"properties\": {\n        \"dtype\": \"number\",\n        \"std\": 8.822865720788718,\n        \"min\": 1.0,\n        \"max\": 31.0,\n        \"num_unique_values\": 31,\n        \"samples\": [\n          4.0,\n          24.0,\n          29.0\n        ],\n        \"semantic_type\": \"\",\n        \"description\": \"\"\n      }\n    },\n    {\n      \"column\": \"regions\",\n      \"properties\": {\n        \"dtype\": \"category\",\n        \"num_unique_values\": 1155,\n        \"samples\": [\n          \"Ukraine, Russia, EU, Europe\",\n          \"Belarus, Lithuania\",\n          \"Russia, US, EU, Spain\"\n        ],\n        \"semantic_type\": \"\",\n        \"description\": \"\"\n      }\n    },\n    {\n      \"column\": \"tags\",\n      \"properties\": {\n        \"dtype\": \"category\",\n        \"num_unique_values\": 3345,\n        \"samples\": [\n          \"coronavirus, War in Ukraine\",\n          \"Eastern Ukraine, Diplomacy with Russia, Anti-Russian, US presence in Europe, Ukrainian statehood, War in Ukraine\",\n          \"Nord Stream 2, Military, Frozen conflict, Nagorno-Karabakh, Alexei Navalny, Conspiracy theory\"\n        ],\n        \"semantic_type\": \"\",\n        \"description\": \"\"\n      }\n    },\n    {\n      \"column\": \"summary\",\n      \"properties\": {\n        \"dtype\": \"string\",\n        \"num_unique_values\": 7006,\n        \"samples\": [\n          \"Last Friday, Amazon workers at the JFK8 warehouse in Staten Island shocked the world by pulling off one of the great labor victories in US history, becoming the first Amazon workforce in the country to vote to unionize. A thousand miles away, in the rural setting of Brookwood, Alabama, 1,100 coal miners on strike at Warrior Met Coal have just passed the one-year anniversary of the day they hit the picket line. Around the country, workers are rising up, demanding more, and winning important victories, even though the deck is stacked against them. The question is: Where will the reinforcements come from? How can the fight that workers are waging on the shop floor be supported and empowered by a broad progressive movement that is united around the cause of economic, political, and social justice? In a recent piece published on CommonDreams, Professor Harvey J. Kaye, an expert on the New Deal and FDR, and Alan Minsky, the executive director of Progressive Democrats of America, call for progressives to rally behind the proposal for a \\u201c21st Century Economic Bill of Rights.\\u201d In this interview, TRNN Editor-in-Chief Maximillian Alvarez speaks with Professor Kaye and labor leader Sara Nelson about the state of the labor movement today and what it would mean if progressive forces within and beyond the labor movement united around a shared vision for \\u201ca platform of economic policies designed to enable Americans, all Americans, to secure the nation\\u2019s promise of life, liberty, and the pursuit of happiness.\\u201d Sara Nelson is the International President of the Association of Flight Attendants-CWA, AFL-CIO, representing around 50,000 flight attendants at 17 airlines. Harvey J. Kaye is Professor Emeritus of Democracy and Justice Studies at the University of Wisconsin-Green Bay and the author of many books, including: The Fight for the Four Freedoms: What Made FDR and the Greatest Generation Truly Great; FDR on Democracy; and Take Hold of Our History: Make America Radical Again. Pre-Production/Studio/Post-Production: Cameron Granadino Maximillian Alvarez: \\u00a0\\u00a0\\u00a0 Welcome, everyone, to The Real News Network. My name is Maximillian Alvarez. I\\u2019m the editor-in-chief here at The Real News, and it\\u2019s so great to have you all with us. Last Friday, Amazon workers at the JFK8 warehouse in Staten Island shocked the world by pulling off one of the great labor victories in US history: becoming the first Amazon workforce in the country to vote to unionize. A true David and Goliath story, the independent Amazon Labor Union, its president Christian Smalls, Vice President Derek Palmer, and a scrappy, motivated, worker-led organizing committee succeeded in counteracting Amazon\\u2019s well-funded union busting efforts and in organizing their coworkers at the truly massive facility, bringing more rank and file workers into the fight for a union and for a more democratic, just, fair, and humane workplace. 1,000 miles away in the far more rural setting of Brookwood, Alabama, 1,100 coal miners on strike at Warrior Met Coal have just passed the one-year anniversary of the day that they first hit the picket line. These workers and their families have been on strike now for over a year, holding the line at great cost, demanding that the company overturn the concessions workers were forced to take at the last contract negotiation after the previous owners of the mine went bankrupt. Now, these workers\\u2019 struggles and many others happening around the country are deeply important, obviously for the workers involved and their families, but also for all of us. Even though American workers have only gotten more productive over the years, many are feeling the squeeze after decades of stagnating wages, rising costs of living, the continued assault on organized labor, and the siphoning of worker-generated profits into the pockets of owners and shareholders. Right now as we speak, a population battered by COVID, which momentarily saw a historic drop in poverty as a result, in large part, of emergency government aid, is now seeing the ruling class claw it all back by jacking up prices in rents, cutting aid, restarting student loan payments, et cetera, et cetera. Workers banding together, whether in a union or not, are truly one of the last backstops and forces fighting to prevent the whole of the working class from sliding farther downhill in what Bernie Sanders famously called the race to the bottom.\",\n          \"In April 2014, the Ukrainian authorities launched a military operation against the republics of Donetsk and Luhansk, which unilaterally declared their independence from Ukraine in February 2014.\",\n          \"American divers installed explosives under the Nord Stream pipeline during a summer NATO exercise. The bombs were activated on 26 September by Norwegian navy that dropped a sonobuoy which activated the explosives. President Biden decided to perform this diversion after top-secret talks with his national security community, and CIA director William Burns gave the order to launch the operation.\"\n        ],\n        \"semantic_type\": \"\",\n        \"description\": \"\"\n      }\n    },\n    {\n      \"column\": \"og_link\",\n      \"properties\": {\n        \"dtype\": \"string\",\n        \"num_unique_values\": 7125,\n        \"samples\": [\n          \"https://therealnews.com/rail-workers-of-the-world-unite\",\n          \"https://de.rt.com/russland/185002-moskau-kein-dialog-mit-westen/\",\n          \"https://bbc.com/news/world-europe-62725485\"\n        ],\n        \"semantic_type\": \"\",\n        \"description\": \"\"\n      }\n    },\n    {\n      \"column\": \"original_lang\",\n      \"properties\": {\n        \"dtype\": \"category\",\n        \"num_unique_values\": 100,\n        \"samples\": [\n          \"Spanish, Italian\",\n          \"French, English\",\n          \"English, French, German, Spanish, Russian\"\n        ],\n        \"semantic_type\": \"\",\n        \"description\": \"\"\n      }\n    },\n    {\n      \"column\": \"label\",\n      \"properties\": {\n        \"dtype\": \"number\",\n        \"std\": 0,\n        \"min\": 0,\n        \"max\": 1,\n        \"num_unique_values\": 2,\n        \"samples\": [\n          0,\n          1\n        ],\n        \"semantic_type\": \"\",\n        \"description\": \"\"\n      }\n    },\n    {\n      \"column\": \"summary_nltk\",\n      \"properties\": {\n        \"dtype\": \"string\",\n        \"num_unique_values\": 7004,\n        \"samples\": [\n          \"The claims that the Russian army is responsible for the killings in Bucha are baseless. The truth is that some of the victims were killed by Ukraine\\u2019s defence forces, as Ukrainian themselves confirm, while the other corpses are a consequence of the bombings carried out by the Ukrainian Armed Forces after the withdrawal of the Russian troops. This is proven by the the large number of artillery craters, and also by the Ukrainian and Azov troops shooting indiscriminately as they entered the cities.\",\n          \"Expected to come into force in 2024, the DSA will apply to all online services that operate in the EU, but with particular focus on what it calls Vlops (very large online platforms, such as Facebook and YouTube) and Vloses (very large online search engines, such as Google) - defined as services that have more than 45m users in the EU. The strengthened code aims to prevent profiting from disinformation and fake news on their platforms, as well as increasing transparency around political advertising and curbing the spread of 'new malicious behaviours' such as bots, fake accounts and deepfakes. The DSA - agreed by the European Parliament and EU member states in April - is the EU's planned regulation for illegal content, goods and services online, based on the principle that things which are illegal offline should also be illegal online. The difficulty of telling deepfakes and real footage apart is likely to grow in coming years, says Ms Schick, citing the increased availability of tools and apps needed to develop malicious deepfakes. But platforms \\\"too often use deepfakes as a fig leaf to cover for the fact that they are not doing enough on existing forms of disinformation\\\", Ms Schick says. Deepfakes expert Nina Schick says non-consensual pornographic deepfakes are the primary form of malicious deepfakery today - notably affecting well-known figures including Michelle Obama, Natalie Portman and Emma Watson. New EU regulation, supported by the Digital Services Act (DSA), will demand tech firms deal with these forms of disinformation on their platforms.\"\n        ],\n        \"semantic_type\": \"\",\n        \"description\": \"\"\n      }\n    }\n  ]\n}"
            }
          },
          "metadata": {},
          "execution_count": 14
        }
      ]
    },
    {
      "cell_type": "code",
      "source": [
        "df  = df.dropna(subset = ['summary_nltk'])"
      ],
      "metadata": {
        "id": "7ZaDRXwwQ7dA"
      },
      "execution_count": null,
      "outputs": []
    },
    {
      "cell_type": "code",
      "source": [
        "df.isna().sum()"
      ],
      "metadata": {
        "colab": {
          "base_uri": "https://localhost:8080/"
        },
        "id": "nS-0MrxWQ3k-",
        "outputId": "29ced920-aa60-4593-a91d-0737e2e915f6"
      },
      "execution_count": null,
      "outputs": [
        {
          "output_type": "execute_result",
          "data": {
            "text/plain": [
              "title               0\n",
              "author           1669\n",
              "url                 0\n",
              "date                8\n",
              "year                8\n",
              "month               8\n",
              "day                 8\n",
              "regions          6517\n",
              "tags                0\n",
              "summary             0\n",
              "og_link            68\n",
              "original_lang       0\n",
              "label               0\n",
              "summary_nltk        0\n",
              "dtype: int64"
            ]
          },
          "metadata": {},
          "execution_count": 20
        }
      ]
    },
    {
      "cell_type": "markdown",
      "source": [
        "## Sumy summarizer\n"
      ],
      "metadata": {
        "id": "TlfLnh3-YsTB"
      }
    },
    {
      "cell_type": "markdown",
      "source": [],
      "metadata": {
        "id": "Oe_6xS9UYzVI"
      }
    },
    {
      "cell_type": "code",
      "source": [
        "!pip install sumy"
      ],
      "metadata": {
        "id": "guN59ANhW0_l",
        "colab": {
          "base_uri": "https://localhost:8080/"
        },
        "outputId": "847f9ddb-39e5-4e6b-f742-31393c53c6d3"
      },
      "execution_count": null,
      "outputs": [
        {
          "output_type": "stream",
          "name": "stdout",
          "text": [
            "Collecting sumy\n",
            "  Downloading sumy-0.11.0-py2.py3-none-any.whl (97 kB)\n",
            "\u001b[?25l     \u001b[90m━━━━━━━━━━━━━━━━━━━━━━━━━━━━━━━━━━━━━━━━\u001b[0m \u001b[32m0.0/97.3 kB\u001b[0m \u001b[31m?\u001b[0m eta \u001b[36m-:--:--\u001b[0m\r\u001b[2K     \u001b[91m━━━━━━━━━━━━━━━━━━━━━━━━━\u001b[0m\u001b[90m╺\u001b[0m\u001b[90m━━━━━━━━━━━━━━\u001b[0m \u001b[32m61.4/97.3 kB\u001b[0m \u001b[31m1.6 MB/s\u001b[0m eta \u001b[36m0:00:01\u001b[0m\r\u001b[2K     \u001b[90m━━━━━━━━━━━━━━━━━━━━━━━━━━━━━━━━━━━━━━━━\u001b[0m \u001b[32m97.3/97.3 kB\u001b[0m \u001b[31m1.8 MB/s\u001b[0m eta \u001b[36m0:00:00\u001b[0m\n",
            "\u001b[?25hCollecting docopt<0.7,>=0.6.1 (from sumy)\n",
            "  Downloading docopt-0.6.2.tar.gz (25 kB)\n",
            "  Preparing metadata (setup.py) ... \u001b[?25l\u001b[?25hdone\n",
            "Collecting breadability>=0.1.20 (from sumy)\n",
            "  Downloading breadability-0.1.20.tar.gz (32 kB)\n",
            "  Preparing metadata (setup.py) ... \u001b[?25l\u001b[?25hdone\n",
            "Requirement already satisfied: requests>=2.7.0 in /usr/local/lib/python3.10/dist-packages (from sumy) (2.31.0)\n",
            "Collecting pycountry>=18.2.23 (from sumy)\n",
            "  Downloading pycountry-23.12.11-py3-none-any.whl (6.2 MB)\n",
            "\u001b[2K     \u001b[90m━━━━━━━━━━━━━━━━━━━━━━━━━━━━━━━━━━━━━━━━\u001b[0m \u001b[32m6.2/6.2 MB\u001b[0m \u001b[31m41.3 MB/s\u001b[0m eta \u001b[36m0:00:00\u001b[0m\n",
            "\u001b[?25hRequirement already satisfied: nltk>=3.0.2 in /usr/local/lib/python3.10/dist-packages (from sumy) (3.8.1)\n",
            "Requirement already satisfied: chardet in /usr/local/lib/python3.10/dist-packages (from breadability>=0.1.20->sumy) (5.2.0)\n",
            "Requirement already satisfied: lxml>=2.0 in /usr/local/lib/python3.10/dist-packages (from breadability>=0.1.20->sumy) (4.9.4)\n",
            "Requirement already satisfied: click in /usr/local/lib/python3.10/dist-packages (from nltk>=3.0.2->sumy) (8.1.7)\n",
            "Requirement already satisfied: joblib in /usr/local/lib/python3.10/dist-packages (from nltk>=3.0.2->sumy) (1.3.2)\n",
            "Requirement already satisfied: regex>=2021.8.3 in /usr/local/lib/python3.10/dist-packages (from nltk>=3.0.2->sumy) (2023.12.25)\n",
            "Requirement already satisfied: tqdm in /usr/local/lib/python3.10/dist-packages (from nltk>=3.0.2->sumy) (4.66.2)\n",
            "Requirement already satisfied: charset-normalizer<4,>=2 in /usr/local/lib/python3.10/dist-packages (from requests>=2.7.0->sumy) (3.3.2)\n",
            "Requirement already satisfied: idna<4,>=2.5 in /usr/local/lib/python3.10/dist-packages (from requests>=2.7.0->sumy) (3.6)\n",
            "Requirement already satisfied: urllib3<3,>=1.21.1 in /usr/local/lib/python3.10/dist-packages (from requests>=2.7.0->sumy) (2.0.7)\n",
            "Requirement already satisfied: certifi>=2017.4.17 in /usr/local/lib/python3.10/dist-packages (from requests>=2.7.0->sumy) (2024.2.2)\n",
            "Building wheels for collected packages: breadability, docopt\n",
            "  Building wheel for breadability (setup.py) ... \u001b[?25l\u001b[?25hdone\n",
            "  Created wheel for breadability: filename=breadability-0.1.20-py2.py3-none-any.whl size=21693 sha256=af7d30f60a813dcd1202d290e542b0a3d1c0f3d0c7e2f9ccb73f17b1858c8e5a\n",
            "  Stored in directory: /root/.cache/pip/wheels/64/22/90/b84fcc30e16598db20a0d41340616dbf9b1e82bbcc627b0b33\n",
            "  Building wheel for docopt (setup.py) ... \u001b[?25l\u001b[?25hdone\n",
            "  Created wheel for docopt: filename=docopt-0.6.2-py2.py3-none-any.whl size=13706 sha256=a334a5b4a8815e2c2012a5fc1b615632ec0905ffbb6aaae48067fc3fb708a992\n",
            "  Stored in directory: /root/.cache/pip/wheels/fc/ab/d4/5da2067ac95b36618c629a5f93f809425700506f72c9732fac\n",
            "Successfully built breadability docopt\n",
            "Installing collected packages: docopt, pycountry, breadability, sumy\n",
            "Successfully installed breadability-0.1.20 docopt-0.6.2 pycountry-23.12.11 sumy-0.11.0\n"
          ]
        }
      ]
    },
    {
      "cell_type": "code",
      "source": [
        "import pandas as pd\n",
        "from sumy.parsers.plaintext import PlaintextParser\n",
        "from sumy.nlp.tokenizers import Tokenizer\n",
        "from sumy.summarizers.lex_rank import LexRankSummarizer as Summarizer\n",
        "\n",
        "# Assuming df is your DataFrame and 'summary' is the column you want to summarize\n",
        "# Initialize the summarizer\n",
        "summarizer = Summarizer()\n",
        "\n",
        "# Function to summarize a single piece of text\n",
        "def summarize_text(text, num_sentences=5):\n",
        "    parser = PlaintextParser.from_string(text, Tokenizer('english'))\n",
        "    summarized_text = ' '.join([' '.join(str(sentence) for sentence in summarizer(parser.document, num_sentences))])\n",
        "    return summarized_text\n",
        "\n",
        "\n"
      ],
      "metadata": {
        "id": "qwbur82-Wvwx"
      },
      "execution_count": null,
      "outputs": []
    },
    {
      "cell_type": "code",
      "source": [
        "df_real['summarized_sumy'] = df_real['content'].apply(lambda x: summarize_text(x, 10))"
      ],
      "metadata": {
        "id": "TTOfGeZZCZ9d",
        "colab": {
          "base_uri": "https://localhost:8080/"
        },
        "outputId": "626c9b7f-fb69-4fdb-be4c-8e14faef95a6"
      },
      "execution_count": null,
      "outputs": [
        {
          "output_type": "stream",
          "name": "stderr",
          "text": [
            "WARNING:tensorflow:Detecting that an object or model or tf.train.Checkpoint is being deleted with unrestored values. See the following logs for the specific values in question. To silence these warnings, use `status.expect_partial()`. See https://www.tensorflow.org/api_docs/python/tf/train/Checkpoint#restorefor details about the status object returned by the restore function.\n",
            "WARNING:tensorflow:Value in checkpoint could not be found in the restored object: (root).keras_api.metrics.0.total\n",
            "WARNING:tensorflow:Value in checkpoint could not be found in the restored object: (root).keras_api.metrics.0.count\n",
            "WARNING:tensorflow:Value in checkpoint could not be found in the restored object: (root).keras_api.metrics.1.total\n",
            "WARNING:tensorflow:Value in checkpoint could not be found in the restored object: (root).keras_api.metrics.1.count\n",
            "WARNING:tensorflow:Detecting that an object or model or tf.train.Checkpoint is being deleted with unrestored values. See the following logs for the specific values in question. To silence these warnings, use `status.expect_partial()`. See https://www.tensorflow.org/api_docs/python/tf/train/Checkpoint#restorefor details about the status object returned by the restore function.\n",
            "WARNING:tensorflow:Value in checkpoint could not be found in the restored object: (root).keras_api.metrics.0.total\n",
            "WARNING:tensorflow:Value in checkpoint could not be found in the restored object: (root).keras_api.metrics.0.count\n",
            "WARNING:tensorflow:Value in checkpoint could not be found in the restored object: (root).keras_api.metrics.1.total\n",
            "WARNING:tensorflow:Value in checkpoint could not be found in the restored object: (root).keras_api.metrics.1.count\n",
            "WARNING:tensorflow:Detecting that an object or model or tf.train.Checkpoint is being deleted with unrestored values. See the following logs for the specific values in question. To silence these warnings, use `status.expect_partial()`. See https://www.tensorflow.org/api_docs/python/tf/train/Checkpoint#restorefor details about the status object returned by the restore function.\n",
            "WARNING:tensorflow:Value in checkpoint could not be found in the restored object: (root).keras_api.metrics.0.total\n",
            "WARNING:tensorflow:Value in checkpoint could not be found in the restored object: (root).keras_api.metrics.0.count\n",
            "WARNING:tensorflow:Value in checkpoint could not be found in the restored object: (root).keras_api.metrics.1.total\n",
            "WARNING:tensorflow:Value in checkpoint could not be found in the restored object: (root).keras_api.metrics.1.count\n",
            "WARNING:tensorflow:Detecting that an object or model or tf.train.Checkpoint is being deleted with unrestored values. See the following logs for the specific values in question. To silence these warnings, use `status.expect_partial()`. See https://www.tensorflow.org/api_docs/python/tf/train/Checkpoint#restorefor details about the status object returned by the restore function.\n",
            "WARNING:tensorflow:Value in checkpoint could not be found in the restored object: (root).keras_api.metrics.0.total\n",
            "WARNING:tensorflow:Value in checkpoint could not be found in the restored object: (root).keras_api.metrics.0.count\n",
            "WARNING:tensorflow:Value in checkpoint could not be found in the restored object: (root).keras_api.metrics.1.total\n",
            "WARNING:tensorflow:Value in checkpoint could not be found in the restored object: (root).keras_api.metrics.1.count\n",
            "WARNING:tensorflow:Detecting that an object or model or tf.train.Checkpoint is being deleted with unrestored values. See the following logs for the specific values in question. To silence these warnings, use `status.expect_partial()`. See https://www.tensorflow.org/api_docs/python/tf/train/Checkpoint#restorefor details about the status object returned by the restore function.\n",
            "WARNING:tensorflow:Value in checkpoint could not be found in the restored object: (root).keras_api.metrics.0.total\n",
            "WARNING:tensorflow:Value in checkpoint could not be found in the restored object: (root).keras_api.metrics.0.count\n",
            "WARNING:tensorflow:Value in checkpoint could not be found in the restored object: (root).keras_api.metrics.1.total\n",
            "WARNING:tensorflow:Value in checkpoint could not be found in the restored object: (root).keras_api.metrics.1.count\n"
          ]
        }
      ]
    },
    {
      "cell_type": "markdown",
      "source": [
        "## NER"
      ],
      "metadata": {
        "id": "OrGXw-EXo1lY"
      }
    },
    {
      "cell_type": "code",
      "source": [
        "!pip install spacy\n"
      ],
      "metadata": {
        "id": "7_5hMUlEWLxE",
        "colab": {
          "base_uri": "https://localhost:8080/"
        },
        "outputId": "a49fd566-7483-4a13-d174-30664c9c0d01"
      },
      "execution_count": null,
      "outputs": [
        {
          "output_type": "stream",
          "name": "stdout",
          "text": [
            "Requirement already satisfied: spacy in /usr/local/lib/python3.10/dist-packages (3.7.4)\n",
            "Requirement already satisfied: spacy-legacy<3.1.0,>=3.0.11 in /usr/local/lib/python3.10/dist-packages (from spacy) (3.0.12)\n",
            "Requirement already satisfied: spacy-loggers<2.0.0,>=1.0.0 in /usr/local/lib/python3.10/dist-packages (from spacy) (1.0.5)\n",
            "Requirement already satisfied: murmurhash<1.1.0,>=0.28.0 in /usr/local/lib/python3.10/dist-packages (from spacy) (1.0.10)\n",
            "Requirement already satisfied: cymem<2.1.0,>=2.0.2 in /usr/local/lib/python3.10/dist-packages (from spacy) (2.0.8)\n",
            "Requirement already satisfied: preshed<3.1.0,>=3.0.2 in /usr/local/lib/python3.10/dist-packages (from spacy) (3.0.9)\n",
            "Requirement already satisfied: thinc<8.3.0,>=8.2.2 in /usr/local/lib/python3.10/dist-packages (from spacy) (8.2.3)\n",
            "Requirement already satisfied: wasabi<1.2.0,>=0.9.1 in /usr/local/lib/python3.10/dist-packages (from spacy) (1.1.2)\n",
            "Requirement already satisfied: srsly<3.0.0,>=2.4.3 in /usr/local/lib/python3.10/dist-packages (from spacy) (2.4.8)\n",
            "Requirement already satisfied: catalogue<2.1.0,>=2.0.6 in /usr/local/lib/python3.10/dist-packages (from spacy) (2.0.10)\n",
            "Requirement already satisfied: weasel<0.4.0,>=0.1.0 in /usr/local/lib/python3.10/dist-packages (from spacy) (0.3.4)\n",
            "Requirement already satisfied: typer<0.10.0,>=0.3.0 in /usr/local/lib/python3.10/dist-packages (from spacy) (0.9.4)\n",
            "Requirement already satisfied: smart-open<7.0.0,>=5.2.1 in /usr/local/lib/python3.10/dist-packages (from spacy) (6.4.0)\n",
            "Requirement already satisfied: tqdm<5.0.0,>=4.38.0 in /usr/local/lib/python3.10/dist-packages (from spacy) (4.66.2)\n",
            "Requirement already satisfied: requests<3.0.0,>=2.13.0 in /usr/local/lib/python3.10/dist-packages (from spacy) (2.31.0)\n",
            "Requirement already satisfied: pydantic!=1.8,!=1.8.1,<3.0.0,>=1.7.4 in /usr/local/lib/python3.10/dist-packages (from spacy) (2.6.4)\n",
            "Requirement already satisfied: jinja2 in /usr/local/lib/python3.10/dist-packages (from spacy) (3.1.3)\n",
            "Requirement already satisfied: setuptools in /usr/local/lib/python3.10/dist-packages (from spacy) (67.7.2)\n",
            "Requirement already satisfied: packaging>=20.0 in /usr/local/lib/python3.10/dist-packages (from spacy) (24.0)\n",
            "Requirement already satisfied: langcodes<4.0.0,>=3.2.0 in /usr/local/lib/python3.10/dist-packages (from spacy) (3.3.0)\n",
            "Requirement already satisfied: numpy>=1.19.0 in /usr/local/lib/python3.10/dist-packages (from spacy) (1.25.2)\n",
            "Requirement already satisfied: annotated-types>=0.4.0 in /usr/local/lib/python3.10/dist-packages (from pydantic!=1.8,!=1.8.1,<3.0.0,>=1.7.4->spacy) (0.6.0)\n",
            "Requirement already satisfied: pydantic-core==2.16.3 in /usr/local/lib/python3.10/dist-packages (from pydantic!=1.8,!=1.8.1,<3.0.0,>=1.7.4->spacy) (2.16.3)\n",
            "Requirement already satisfied: typing-extensions>=4.6.1 in /usr/local/lib/python3.10/dist-packages (from pydantic!=1.8,!=1.8.1,<3.0.0,>=1.7.4->spacy) (4.10.0)\n",
            "Requirement already satisfied: charset-normalizer<4,>=2 in /usr/local/lib/python3.10/dist-packages (from requests<3.0.0,>=2.13.0->spacy) (3.3.2)\n",
            "Requirement already satisfied: idna<4,>=2.5 in /usr/local/lib/python3.10/dist-packages (from requests<3.0.0,>=2.13.0->spacy) (3.6)\n",
            "Requirement already satisfied: urllib3<3,>=1.21.1 in /usr/local/lib/python3.10/dist-packages (from requests<3.0.0,>=2.13.0->spacy) (2.0.7)\n",
            "Requirement already satisfied: certifi>=2017.4.17 in /usr/local/lib/python3.10/dist-packages (from requests<3.0.0,>=2.13.0->spacy) (2024.2.2)\n",
            "Requirement already satisfied: blis<0.8.0,>=0.7.8 in /usr/local/lib/python3.10/dist-packages (from thinc<8.3.0,>=8.2.2->spacy) (0.7.11)\n",
            "Requirement already satisfied: confection<1.0.0,>=0.0.1 in /usr/local/lib/python3.10/dist-packages (from thinc<8.3.0,>=8.2.2->spacy) (0.1.4)\n",
            "Requirement already satisfied: click<9.0.0,>=7.1.1 in /usr/local/lib/python3.10/dist-packages (from typer<0.10.0,>=0.3.0->spacy) (8.1.7)\n",
            "Requirement already satisfied: cloudpathlib<0.17.0,>=0.7.0 in /usr/local/lib/python3.10/dist-packages (from weasel<0.4.0,>=0.1.0->spacy) (0.16.0)\n",
            "Requirement already satisfied: MarkupSafe>=2.0 in /usr/local/lib/python3.10/dist-packages (from jinja2->spacy) (2.1.5)\n"
          ]
        }
      ]
    },
    {
      "cell_type": "code",
      "execution_count": null,
      "metadata": {
        "id": "6Rdjm_azQvpj"
      },
      "outputs": [],
      "source": [
        "import spacy\n",
        "\n",
        "# Load the English tokenizer, tagger, parser, NER, and word vectors\n",
        "nlp = spacy.load(\"en_core_web_sm\")"
      ]
    },
    {
      "cell_type": "code",
      "source": [
        "\n",
        "\n",
        "def extract_custom_entities(text, desired_entities):\n",
        "    doc = nlp(text)\n",
        "    entities = set(ent.text.strip() for ent in doc.ents if desired_entities is None or ent.label_ in desired_entities)\n",
        "    # Example for returning as a string, but can be modified to return a list\n",
        "\n",
        "\n",
        "\n",
        "    unique_list = list(dict.fromkeys(entities))\n",
        "    return ', '.join(sorted(entities))\n",
        "\n",
        "# Specify the types of entities you want to extract\n",
        "desired_entities = ['PERSON', 'ORG', 'GPE', 'LOC', 'NORP', 'DATE']\n",
        "\n",
        "\n",
        "\n",
        "\n"
      ],
      "metadata": {
        "id": "14tY6BnNsgTv"
      },
      "execution_count": null,
      "outputs": []
    },
    {
      "cell_type": "code",
      "source": [
        "\n",
        "df['entities'] = df['summary_nltk'].apply(lambda x: extract_custom_entities(x, desired_entities))"
      ],
      "metadata": {
        "id": "xoiFfUinCd1V",
        "colab": {
          "base_uri": "https://localhost:8080/"
        },
        "outputId": "23d0ed9c-ef09-41f1-9213-6e5c20fb6ebb"
      },
      "execution_count": null,
      "outputs": [
        {
          "output_type": "stream",
          "name": "stderr",
          "text": [
            "<ipython-input-21-00d7326484f2>:1: SettingWithCopyWarning: \n",
            "A value is trying to be set on a copy of a slice from a DataFrame.\n",
            "Try using .loc[row_indexer,col_indexer] = value instead\n",
            "\n",
            "See the caveats in the documentation: https://pandas.pydata.org/pandas-docs/stable/user_guide/indexing.html#returning-a-view-versus-a-copy\n",
            "  df['entities'] = df['summary_nltk'].apply(lambda x: extract_custom_entities(x, desired_entities))\n"
          ]
        }
      ]
    },
    {
      "cell_type": "code",
      "source": [
        "df.to_csv('dataset_ent_sum.csv')"
      ],
      "metadata": {
        "id": "2AwPovI496G1"
      },
      "execution_count": null,
      "outputs": []
    },
    {
      "cell_type": "markdown",
      "source": [
        "## Topic extraction"
      ],
      "metadata": {
        "id": "Gvprm6vIXZAC"
      }
    },
    {
      "cell_type": "code",
      "source": [
        "\n",
        "def clean_text(s):\n",
        "        s = s.lower()\n",
        "        s = s.split()\n",
        "        s = \" \".join(s)\n",
        "        s = re.sub(f'[{re.escape(str.punctuation)}]', '', s)\n",
        "\n",
        "def remove_stop_words(s):\n",
        "        stop_words = set(stopwords.words('english'))\n",
        "        s = s.split()\n",
        "        s = [w for w in s if not w.lower() in stop_words]\n",
        "        s = \" \".join(s)\n",
        "        return s"
      ],
      "metadata": {
        "id": "tHbvuYaPnGr3"
      },
      "execution_count": null,
      "outputs": []
    },
    {
      "cell_type": "code",
      "source": [
        "df_temp['summary_nltk'] = df_temp['summary_nltk'].fillna(\" \")"
      ],
      "metadata": {
        "id": "4MfcNYM-wb5C"
      },
      "execution_count": null,
      "outputs": []
    },
    {
      "cell_type": "code",
      "source": [
        "df_temp.info()"
      ],
      "metadata": {
        "colab": {
          "base_uri": "https://localhost:8080/"
        },
        "id": "7r8uV9DG6-zR",
        "outputId": "2ca5f7d8-f9cd-4f5a-d269-fec89d37fa8f"
      },
      "execution_count": null,
      "outputs": [
        {
          "output_type": "stream",
          "name": "stdout",
          "text": [
            "<class 'pandas.core.frame.DataFrame'>\n",
            "Int64Index: 11941 entries, 0 to 11944\n",
            "Data columns (total 16 columns):\n",
            " #   Column         Non-Null Count  Dtype  \n",
            "---  ------         --------------  -----  \n",
            " 0   title          11941 non-null  object \n",
            " 1   author         10324 non-null  object \n",
            " 2   url            11941 non-null  object \n",
            " 3   date           11941 non-null  object \n",
            " 4   year           11941 non-null  float64\n",
            " 5   month          11941 non-null  float64\n",
            " 6   day            11941 non-null  float64\n",
            " 7   regions        5342 non-null   object \n",
            " 8   tags           11941 non-null  object \n",
            " 9   summary        11941 non-null  object \n",
            " 10  og_link        11878 non-null  object \n",
            " 11  original_lang  11941 non-null  object \n",
            " 12  label          11941 non-null  int64  \n",
            " 13  summary_nltk   11941 non-null  object \n",
            " 14  entities       11671 non-null  object \n",
            " 15  content_nltk   11941 non-null  object \n",
            "dtypes: float64(3), int64(1), object(12)\n",
            "memory usage: 1.5+ MB\n"
          ]
        }
      ]
    },
    {
      "cell_type": "code",
      "source": [
        "df_temp.isnull().sum()"
      ],
      "metadata": {
        "colab": {
          "base_uri": "https://localhost:8080/"
        },
        "id": "GcNhlGwhwr0t",
        "outputId": "9121b16c-9212-44cf-e064-7b026b73fce8"
      },
      "execution_count": null,
      "outputs": [
        {
          "output_type": "execute_result",
          "data": {
            "text/plain": [
              "title               0\n",
              "author           1617\n",
              "url                 0\n",
              "date                0\n",
              "year                0\n",
              "month               0\n",
              "day                 0\n",
              "regions          6599\n",
              "tags                0\n",
              "summary             0\n",
              "og_link            63\n",
              "original_lang       0\n",
              "label               0\n",
              "summary_nltk        0\n",
              "entities          270\n",
              "content_nltk        0\n",
              "dtype: int64"
            ]
          },
          "metadata": {},
          "execution_count": 6
        }
      ]
    },
    {
      "cell_type": "code",
      "source": [
        "from nltk.tokenize import sent_tokenize\n",
        "import pandas as pd\n",
        "from sklearn.feature_extraction.text import TfidfVectorizer\n",
        "from sklearn import decomposition\n",
        "from nltk.tokenize import word_tokenize\n",
        "from nltk.stem import WordNetLemmatizer\n",
        "from nltk import sent_tokenize\n",
        "\n",
        "from sklearn.feature_extraction.text import CountVectorizer\n",
        "import re\n",
        "documents = df_temp['summary_nltk']\n",
        "# A simple preprocessing function\n",
        "def preproc_text(text):\n",
        "    text = text.lower()  # Convert to lowercase\n",
        "    text = re.sub(r'\\b\\w{1,2}\\b', '', text)  # Remove words with 2 or fewer letters\n",
        "    text = re.sub(r'[^a-z\\s]', '', text)  # Remove all characters that are not letters\n",
        "    return text\n",
        "\n",
        "# Apply preprocessing\n",
        "processed_docs = [preproc_text(doc) for doc in documents]\n",
        "vectorizer = CountVectorizer(stop_words='english')\n",
        "X = vectorizer.fit_transform(processed_docs)\n",
        "from sklearn.decomposition import LatentDirichletAllocation\n",
        "\n",
        "# Number of topics\n",
        "n_topics = 20\n",
        "\n",
        "lda = LatentDirichletAllocation(n_components=n_topics, random_state=0)\n",
        "lda.fit(X)\n",
        "\n",
        "# Get topics\n",
        "topics = lda.components_\n",
        "def display_topics(model, feature_names, no_top_words):\n",
        "    for topic_idx, topic in enumerate(model.components_):\n",
        "        print(f\"Topic {topic_idx}:\")\n",
        "        print(\" \".join([feature_names[i]\n",
        "                        for i in topic.argsort()[:-no_top_words - 1:-1]]))\n",
        "\n",
        "feature_names = vectorizer.get_feature_names_out()\n",
        "no_top_words = 5  # Number of top words to display for each topic\n",
        "\n",
        "display_topics(lda, feature_names, no_top_words)\n",
        "\n",
        "\n",
        "\n"
      ],
      "metadata": {
        "colab": {
          "base_uri": "https://localhost:8080/"
        },
        "id": "EgcQwaMsXdWL",
        "outputId": "4273c4df-7318-4ddc-b8e1-6b6de8ee7e78"
      },
      "execution_count": null,
      "outputs": [
        {
          "output_type": "stream",
          "name": "stdout",
          "text": [
            "Topic 0:\n",
            "ukraine russia russian said military\n",
            "Topic 1:\n",
            "appeared story originally shared permission\n",
            "Topic 2:\n",
            "ukraine russian russia ukrainian said\n",
            "Topic 3:\n",
            "said people ukraine refugees government\n",
            "Topic 4:\n",
            "said prices oil year food\n",
            "Topic 5:\n",
            "said government minister energy russia\n",
            "Topic 6:\n",
            "workers union labor strike people\n",
            "Topic 7:\n",
            "police city baltimore people cop\n",
            "Topic 8:\n",
            "russia ukraine nato russian west\n",
            "Topic 9:\n",
            "ukraine russian ukrainian said russia\n",
            "Topic 10:\n",
            "said people ukraine family home\n",
            "Topic 11:\n",
            "ukraine chris war hedges aid\n",
            "Topic 12:\n",
            "said israel ukraine song war\n",
            "Topic 13:\n",
            "israel israeli war gaza palestinian\n",
            "Topic 14:\n",
            "russian russia vaccine world media\n",
            "Topic 15:\n",
            "marc steiner media news world\n",
            "Topic 16:\n",
            "said university gaza time japan\n",
            "Topic 17:\n",
            "abortion people states new sports\n",
            "Topic 18:\n",
            "biden trump president house joe\n",
            "Topic 19:\n",
            "people sri lanka year history\n"
          ]
        }
      ]
    },
    {
      "cell_type": "markdown",
      "source": [
        "Szövegklaszterezés -> topic extraction ?\n",
        "első modellel tanítani\n",
        "kommentelni, letisztítani a kódot"
      ],
      "metadata": {
        "id": "LX3CR3Vpdeuo"
      }
    },
    {
      "cell_type": "markdown",
      "source": [
        "# Preprocess, ML, DL"
      ],
      "metadata": {
        "id": "MlGDroHJL7Kl"
      }
    },
    {
      "cell_type": "markdown",
      "source": [
        "### Preprocess"
      ],
      "metadata": {
        "id": "2W0nVJID20Jt"
      }
    },
    {
      "cell_type": "code",
      "source": [
        "df['summary_nltk'][0]"
      ],
      "metadata": {
        "colab": {
          "base_uri": "https://localhost:8080/",
          "height": 53
        },
        "id": "t9EssEQcJjuk",
        "outputId": "18ca7c2b-4ea9-4006-9008-c45839323ec9"
      },
      "execution_count": null,
      "outputs": [
        {
          "output_type": "execute_result",
          "data": {
            "text/plain": [
              "'Western countries are carrying out a pressure campaign against Russian media. US Congressmen and French president Emmanuel Macron accused RT and Sputnik, without evidence, of interfering in the elections of their countries.'"
            ],
            "application/vnd.google.colaboratory.intrinsic+json": {
              "type": "string"
            }
          },
          "metadata": {},
          "execution_count": 26
        }
      ]
    },
    {
      "cell_type": "code",
      "source": [
        "df_temp = df"
      ],
      "metadata": {
        "id": "Qq43MaGbnJd-"
      },
      "execution_count": null,
      "outputs": []
    },
    {
      "cell_type": "code",
      "source": [
        "def changeauthor(x):\n",
        "  if x == 'na':\n",
        "    return 'Unknown'\n",
        "  else:\n",
        "    return x"
      ],
      "metadata": {
        "id": "6rt1o5PQHjVk"
      },
      "execution_count": null,
      "outputs": []
    },
    {
      "cell_type": "code",
      "source": [
        "df_temp['author'] = df['author'].apply(lambda x: changeauthor(x))"
      ],
      "metadata": {
        "id": "YT-_rXelHMFj"
      },
      "execution_count": null,
      "outputs": []
    },
    {
      "cell_type": "code",
      "source": [
        "df_temp.to_csv('dataset.csv')"
      ],
      "metadata": {
        "id": "OX43I5mUH1Ta"
      },
      "execution_count": null,
      "outputs": []
    },
    {
      "cell_type": "code",
      "source": [
        "df_temp['author'] = df_temp['author'].fillna(\"Unknown\")\n",
        "#df_temp['content'] = df_temp['content'].fillna(\" \")\n",
        "\n",
        "df_temp = df_temp.dropna(subset = ['summary_nltk'])\n",
        "#df_temp = df_temp.dropna(subset = ['summarized_sumy'])\n",
        "df_temp = df_temp.dropna(subset = ['og_link'])\n",
        "df_temp = df_temp.dropna(subset = ['date'])"
      ],
      "metadata": {
        "id": "cKlEbLVWOci6"
      },
      "execution_count": null,
      "outputs": []
    },
    {
      "cell_type": "code",
      "source": [
        "df_temp.isnull().sum()"
      ],
      "metadata": {
        "colab": {
          "base_uri": "https://localhost:8080/"
        },
        "id": "qksW_5C9Ov-t",
        "outputId": "5b49689c-64a2-4d81-cad0-24406bd7e05a"
      },
      "execution_count": null,
      "outputs": [
        {
          "output_type": "execute_result",
          "data": {
            "text/plain": [
              "title               0\n",
              "author              0\n",
              "url                 0\n",
              "date                0\n",
              "year                0\n",
              "month               0\n",
              "day                 0\n",
              "regions          6401\n",
              "tags                0\n",
              "summary             0\n",
              "og_link             0\n",
              "original_lang       0\n",
              "label               0\n",
              "summary_nltk        0\n",
              "entities          129\n",
              "dtype: int64"
            ]
          },
          "metadata": {},
          "execution_count": 32
        }
      ]
    },
    {
      "cell_type": "code",
      "source": [
        "df_temp.info()"
      ],
      "metadata": {
        "colab": {
          "base_uri": "https://localhost:8080/"
        },
        "id": "xUb2AjaNTdXp",
        "outputId": "46aaec80-3eda-498e-d6a5-636df7b8e12c"
      },
      "execution_count": null,
      "outputs": [
        {
          "output_type": "stream",
          "name": "stdout",
          "text": [
            "<class 'pandas.core.frame.DataFrame'>\n",
            "Index: 12520 entries, 0 to 12877\n",
            "Data columns (total 15 columns):\n",
            " #   Column         Non-Null Count  Dtype  \n",
            "---  ------         --------------  -----  \n",
            " 0   title          12520 non-null  object \n",
            " 1   author         12520 non-null  object \n",
            " 2   url            12520 non-null  object \n",
            " 3   date           12520 non-null  object \n",
            " 4   year           12520 non-null  float64\n",
            " 5   month          12520 non-null  float64\n",
            " 6   day            12520 non-null  float64\n",
            " 7   regions        6119 non-null   object \n",
            " 8   tags           12520 non-null  object \n",
            " 9   summary        12520 non-null  object \n",
            " 10  og_link        12520 non-null  object \n",
            " 11  original_lang  12520 non-null  object \n",
            " 12  label          12520 non-null  int64  \n",
            " 13  summary_nltk   12520 non-null  object \n",
            " 14  entities       12391 non-null  object \n",
            "dtypes: float64(3), int64(1), object(11)\n",
            "memory usage: 1.5+ MB\n"
          ]
        }
      ]
    },
    {
      "cell_type": "code",
      "source": [],
      "metadata": {
        "id": "je59IrP8eS6F"
      },
      "execution_count": null,
      "outputs": []
    },
    {
      "cell_type": "code",
      "source": [
        "df_temp['content'] =  df_temp['summary_nltk']  +\", \" + df_temp['title'] +\", \" + df_temp['author']\n",
        "#df['content_sumy'] =  df['summarized_sumy'] + \" \" +  df['title']\n",
        "#df= pd.read_csv('/content/drive/MyDrive/Fake news/dataset_enti_sum_processed.csv', index_col=0)"
      ],
      "metadata": {
        "id": "T0G_P0B6bLai"
      },
      "execution_count": null,
      "outputs": []
    },
    {
      "cell_type": "code",
      "source": [
        "df_temp.isna().sum()"
      ],
      "metadata": {
        "id": "D4du0QHtalRt"
      },
      "execution_count": null,
      "outputs": []
    },
    {
      "cell_type": "code",
      "source": [
        "def preprocess_text(text):\n",
        "    #print(\"\\n Preprocessing: \\n\")\n",
        "    # Convert to lowercase\n",
        "    text = text.lower()\n",
        "    #print(\"Lower: \", text)\n",
        "    # Remove special characters and numbers\n",
        "    text = ''.join([char for char in text if char.isalpha() or char.isspace()])\n",
        "    # print(\"Special chars\", text)\n",
        "    # Tokenization\n",
        "    words = word_tokenize(text)\n",
        "    # print(\"Tokens\", words)\n",
        "    # Remove stopwords\n",
        "    stop_words = set(stopwords.words('english'))\n",
        "    words = [word for word in words if word not in stop_words]\n",
        "    #print(\"Stopwordsd removed\", words)\n",
        "    #Stemming\n",
        "    stemmer = PorterStemmer()\n",
        "    words = [stemmer.stem(word) for word in words]\n",
        "    #print(\"Stemmed\" ,words)\n",
        "    # Lemmatization\n",
        "    lemmatizer = WordNetLemmatizer()\n",
        "    words = [lemmatizer.lemmatize(word) for word in words]\n",
        "    #print(\"Lemmatized\", words)\n",
        "\n",
        "    return ' '.join(words)"
      ],
      "metadata": {
        "id": "u-SLtis9ba-3"
      },
      "execution_count": null,
      "outputs": []
    },
    {
      "cell_type": "code",
      "source": [
        "df_temp['content'] = df_temp['content'].fillna(\"\")"
      ],
      "metadata": {
        "id": "dCxbmZD0f3Vk"
      },
      "execution_count": null,
      "outputs": []
    },
    {
      "cell_type": "code",
      "source": [
        "df_temp['content'] = df_temp['content'].apply(preprocess_text)\n",
        "#df['content_sumy'].apply(preprocess_text)\n"
      ],
      "metadata": {
        "id": "rhOMb7cubXfQ"
      },
      "execution_count": null,
      "outputs": []
    },
    {
      "cell_type": "code",
      "source": [
        "df_temp['content'][0]"
      ],
      "metadata": {
        "colab": {
          "base_uri": "https://localhost:8080/",
          "height": 53
        },
        "id": "SKyB_yc-J79D",
        "outputId": "b99eb305-ec0d-4e37-d7f9-382ee3d86029"
      },
      "execution_count": null,
      "outputs": [
        {
          "output_type": "execute_result",
          "data": {
            "text/plain": [
              "'western countri carri pressur campaign russian medium u congressman french presid emmanuel macron accus rt sputnik without evid interf elect countri western pressur campaign russian medium unknown'"
            ],
            "application/vnd.google.colaboratory.intrinsic+json": {
              "type": "string"
            }
          },
          "metadata": {},
          "execution_count": 37
        }
      ]
    },
    {
      "cell_type": "code",
      "source": [
        "df_temp['content'] = df_temp['content'].str.replace(r\"[\\\"'!@#$%^&*(){}[\\]:;,<.>?/~`_+=|-]\", '', regex=True)\n",
        "#df['content_sumy'] =  df['content_sumy'].str.replace(r\"[\\\"'!@#$%^&*(){}[\\]:;,<.>?/~`_+=|-]\", '', regex=True)"
      ],
      "metadata": {
        "id": "HiWl58VJIG7h"
      },
      "execution_count": null,
      "outputs": []
    },
    {
      "cell_type": "markdown",
      "source": [
        "## Training"
      ],
      "metadata": {
        "id": "hv-r8DZZ25ob"
      }
    },
    {
      "cell_type": "markdown",
      "source": [
        "### First ~3000 data"
      ],
      "metadata": {
        "id": "j5OOuzQa3Utv"
      }
    },
    {
      "cell_type": "code",
      "source": [
        "tfidf_first = TfidfVectorizer() # Limiting to 1000 features for demonstration\n",
        "tfidf_features = tfidf_first.fit_transform(df_first['content_nltk'])\n",
        "\n",
        "# Combine all features into a single feature matrix\n",
        "# Note: Ensure all feature matrices have the same number of rows\n",
        "features_combined = sp.hstack((tfidf_features, df_first[['year', 'month', 'day']].values), format='csr')\n",
        "\n",
        "# Target variable\n",
        "y = df_first['label'].values\n",
        "\n",
        "# Split the data into training and testing sets\n",
        "X_train, X_test, y_train, y_test = train_test_split(features_combined, y, test_size=0.2, random_state=42)"
      ],
      "metadata": {
        "id": "176cPvOp3cYf"
      },
      "execution_count": null,
      "outputs": []
    },
    {
      "cell_type": "code",
      "source": [
        "from sklearn.ensemble import RandomForestClassifier\n",
        "rf_first = RandomForestClassifier(random_state=42)\n",
        "rf_first.fit(X_train, y_train)"
      ],
      "metadata": {
        "id": "H2RM_WEdDcrw"
      },
      "execution_count": null,
      "outputs": []
    },
    {
      "cell_type": "code",
      "source": [
        "from sklearn import svm\n",
        "svm_first = svm.SVC(kernel='linear')\n",
        "\n",
        "svm_first.fit(X_train, y_train)"
      ],
      "metadata": {
        "id": "Fqkog-TbDemD"
      },
      "execution_count": null,
      "outputs": []
    },
    {
      "cell_type": "code",
      "source": [
        "lg_first = LogisticRegression()\n",
        "lg_first.fit(X_train, y_train)"
      ],
      "metadata": {
        "id": "XiS4Ci-aDgp2"
      },
      "execution_count": null,
      "outputs": []
    },
    {
      "cell_type": "code",
      "source": [
        "predictions_first = rf_first.predict(X_test)\n",
        "pred_svm_f =svm_first.predict(X_test)\n",
        "\n",
        "pred_lg_f = lg_first.predict(X_test)"
      ],
      "metadata": {
        "id": "sNRHhmKmDiS3"
      },
      "execution_count": null,
      "outputs": []
    },
    {
      "cell_type": "code",
      "source": [
        "from sklearn.metrics import accuracy_score, f1_score\n",
        "\n",
        "\n",
        "accuracy_f = accuracy_score(y_test, predictions_first)#\n",
        "accuracy_svm_f= accuracy_score(y_test, pred_svm_f)\n",
        "\n",
        "accuracy_lg_F= accuracy_score(y_test, pred_lg_f)\n",
        "\n",
        "f1_F = f1_score(y_test, predictions_first, average='binary')\n",
        "f1_svm_F= f1_score(y_test, pred_svm_f, average='binary')\n",
        "f1_lg_F = f1_score(y_test, pred_lg_f, average='binary')\n",
        "\n",
        "print(f\"Accuracy RF: {accuracy_f}\")\n",
        "print(f\"Accuracy SVM: {accuracy_svm_f}\")\n",
        "\n",
        "print(f\"Accuracy LG: {accuracy_lg_F}\")\n",
        "print(f\"F1 Score: {f1_F}\")\n",
        "print(f\"F1 Score SVM: {f1_svm_F}\")\n",
        "print(f\"F1 Score LG: {f1_lg_F}\")"
      ],
      "metadata": {
        "id": "7CVNkvGVDkwC"
      },
      "execution_count": null,
      "outputs": []
    },
    {
      "cell_type": "code",
      "source": [
        "from sklearn.metrics import confusion_matrix\n",
        "import seaborn as sns\n",
        "import matplotlib.pyplot as plt\n",
        "\n",
        "conf_matrix = confusion_matrix(y_test, predictions_first)\n",
        "sns.heatmap(conf_matrix, annot=True, fmt='d', cmap='Blues')\n",
        "plt.xlabel('Predicted Label')\n",
        "plt.ylabel('True Label')\n",
        "plt.title('Confusion Matrix')\n",
        "plt.show()"
      ],
      "metadata": {
        "id": "AFQbEitbDmlj"
      },
      "execution_count": null,
      "outputs": []
    },
    {
      "cell_type": "markdown",
      "source": [
        "### With all data"
      ],
      "metadata": {
        "id": "L_6dcydq3bt8"
      }
    },
    {
      "cell_type": "code",
      "source": [
        "df_temp = df_temp.dropna(subset = ['summary_nltk'])"
      ],
      "metadata": {
        "id": "bkS6iFTz8Rl1"
      },
      "execution_count": null,
      "outputs": []
    },
    {
      "cell_type": "code",
      "source": [
        "df_temp.isna().sum()"
      ],
      "metadata": {
        "colab": {
          "base_uri": "https://localhost:8080/"
        },
        "id": "Md5Ia01Z3Z48",
        "outputId": "98a3a063-50f9-4189-886b-604ec7bca818"
      },
      "execution_count": null,
      "outputs": [
        {
          "output_type": "execute_result",
          "data": {
            "text/plain": [
              "title               0\n",
              "author              0\n",
              "url                 0\n",
              "date                0\n",
              "year                0\n",
              "month               0\n",
              "day                 0\n",
              "regions          6401\n",
              "tags                0\n",
              "summary             0\n",
              "og_link             0\n",
              "original_lang       0\n",
              "label               0\n",
              "summary_nltk        0\n",
              "entities          129\n",
              "content             0\n",
              "dtype: int64"
            ]
          },
          "metadata": {},
          "execution_count": 41
        }
      ]
    },
    {
      "cell_type": "code",
      "source": [],
      "metadata": {
        "id": "ZUTWnIl4yxwp"
      },
      "execution_count": null,
      "outputs": []
    },
    {
      "cell_type": "code",
      "source": [
        "tfidf_vectorizer = TfidfVectorizer() # Limiting to 1000 features for demonstration\n",
        "tfidf_features = tfidf_vectorizer.fit_transform(df_temp['content'])\n",
        "\n",
        "# Combine all features into a single feature matrix\n",
        "# Note: Ensure all feature matrices have the same number of rows\n",
        "features_combined = sp.hstack((tfidf_features, df_temp[['year', 'month', 'day']].values), format='csr')\n",
        "\n",
        "# Target variable\n",
        "y = df_temp['label'].values\n",
        "\n",
        "# Split the data into training and testing sets\n",
        "X_train, X_test, y_train, y_test = train_test_split(features_combined, y, test_size=0.2)"
      ],
      "metadata": {
        "id": "nWcmzIxMgaSv"
      },
      "execution_count": null,
      "outputs": []
    },
    {
      "cell_type": "code",
      "source": [
        "from sklearn.ensemble import RandomForestClassifier\n",
        "rf_model = RandomForestClassifier(max_depth=5, random_state=42)\n",
        "rf_model.fit(X_train, y_train)"
      ],
      "metadata": {
        "colab": {
          "base_uri": "https://localhost:8080/",
          "height": 74
        },
        "id": "WYhl-Os4gcvB",
        "outputId": "3a71bbd1-8030-4be9-b228-5b8da3344a08"
      },
      "execution_count": null,
      "outputs": [
        {
          "output_type": "execute_result",
          "data": {
            "text/plain": [
              "RandomForestClassifier(max_depth=5, random_state=42)"
            ],
            "text/html": [
              "<style>#sk-container-id-1 {color: black;background-color: white;}#sk-container-id-1 pre{padding: 0;}#sk-container-id-1 div.sk-toggleable {background-color: white;}#sk-container-id-1 label.sk-toggleable__label {cursor: pointer;display: block;width: 100%;margin-bottom: 0;padding: 0.3em;box-sizing: border-box;text-align: center;}#sk-container-id-1 label.sk-toggleable__label-arrow:before {content: \"▸\";float: left;margin-right: 0.25em;color: #696969;}#sk-container-id-1 label.sk-toggleable__label-arrow:hover:before {color: black;}#sk-container-id-1 div.sk-estimator:hover label.sk-toggleable__label-arrow:before {color: black;}#sk-container-id-1 div.sk-toggleable__content {max-height: 0;max-width: 0;overflow: hidden;text-align: left;background-color: #f0f8ff;}#sk-container-id-1 div.sk-toggleable__content pre {margin: 0.2em;color: black;border-radius: 0.25em;background-color: #f0f8ff;}#sk-container-id-1 input.sk-toggleable__control:checked~div.sk-toggleable__content {max-height: 200px;max-width: 100%;overflow: auto;}#sk-container-id-1 input.sk-toggleable__control:checked~label.sk-toggleable__label-arrow:before {content: \"▾\";}#sk-container-id-1 div.sk-estimator input.sk-toggleable__control:checked~label.sk-toggleable__label {background-color: #d4ebff;}#sk-container-id-1 div.sk-label input.sk-toggleable__control:checked~label.sk-toggleable__label {background-color: #d4ebff;}#sk-container-id-1 input.sk-hidden--visually {border: 0;clip: rect(1px 1px 1px 1px);clip: rect(1px, 1px, 1px, 1px);height: 1px;margin: -1px;overflow: hidden;padding: 0;position: absolute;width: 1px;}#sk-container-id-1 div.sk-estimator {font-family: monospace;background-color: #f0f8ff;border: 1px dotted black;border-radius: 0.25em;box-sizing: border-box;margin-bottom: 0.5em;}#sk-container-id-1 div.sk-estimator:hover {background-color: #d4ebff;}#sk-container-id-1 div.sk-parallel-item::after {content: \"\";width: 100%;border-bottom: 1px solid gray;flex-grow: 1;}#sk-container-id-1 div.sk-label:hover label.sk-toggleable__label {background-color: #d4ebff;}#sk-container-id-1 div.sk-serial::before {content: \"\";position: absolute;border-left: 1px solid gray;box-sizing: border-box;top: 0;bottom: 0;left: 50%;z-index: 0;}#sk-container-id-1 div.sk-serial {display: flex;flex-direction: column;align-items: center;background-color: white;padding-right: 0.2em;padding-left: 0.2em;position: relative;}#sk-container-id-1 div.sk-item {position: relative;z-index: 1;}#sk-container-id-1 div.sk-parallel {display: flex;align-items: stretch;justify-content: center;background-color: white;position: relative;}#sk-container-id-1 div.sk-item::before, #sk-container-id-1 div.sk-parallel-item::before {content: \"\";position: absolute;border-left: 1px solid gray;box-sizing: border-box;top: 0;bottom: 0;left: 50%;z-index: -1;}#sk-container-id-1 div.sk-parallel-item {display: flex;flex-direction: column;z-index: 1;position: relative;background-color: white;}#sk-container-id-1 div.sk-parallel-item:first-child::after {align-self: flex-end;width: 50%;}#sk-container-id-1 div.sk-parallel-item:last-child::after {align-self: flex-start;width: 50%;}#sk-container-id-1 div.sk-parallel-item:only-child::after {width: 0;}#sk-container-id-1 div.sk-dashed-wrapped {border: 1px dashed gray;margin: 0 0.4em 0.5em 0.4em;box-sizing: border-box;padding-bottom: 0.4em;background-color: white;}#sk-container-id-1 div.sk-label label {font-family: monospace;font-weight: bold;display: inline-block;line-height: 1.2em;}#sk-container-id-1 div.sk-label-container {text-align: center;}#sk-container-id-1 div.sk-container {/* jupyter's `normalize.less` sets `[hidden] { display: none; }` but bootstrap.min.css set `[hidden] { display: none !important; }` so we also need the `!important` here to be able to override the default hidden behavior on the sphinx rendered scikit-learn.org. See: https://github.com/scikit-learn/scikit-learn/issues/21755 */display: inline-block !important;position: relative;}#sk-container-id-1 div.sk-text-repr-fallback {display: none;}</style><div id=\"sk-container-id-1\" class=\"sk-top-container\"><div class=\"sk-text-repr-fallback\"><pre>RandomForestClassifier(max_depth=5, random_state=42)</pre><b>In a Jupyter environment, please rerun this cell to show the HTML representation or trust the notebook. <br />On GitHub, the HTML representation is unable to render, please try loading this page with nbviewer.org.</b></div><div class=\"sk-container\" hidden><div class=\"sk-item\"><div class=\"sk-estimator sk-toggleable\"><input class=\"sk-toggleable__control sk-hidden--visually\" id=\"sk-estimator-id-1\" type=\"checkbox\" checked><label for=\"sk-estimator-id-1\" class=\"sk-toggleable__label sk-toggleable__label-arrow\">RandomForestClassifier</label><div class=\"sk-toggleable__content\"><pre>RandomForestClassifier(max_depth=5, random_state=42)</pre></div></div></div></div></div>"
            ]
          },
          "metadata": {},
          "execution_count": 44
        }
      ]
    },
    {
      "cell_type": "code",
      "source": [
        "from sklearn import svm\n",
        "svm_model = svm.SVC(kernel='linear')\n",
        "\n",
        "svm_model.fit(X_train, y_train)"
      ],
      "metadata": {
        "colab": {
          "base_uri": "https://localhost:8080/",
          "height": 74
        },
        "id": "jkCwIk7FgkAz",
        "outputId": "c792282b-dd9e-4d5a-f05c-e9c16c128a10"
      },
      "execution_count": null,
      "outputs": [
        {
          "output_type": "execute_result",
          "data": {
            "text/plain": [
              "SVC(kernel='linear')"
            ],
            "text/html": [
              "<style>#sk-container-id-2 {color: black;background-color: white;}#sk-container-id-2 pre{padding: 0;}#sk-container-id-2 div.sk-toggleable {background-color: white;}#sk-container-id-2 label.sk-toggleable__label {cursor: pointer;display: block;width: 100%;margin-bottom: 0;padding: 0.3em;box-sizing: border-box;text-align: center;}#sk-container-id-2 label.sk-toggleable__label-arrow:before {content: \"▸\";float: left;margin-right: 0.25em;color: #696969;}#sk-container-id-2 label.sk-toggleable__label-arrow:hover:before {color: black;}#sk-container-id-2 div.sk-estimator:hover label.sk-toggleable__label-arrow:before {color: black;}#sk-container-id-2 div.sk-toggleable__content {max-height: 0;max-width: 0;overflow: hidden;text-align: left;background-color: #f0f8ff;}#sk-container-id-2 div.sk-toggleable__content pre {margin: 0.2em;color: black;border-radius: 0.25em;background-color: #f0f8ff;}#sk-container-id-2 input.sk-toggleable__control:checked~div.sk-toggleable__content {max-height: 200px;max-width: 100%;overflow: auto;}#sk-container-id-2 input.sk-toggleable__control:checked~label.sk-toggleable__label-arrow:before {content: \"▾\";}#sk-container-id-2 div.sk-estimator input.sk-toggleable__control:checked~label.sk-toggleable__label {background-color: #d4ebff;}#sk-container-id-2 div.sk-label input.sk-toggleable__control:checked~label.sk-toggleable__label {background-color: #d4ebff;}#sk-container-id-2 input.sk-hidden--visually {border: 0;clip: rect(1px 1px 1px 1px);clip: rect(1px, 1px, 1px, 1px);height: 1px;margin: -1px;overflow: hidden;padding: 0;position: absolute;width: 1px;}#sk-container-id-2 div.sk-estimator {font-family: monospace;background-color: #f0f8ff;border: 1px dotted black;border-radius: 0.25em;box-sizing: border-box;margin-bottom: 0.5em;}#sk-container-id-2 div.sk-estimator:hover {background-color: #d4ebff;}#sk-container-id-2 div.sk-parallel-item::after {content: \"\";width: 100%;border-bottom: 1px solid gray;flex-grow: 1;}#sk-container-id-2 div.sk-label:hover label.sk-toggleable__label {background-color: #d4ebff;}#sk-container-id-2 div.sk-serial::before {content: \"\";position: absolute;border-left: 1px solid gray;box-sizing: border-box;top: 0;bottom: 0;left: 50%;z-index: 0;}#sk-container-id-2 div.sk-serial {display: flex;flex-direction: column;align-items: center;background-color: white;padding-right: 0.2em;padding-left: 0.2em;position: relative;}#sk-container-id-2 div.sk-item {position: relative;z-index: 1;}#sk-container-id-2 div.sk-parallel {display: flex;align-items: stretch;justify-content: center;background-color: white;position: relative;}#sk-container-id-2 div.sk-item::before, #sk-container-id-2 div.sk-parallel-item::before {content: \"\";position: absolute;border-left: 1px solid gray;box-sizing: border-box;top: 0;bottom: 0;left: 50%;z-index: -1;}#sk-container-id-2 div.sk-parallel-item {display: flex;flex-direction: column;z-index: 1;position: relative;background-color: white;}#sk-container-id-2 div.sk-parallel-item:first-child::after {align-self: flex-end;width: 50%;}#sk-container-id-2 div.sk-parallel-item:last-child::after {align-self: flex-start;width: 50%;}#sk-container-id-2 div.sk-parallel-item:only-child::after {width: 0;}#sk-container-id-2 div.sk-dashed-wrapped {border: 1px dashed gray;margin: 0 0.4em 0.5em 0.4em;box-sizing: border-box;padding-bottom: 0.4em;background-color: white;}#sk-container-id-2 div.sk-label label {font-family: monospace;font-weight: bold;display: inline-block;line-height: 1.2em;}#sk-container-id-2 div.sk-label-container {text-align: center;}#sk-container-id-2 div.sk-container {/* jupyter's `normalize.less` sets `[hidden] { display: none; }` but bootstrap.min.css set `[hidden] { display: none !important; }` so we also need the `!important` here to be able to override the default hidden behavior on the sphinx rendered scikit-learn.org. See: https://github.com/scikit-learn/scikit-learn/issues/21755 */display: inline-block !important;position: relative;}#sk-container-id-2 div.sk-text-repr-fallback {display: none;}</style><div id=\"sk-container-id-2\" class=\"sk-top-container\"><div class=\"sk-text-repr-fallback\"><pre>SVC(kernel=&#x27;linear&#x27;)</pre><b>In a Jupyter environment, please rerun this cell to show the HTML representation or trust the notebook. <br />On GitHub, the HTML representation is unable to render, please try loading this page with nbviewer.org.</b></div><div class=\"sk-container\" hidden><div class=\"sk-item\"><div class=\"sk-estimator sk-toggleable\"><input class=\"sk-toggleable__control sk-hidden--visually\" id=\"sk-estimator-id-2\" type=\"checkbox\" checked><label for=\"sk-estimator-id-2\" class=\"sk-toggleable__label sk-toggleable__label-arrow\">SVC</label><div class=\"sk-toggleable__content\"><pre>SVC(kernel=&#x27;linear&#x27;)</pre></div></div></div></div></div>"
            ]
          },
          "metadata": {},
          "execution_count": 45
        }
      ]
    },
    {
      "cell_type": "code",
      "source": [
        "lg_model = LogisticRegression()\n",
        "lg_model.fit(X_train, y_train)"
      ],
      "metadata": {
        "colab": {
          "base_uri": "https://localhost:8080/",
          "height": 213
        },
        "id": "Ny0Xhvfogfd7",
        "outputId": "5cb3a4be-576a-4454-80ab-c556def5fbeb"
      },
      "execution_count": null,
      "outputs": [
        {
          "output_type": "stream",
          "name": "stderr",
          "text": [
            "/usr/local/lib/python3.10/dist-packages/sklearn/linear_model/_logistic.py:458: ConvergenceWarning: lbfgs failed to converge (status=1):\n",
            "STOP: TOTAL NO. of ITERATIONS REACHED LIMIT.\n",
            "\n",
            "Increase the number of iterations (max_iter) or scale the data as shown in:\n",
            "    https://scikit-learn.org/stable/modules/preprocessing.html\n",
            "Please also refer to the documentation for alternative solver options:\n",
            "    https://scikit-learn.org/stable/modules/linear_model.html#logistic-regression\n",
            "  n_iter_i = _check_optimize_result(\n"
          ]
        },
        {
          "output_type": "execute_result",
          "data": {
            "text/plain": [
              "LogisticRegression()"
            ],
            "text/html": [
              "<style>#sk-container-id-3 {color: black;background-color: white;}#sk-container-id-3 pre{padding: 0;}#sk-container-id-3 div.sk-toggleable {background-color: white;}#sk-container-id-3 label.sk-toggleable__label {cursor: pointer;display: block;width: 100%;margin-bottom: 0;padding: 0.3em;box-sizing: border-box;text-align: center;}#sk-container-id-3 label.sk-toggleable__label-arrow:before {content: \"▸\";float: left;margin-right: 0.25em;color: #696969;}#sk-container-id-3 label.sk-toggleable__label-arrow:hover:before {color: black;}#sk-container-id-3 div.sk-estimator:hover label.sk-toggleable__label-arrow:before {color: black;}#sk-container-id-3 div.sk-toggleable__content {max-height: 0;max-width: 0;overflow: hidden;text-align: left;background-color: #f0f8ff;}#sk-container-id-3 div.sk-toggleable__content pre {margin: 0.2em;color: black;border-radius: 0.25em;background-color: #f0f8ff;}#sk-container-id-3 input.sk-toggleable__control:checked~div.sk-toggleable__content {max-height: 200px;max-width: 100%;overflow: auto;}#sk-container-id-3 input.sk-toggleable__control:checked~label.sk-toggleable__label-arrow:before {content: \"▾\";}#sk-container-id-3 div.sk-estimator input.sk-toggleable__control:checked~label.sk-toggleable__label {background-color: #d4ebff;}#sk-container-id-3 div.sk-label input.sk-toggleable__control:checked~label.sk-toggleable__label {background-color: #d4ebff;}#sk-container-id-3 input.sk-hidden--visually {border: 0;clip: rect(1px 1px 1px 1px);clip: rect(1px, 1px, 1px, 1px);height: 1px;margin: -1px;overflow: hidden;padding: 0;position: absolute;width: 1px;}#sk-container-id-3 div.sk-estimator {font-family: monospace;background-color: #f0f8ff;border: 1px dotted black;border-radius: 0.25em;box-sizing: border-box;margin-bottom: 0.5em;}#sk-container-id-3 div.sk-estimator:hover {background-color: #d4ebff;}#sk-container-id-3 div.sk-parallel-item::after {content: \"\";width: 100%;border-bottom: 1px solid gray;flex-grow: 1;}#sk-container-id-3 div.sk-label:hover label.sk-toggleable__label {background-color: #d4ebff;}#sk-container-id-3 div.sk-serial::before {content: \"\";position: absolute;border-left: 1px solid gray;box-sizing: border-box;top: 0;bottom: 0;left: 50%;z-index: 0;}#sk-container-id-3 div.sk-serial {display: flex;flex-direction: column;align-items: center;background-color: white;padding-right: 0.2em;padding-left: 0.2em;position: relative;}#sk-container-id-3 div.sk-item {position: relative;z-index: 1;}#sk-container-id-3 div.sk-parallel {display: flex;align-items: stretch;justify-content: center;background-color: white;position: relative;}#sk-container-id-3 div.sk-item::before, #sk-container-id-3 div.sk-parallel-item::before {content: \"\";position: absolute;border-left: 1px solid gray;box-sizing: border-box;top: 0;bottom: 0;left: 50%;z-index: -1;}#sk-container-id-3 div.sk-parallel-item {display: flex;flex-direction: column;z-index: 1;position: relative;background-color: white;}#sk-container-id-3 div.sk-parallel-item:first-child::after {align-self: flex-end;width: 50%;}#sk-container-id-3 div.sk-parallel-item:last-child::after {align-self: flex-start;width: 50%;}#sk-container-id-3 div.sk-parallel-item:only-child::after {width: 0;}#sk-container-id-3 div.sk-dashed-wrapped {border: 1px dashed gray;margin: 0 0.4em 0.5em 0.4em;box-sizing: border-box;padding-bottom: 0.4em;background-color: white;}#sk-container-id-3 div.sk-label label {font-family: monospace;font-weight: bold;display: inline-block;line-height: 1.2em;}#sk-container-id-3 div.sk-label-container {text-align: center;}#sk-container-id-3 div.sk-container {/* jupyter's `normalize.less` sets `[hidden] { display: none; }` but bootstrap.min.css set `[hidden] { display: none !important; }` so we also need the `!important` here to be able to override the default hidden behavior on the sphinx rendered scikit-learn.org. See: https://github.com/scikit-learn/scikit-learn/issues/21755 */display: inline-block !important;position: relative;}#sk-container-id-3 div.sk-text-repr-fallback {display: none;}</style><div id=\"sk-container-id-3\" class=\"sk-top-container\"><div class=\"sk-text-repr-fallback\"><pre>LogisticRegression()</pre><b>In a Jupyter environment, please rerun this cell to show the HTML representation or trust the notebook. <br />On GitHub, the HTML representation is unable to render, please try loading this page with nbviewer.org.</b></div><div class=\"sk-container\" hidden><div class=\"sk-item\"><div class=\"sk-estimator sk-toggleable\"><input class=\"sk-toggleable__control sk-hidden--visually\" id=\"sk-estimator-id-3\" type=\"checkbox\" checked><label for=\"sk-estimator-id-3\" class=\"sk-toggleable__label sk-toggleable__label-arrow\">LogisticRegression</label><div class=\"sk-toggleable__content\"><pre>LogisticRegression()</pre></div></div></div></div></div>"
            ]
          },
          "metadata": {},
          "execution_count": 46
        }
      ]
    },
    {
      "cell_type": "code",
      "source": [
        "predictions = rf_model.predict(X_test)\n",
        "pred_svm =svm_model.predict(X_test)\n",
        "\n",
        "pred_lg = lg_model.predict(X_test)"
      ],
      "metadata": {
        "id": "G2zVapz5ghl1"
      },
      "execution_count": null,
      "outputs": []
    },
    {
      "cell_type": "code",
      "source": [
        "from sklearn.metrics import accuracy_score, f1_score, classification_report\n",
        "\n",
        "\n",
        "accuracy = accuracy_score(y_test, predictions)#\n",
        "accuracy_svm= accuracy_score(y_test, pred_svm)\n",
        "\n",
        "accuracy_lg= accuracy_score(y_test, pred_lg)\n",
        "\n",
        "f1 = f1_score(y_test, predictions, average='binary')\n",
        "f1_svm = f1_score(y_test, pred_svm, average='binary')\n",
        "f1_lg = f1_score(y_test, pred_lg, average='binary')\n",
        "\n",
        "print(f\"Accuracy RF: {accuracy}\")\n",
        "print(f\"Accuracy SVM: {accuracy_svm}\")\n",
        "\n",
        "print(f\"Accuracy LG: {accuracy_lg}\")\n",
        "print(f\"F1 Score: {f1}\")\n",
        "print(f\"F1 Score SVM: {f1_svm}\")\n",
        "print(f\"F1 Score LG: {f1_lg}\")\n",
        "\n",
        "print(classification_report(y_test,predictions))"
      ],
      "metadata": {
        "colab": {
          "base_uri": "https://localhost:8080/"
        },
        "id": "UzPbf3bxgmIK",
        "outputId": "1825d50d-06ba-48fa-852b-18a5ec4a5456"
      },
      "execution_count": null,
      "outputs": [
        {
          "output_type": "stream",
          "name": "stdout",
          "text": [
            "Accuracy RF: 0.9880191693290735\n",
            "Accuracy SVM: 0.9644568690095847\n",
            "Accuracy LG: 0.9952076677316294\n",
            "F1 Score: 0.988\n",
            "F1 Score SVM: 0.9630552096305521\n",
            "F1 Score LG: 0.9951690821256038\n",
            "              precision    recall  f1-score   support\n",
            "\n",
            "           0       0.99      0.98      0.99      1262\n",
            "           1       0.98      0.99      0.99      1242\n",
            "\n",
            "    accuracy                           0.99      2504\n",
            "   macro avg       0.99      0.99      0.99      2504\n",
            "weighted avg       0.99      0.99      0.99      2504\n",
            "\n"
          ]
        }
      ]
    },
    {
      "cell_type": "code",
      "source": [
        "from sklearn.naive_bayes import MultinomialNB\n",
        "from sklearn.metrics import classification_report\n",
        "\n",
        "# Create a Naive Bayes classifier\n",
        "nb_classifier = MultinomialNB()\n",
        "\n",
        "# Train the classifier\n",
        "nb_classifier.fit(X_train, y_train)\n",
        "\n",
        "# Predict on the test set\n",
        "nb_predictions = nb_classifier.predict(X_test)\n",
        "\n",
        "# Evaluate the classifier\n",
        "print(\"Naive Bayes Classifier Report:\")\n",
        "print(classification_report(y_test, nb_predictions))\n"
      ],
      "metadata": {
        "colab": {
          "base_uri": "https://localhost:8080/"
        },
        "id": "MnMKEFbuB3zZ",
        "outputId": "f8a69535-c851-43e3-8697-1167b31023d7"
      },
      "execution_count": null,
      "outputs": [
        {
          "output_type": "stream",
          "name": "stdout",
          "text": [
            "Naive Bayes Classifier Report:\n",
            "              precision    recall  f1-score   support\n",
            "\n",
            "           0       1.00      0.96      0.98      1262\n",
            "           1       0.96      1.00      0.98      1242\n",
            "\n",
            "    accuracy                           0.98      2504\n",
            "   macro avg       0.98      0.98      0.98      2504\n",
            "weighted avg       0.98      0.98      0.98      2504\n",
            "\n"
          ]
        }
      ]
    },
    {
      "cell_type": "code",
      "source": [
        "from sklearn.ensemble import GradientBoostingClassifier\n",
        "\n",
        "# Create a GBM classifier\n",
        "gbm_classifier = GradientBoostingClassifier(n_estimators=100, learning_rate=0.1, max_depth=3, random_state=42)\n",
        "\n",
        "# Train the classifier\n",
        "gbm_classifier.fit(X_train, y_train)\n",
        "\n",
        "# Predict on the test set\n",
        "gbm_predictions = gbm_classifier.predict(X_test)\n",
        "\n",
        "# Evaluate the classifier\n",
        "print(\"Gradient Boosting Machine Classifier Report:\")\n",
        "print(classification_report(y_test, gbm_predictions))\n"
      ],
      "metadata": {
        "colab": {
          "base_uri": "https://localhost:8080/"
        },
        "id": "ZKITj55FCCaN",
        "outputId": "10a141d9-9138-4703-b16f-51a3c2a25302"
      },
      "execution_count": null,
      "outputs": [
        {
          "output_type": "stream",
          "name": "stdout",
          "text": [
            "Gradient Boosting Machine Classifier Report:\n",
            "              precision    recall  f1-score   support\n",
            "\n",
            "           0       1.00      1.00      1.00      1262\n",
            "           1       1.00      1.00      1.00      1242\n",
            "\n",
            "    accuracy                           1.00      2504\n",
            "   macro avg       1.00      1.00      1.00      2504\n",
            "weighted avg       1.00      1.00      1.00      2504\n",
            "\n"
          ]
        }
      ]
    },
    {
      "cell_type": "code",
      "source": [
        "from sklearn.model_selection import cross_val_score\n",
        "\n",
        "scores = cross_val_score(rf_model, X_train, y_train, cv=5)  # cv=5 specifies the number of folds\n",
        "\n",
        "print(\"Accuracy scores for each fold:\", scores)\n",
        "print(\"Average cross-validation score: {:.2f}\".format(scores.mean()))"
      ],
      "metadata": {
        "id": "Z-uRDZZPPjgi"
      },
      "execution_count": null,
      "outputs": []
    },
    {
      "cell_type": "code",
      "source": [
        "from sklearn.metrics import confusion_matrix\n",
        "import seaborn as sns\n",
        "import matplotlib.pyplot as plt\n",
        "\n",
        "conf_matrix = confusion_matrix(y_test, predictions)\n",
        "sns.heatmap(conf_matrix, annot=True, fmt='d', cmap='Blues')\n",
        "plt.xlabel('Predicted Label')\n",
        "plt.ylabel('True Label')\n",
        "plt.title('Confusion Matrix')\n",
        "plt.show()"
      ],
      "metadata": {
        "colab": {
          "base_uri": "https://localhost:8080/",
          "height": 472
        },
        "id": "2d5p4XfLgoBg",
        "outputId": "05b4cc34-e7d3-4c5c-86e5-6f413c9c5aaf"
      },
      "execution_count": null,
      "outputs": [
        {
          "output_type": "display_data",
          "data": {
            "text/plain": [
              "<Figure size 640x480 with 2 Axes>"
            ],
            "image/png": "[encoded data removed]"
          },
          "metadata": {}
        }
      ]
    },
    {
      "cell_type": "code",
      "source": [
        "# Assuming y_true is your array of actual labels (e.g., 0 for fake, 1 for real)\n",
        "# y_pred is your array of predicted labels\n",
        "# texts is your array of news articles or statements\n",
        " # Your predicted labels\n",
        "texts = df['content_nltk']   # Your textual data\n",
        "url = df['url']\n",
        "dates = df['date']\n",
        "entities = df['entities']\n",
        "# Identify indices where the prediction was incorrect\n",
        "mislabeled_indices = np.where(y_test != predictions)[0]\n",
        "\n",
        "# Print out or inspect some of the mislabeled instances\n",
        "for index in mislabeled_indices[:100]:  # Adjust the number based on your needs\n",
        "    print(f\"Text: {texts[index]}\")\n",
        "    print(f\"Url: {url[index]}\")\n",
        "    print(f\"Date: {dates[index]}\")\n",
        "    print(f\"Entities: {entities[index]}\")\n",
        "    print(f\"Actual Label: {'Real' if y_test[index] == 1 else 'Fake'}, Predicted Label: {'Real' if predictions[index] == 1 else 'Fake'}\")\n",
        "    print(\"-\" * 80)\n"
      ],
      "metadata": {
        "id": "WeufU8eeGIpq"
      },
      "execution_count": null,
      "outputs": []
    },
    {
      "cell_type": "markdown",
      "source": [
        "### Test"
      ],
      "metadata": {
        "id": "pYW1g9gu2-cL"
      }
    },
    {
      "cell_type": "code",
      "source": [
        "import scipy.sparse as sp\n",
        "from joblib import load\n",
        "\n",
        "\n",
        "\n",
        "# Example new data\n",
        "false = \"Ukraine openly admits its responsibility for the terrorist attack on Crocus City Hall. The fact that the leadership of the Ukrainian security services confirms it, proves once again the connection between the Kyiv regime and the organisers and perpetrators of this crime. Ukraine admits its responsibility for the terrorist attack on Crocus City Hall Unkknown \"\n",
        "true = \"British Foreign Secretary David Cameron has said US President Joe Biden is “rightly pressing [Israeli Prime Minister Benjamin] Netanyahu” for a pause in fighting to allow for more humanitarian aid. In an interview with CNN’s John Berman on Wednesday, Cameron said he agrees with Biden that a temporary ceasefire is needed. It comes after Biden offered one of his sharpest rebukes of Israel’s handling of the war in Gaza during an interview Tuesday,describing Israeli Prime Minister Benjamin Netanyahu’s approach to the conflict as a “mistake” and calling for a halt to the fighting.“He is rightly pressing Netanyahu, as I have many times that we need a pause in fighting to get aid in and hostages out,” Cameron said. “That’s long been Britain’s position,” he added. \"\n",
        "new_article_year = 2024\n",
        "new_article_month = 4\n",
        "new_article_day = 10\n",
        "\n",
        "# Preprocess the new article content (if you have specific preprocessing steps)\n",
        "new_article_content = preprocess_text(false) # Define this based on your preprocessing\n",
        "new_article_content = new_article_content.replace(r\"[\\\"'!@#$%^&*(){}[\\]:;,<.>?/~`_+=|-]\", '')\n",
        "# Transform the new article content with the trained TF-IDF vectorizer\n",
        "X_new_tfidf = tfidf_vectorizer.transform([new_article_content])\n",
        "\n",
        "# Transform the new article domain with the trained OneHotEncoder\n",
        "\n",
        "# Combine all new article features into a single feature matrix\n",
        "X_new_combined = sp.hstack((X_new_tfidf, [[new_article_year, new_article_month, new_article_day]]), format='csr')\n",
        "\n",
        "# Predict using the trained model\n",
        "prediction =rf_model.predict(X_new_combined)\n",
        "\n",
        "print(\"Prediction:\", prediction)"
      ],
      "metadata": {
        "id": "zKvnU_bziuuO",
        "colab": {
          "base_uri": "https://localhost:8080/"
        },
        "outputId": "ef4b3329-b1d6-4d0e-e1de-8ea347069fee"
      },
      "execution_count": null,
      "outputs": [
        {
          "output_type": "stream",
          "name": "stdout",
          "text": [
            "Prediction: [1]\n"
          ]
        }
      ]
    },
    {
      "cell_type": "code",
      "source": [
        "df_temp.head()"
      ],
      "metadata": {
        "id": "7aZMyezJkzH5"
      },
      "execution_count": null,
      "outputs": []
    },
    {
      "cell_type": "markdown",
      "source": [
        "## LSTM"
      ],
      "metadata": {
        "id": "qjslA3GN9AYL"
      }
    },
    {
      "cell_type": "markdown",
      "source": [
        "### 3000"
      ],
      "metadata": {
        "id": "BKifad44Dr9z"
      }
    },
    {
      "cell_type": "code",
      "source": [
        "import numpy as np\n",
        "import pandas as pd\n",
        "from tensorflow.keras.models import Sequential\n",
        "from tensorflow.keras.layers import Embedding, LSTM, Dense, Dropout\n",
        "from tensorflow.keras.preprocessing.text import Tokenizer\n",
        "from tensorflow.keras.preprocessing.sequence import pad_sequences\n",
        "from sklearn.model_selection import train_test_split\n",
        "\n",
        "preprocessed_texts = df_first['content_nltk']\n",
        "labels = df_first['label']\n",
        "# Tokenization and padding\n",
        "tokenizer = Tokenizer(num_words=5000, oov_token=\"<OOV>\")\n",
        "tokenizer.fit_on_texts(preprocessed_texts)\n",
        "sequences = tokenizer.texts_to_sequences(preprocessed_texts)\n",
        "\n",
        "from sklearn.preprocessing import MinMaxScaler\n",
        "\n",
        "scaler = MinMaxScaler()\n",
        "normalized_features = scaler.fit_transform(df_first[['year', 'month', 'day']])\n",
        "\n",
        "\n",
        "# Calculate the length of each sequence\n",
        "sequence_lengths = [len(seq) for seq in sequences]\n",
        "\n",
        "# Find the maximum length\n",
        "max_length = max(sequence_lengths)\n",
        "padded_sequences = pad_sequences(sequences, maxlen=max_length)\n",
        "\n",
        "# Splitting the dataset\n",
        "X_train, X_val, y_train, y_val = train_test_split(padded_sequences, labels, test_size=0.2, random_state=42)\n",
        "\n",
        "# Build the LSTM model\n",
        "embedded_features = 40\n",
        "model = Sequential()\n",
        "model.add(Embedding(5000,embedded_features))\n",
        "model.add(LSTM(64))\n",
        "model.add(Dense(1,activation='sigmoid'))\n",
        "model.compile(loss = 'binary_crossentropy', optimizer= 'adam',metrics = ['accuracy'])\n",
        "\n",
        "# Train the model\n",
        "history = model.fit(X_train, y_train, epochs=10, validation_data=(X_val, y_val))"
      ],
      "metadata": {
        "id": "AyMtdYbyDzab"
      },
      "execution_count": null,
      "outputs": []
    },
    {
      "cell_type": "markdown",
      "source": [
        "### all"
      ],
      "metadata": {
        "id": "6pa1GbEwDu6e"
      }
    },
    {
      "cell_type": "code",
      "source": [
        "import numpy as np\n",
        "import pandas as pd\n",
        "from tensorflow.keras.models import Sequential\n",
        "from tensorflow.keras.layers import Embedding, LSTM, Dense, Dropout\n",
        "from tensorflow.keras.preprocessing.text import Tokenizer\n",
        "from tensorflow.keras.preprocessing.sequence import pad_sequences\n",
        "from sklearn.model_selection import train_test_split\n",
        "\n",
        "preprocessed_texts = df_temp['content']\n",
        "labels = df_temp['label']\n",
        "# Tokenization and padding\n",
        "tokenizer = Tokenizer(num_words=5000, oov_token=\"<OOV>\")\n",
        "tokenizer.fit_on_texts(preprocessed_texts)\n",
        "sequences = tokenizer.texts_to_sequences(preprocessed_texts)\n",
        "\n",
        "from sklearn.preprocessing import MinMaxScaler\n",
        "\n",
        "scaler = MinMaxScaler()\n",
        "normalized_features = scaler.fit_transform(df_temp[['year', 'month', 'day']])\n",
        "\n",
        "\n",
        "# Calculate the length of each sequence\n",
        "sequence_lengths = [len(seq) for seq in sequences]\n",
        "\n",
        "# Find the maximum length\n",
        "max_length = max(sequence_lengths)\n",
        "padded_sequences = pad_sequences(sequences, maxlen=max_length)\n",
        "\n",
        "# Splitting the dataset\n",
        "X_train, X_val, y_train, y_val = train_test_split(padded_sequences, labels, test_size=0.2, random_state=42)\n",
        "\n",
        "# Build the LSTM model\n",
        "embedded_features = 40\n",
        "model = Sequential()\n",
        "model.add(Embedding(5000,embedded_features))\n",
        "model.add(LSTM(64))\n",
        "model.add(Dropout(0.2))\n",
        "model.add(Dense(1,activation='sigmoid'))\n",
        "model.compile(loss = 'binary_crossentropy', optimizer= 'adam',metrics = ['accuracy'])\n",
        "\n",
        "# Train the model\n",
        "\n"
      ],
      "metadata": {
        "id": "E2TydR0lak9Q"
      },
      "execution_count": null,
      "outputs": []
    },
    {
      "cell_type": "code",
      "source": [
        "!pip install scikeras"
      ],
      "metadata": {
        "id": "_Uo3n5_VblOc"
      },
      "execution_count": null,
      "outputs": []
    },
    {
      "cell_type": "code",
      "source": [
        "from scikeras.wrappers import KerasClassifier\n",
        "def model():\n",
        "  model = Sequential()\n",
        "  model.add(Embedding(5000,embedded_features))\n",
        "  model.add(LSTM(64))\n",
        "  model.add(Dropout(0.2))\n",
        "  model.add(Dense(1,activation='sigmoid'))\n",
        "  model.compile(loss = 'binary_crossentropy', optimizer= 'adam',metrics = ['accuracy'])\n",
        "\n",
        "  return model\n",
        "model = KerasClassifier(build_fn=model, verbose=0)\n"
      ],
      "metadata": {
        "id": "ql1y7-h6bhFm"
      },
      "execution_count": null,
      "outputs": []
    },
    {
      "cell_type": "code",
      "source": [
        "\n",
        "from sklearn.model_selection import GridSearchCV\n",
        "optimizer = ['SGD', 'RMSprop', 'Adagrad', 'Adadelta', 'Adam', 'Adamax', 'Nadam']\n",
        "param_grid = dict(optimizer=optimizer)\n",
        "grid = GridSearchCV(estimator=model, param_grid=param_grid, n_jobs=-1, cv=3)\n",
        "grid_result = grid.fit(X_train, y_train)\n",
        "# summarize results\n",
        "print(\"Best: %f using %s\" % (grid_result.best_score_, grid_result.best_params_))\n"
      ],
      "metadata": {
        "colab": {
          "base_uri": "https://localhost:8080/"
        },
        "id": "2WEskHppa9c7",
        "outputId": "e1fffed9-fd34-4a00-ff02-7dd01fd5d250"
      },
      "execution_count": null,
      "outputs": [
        {
          "output_type": "stream",
          "name": "stdout",
          "text": [
            "Best: 0.986251 using {'optimizer': 'Nadam'}\n"
          ]
        }
      ]
    },
    {
      "cell_type": "code",
      "source": [
        "history = model.fit(X_train, y_train, epochs=10, validation_data=(X_val, y_val))"
      ],
      "metadata": {
        "id": "Bzs7jtPm9ACe",
        "colab": {
          "base_uri": "https://localhost:8080/"
        },
        "outputId": "5069f458-a645-4b59-bf8e-7a49771d013e"
      },
      "execution_count": null,
      "outputs": [
        {
          "output_type": "stream",
          "name": "stdout",
          "text": [
            "Epoch 1/10\n",
            "316/316 [==============================] - 80s 243ms/step - loss: 0.1403 - accuracy: 0.9492 - val_loss: 0.0252 - val_accuracy: 0.9941\n",
            "Epoch 2/10\n",
            "316/316 [==============================] - 67s 213ms/step - loss: 0.0874 - accuracy: 0.9752 - val_loss: 0.0229 - val_accuracy: 0.9925\n",
            "Epoch 3/10\n",
            "316/316 [==============================] - 68s 214ms/step - loss: 0.0086 - accuracy: 0.9980 - val_loss: 0.0159 - val_accuracy: 0.9941\n",
            "Epoch 4/10\n",
            "316/316 [==============================] - 73s 232ms/step - loss: 0.0048 - accuracy: 0.9987 - val_loss: 0.0115 - val_accuracy: 0.9968\n",
            "Epoch 5/10\n",
            "316/316 [==============================] - 84s 266ms/step - loss: 0.0018 - accuracy: 0.9997 - val_loss: 0.0109 - val_accuracy: 0.9972\n",
            "Epoch 6/10\n",
            "316/316 [==============================] - 69s 217ms/step - loss: 8.4644e-04 - accuracy: 0.9998 - val_loss: 0.0127 - val_accuracy: 0.9968\n",
            "Epoch 7/10\n",
            "316/316 [==============================] - 68s 215ms/step - loss: 4.9193e-04 - accuracy: 0.9999 - val_loss: 0.0128 - val_accuracy: 0.9968\n",
            "Epoch 8/10\n",
            "316/316 [==============================] - 68s 216ms/step - loss: 2.8846e-04 - accuracy: 1.0000 - val_loss: 0.0132 - val_accuracy: 0.9972\n",
            "Epoch 9/10\n",
            "316/316 [==============================] - 68s 216ms/step - loss: 2.0341e-04 - accuracy: 1.0000 - val_loss: 0.0136 - val_accuracy: 0.9972\n",
            "Epoch 10/10\n",
            "316/316 [==============================] - 95s 302ms/step - loss: 1.4598e-04 - accuracy: 1.0000 - val_loss: 0.0146 - val_accuracy: 0.9972\n"
          ]
        }
      ]
    },
    {
      "cell_type": "code",
      "source": [
        "false = \"Back in mid-March, the director of the Foreign Intelligence Service confirmed that France was preparing to send about 2000 military personnel to Ukraine at the initial stage. Moscow clarified: they will arrive in April.In short, although Paris declares that it will act at its own peril and risk, and NATO does not promise to help Paris, such a mess may brew that the Third World War will become a reality. And Macron doesn’t need this at all.So the French President sent minister Lecornu to persuade Shoigu: we know that you have iron discipline in your army, please order your generals not to touch our soldiers, we will quietly, purely symbolically, settle somewhere in Odessa, and after the conclusion of peace or a truce we will go home. \"\n",
        "true = \"British Foreign Secretary David Cameron has said US President Joe Biden is “rightly pressing [Israeli Prime Minister Benjamin] Netanyahu” for a pause in fighting to allow for more humanitarian aid. In an interview with CNN’s John Berman on Wednesday, Cameron said he agrees with Biden that a temporary ceasefire is needed. It comes after Biden offered one of his sharpest rebukes of Israel’s handling of the war in Gaza during an interview Tuesday,describing Israeli Prime Minister Benjamin Netanyahu’s approach to the conflict as a “mistake” and calling for a halt to the fighting.“He is rightly pressing Netanyahu, as I have many times that we need a pause in fighting to get aid in and hostages out,” Cameron said. “That’s long been Britain’s position,” he added. \"\n",
        "# Tokenize and pad the new text\n",
        "seq = tokenizer.texts_to_sequences([false])\n",
        "padded_seq = pad_sequences(seq, maxlen=max_length)\n",
        "\n",
        "# Predict\n",
        "prediction = model.predict(padded_seq)\n",
        "predicted_label = (prediction > 0.5).astype(int)\n",
        "\n",
        "# Interpret the predicted label\n",
        "if predicted_label[0][0] == 1:\n",
        "    print(\"Predicted label: False\")\n",
        "else:\n",
        "    print(\"Predicted label: True\")\n"
      ],
      "metadata": {
        "colab": {
          "base_uri": "https://localhost:8080/"
        },
        "id": "8Szoi5v3dzC1",
        "outputId": "49fc3bfc-b686-407f-957c-9348c5c9fe3d"
      },
      "execution_count": null,
      "outputs": [
        {
          "output_type": "stream",
          "name": "stdout",
          "text": [
            "1/1 [==============================] - 0s 52ms/step\n",
            "Predicted label: True\n"
          ]
        }
      ]
    },
    {
      "cell_type": "markdown",
      "source": [
        "algoritmus verseny\n",
        "legjobban teljesítő -> fine tune"
      ],
      "metadata": {
        "id": "gLkIjZztosHR"
      }
    }
  ]
}