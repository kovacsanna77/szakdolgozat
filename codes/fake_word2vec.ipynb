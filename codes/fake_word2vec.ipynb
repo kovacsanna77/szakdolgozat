{
  "cells": [
    {
      "cell_type": "code",
      "execution_count": 75,
      "metadata": {
        "colab": {
          "base_uri": "https://localhost:8080/"
        },
        "id": "CSLUUDluDm8R",
        "outputId": "f94050cf-7c01-4302-d41a-f9126933e53c"
      },
      "outputs": [
        {
          "output_type": "stream",
          "name": "stdout",
          "text": [
            "Drive already mounted at /content/drive; to attempt to forcibly remount, call drive.mount(\"/content/drive\", force_remount=True).\n"
          ]
        }
      ],
      "source": [
        "from google.colab import drive\n",
        "drive.mount('/content/drive')"
      ]
    },
    {
      "cell_type": "code",
      "execution_count": 76,
      "metadata": {
        "id": "mTd5tbnsPecX",
        "colab": {
          "base_uri": "https://localhost:8080/"
        },
        "outputId": "63e97924-a910-4b0c-d063-0f63e3c9f837"
      },
      "outputs": [
        {
          "output_type": "stream",
          "name": "stderr",
          "text": [
            "[nltk_data] Downloading package punkt to /root/nltk_data...\n",
            "[nltk_data]   Package punkt is already up-to-date!\n",
            "[nltk_data] Downloading package wordnet to /root/nltk_data...\n",
            "[nltk_data]   Package wordnet is already up-to-date!\n",
            "[nltk_data] Downloading package stopwords to /root/nltk_data...\n",
            "[nltk_data]   Package stopwords is already up-to-date!\n"
          ]
        }
      ],
      "source": [
        "import pandas as pd\n",
        "import seaborn as sns\n",
        "import matplotlib.pyplot as plt\n",
        "from sklearn.model_selection import train_test_split\n",
        "from sklearn.preprocessing import OneHotEncoder\n",
        "import scipy.sparse as sp\n",
        "\n",
        "from sklearn.feature_extraction.text import TfidfVectorizer\n",
        "from sklearn.model_selection import train_test_split\n",
        "from sklearn.linear_model import LogisticRegression\n",
        "from sklearn.svm import SVC\n",
        "from sklearn.metrics import accuracy_score, roc_curve, f1_score, classification_report\n",
        "from sklearn.metrics import mean_squared_error\n",
        "import math\n",
        "from urllib.parse import urlparse\n",
        "import pandas as pd\n",
        "import nltk\n",
        "from nltk.corpus import stopwords\n",
        "\n",
        "from nltk.stem import PorterStemmer # removing the commoner morphological and inflexional endings from words in English\n",
        "from nltk.stem import WordNetLemmatizer #Lemmatization is the process of grouping together different inflected forms of the same word.\n",
        "from sklearn.preprocessing import MultiLabelBinarizer\n",
        "nltk.download('punkt')\n",
        "nltk.download('wordnet')\n",
        "nltk.download('stopwords')\n",
        "#Load up our stop words\n",
        "stop_words = stopwords.words('english')\n",
        "#Adds stuff to our stop words list"
      ]
    },
    {
      "cell_type": "code",
      "execution_count": 77,
      "metadata": {
        "id": "u-IOvMs1DyIV"
      },
      "outputs": [],
      "source": [
        "import pandas as pd\n",
        "import numpy as np\n",
        "import re\n",
        "import spacy\n",
        "\n",
        "df_temp = pd.read_csv(\"/content/drive/MyDrive/Fake news/dataset_enti_sum_processed.csv\", index_col=0)\n",
        "#df, ahol  disinfos sum + nltk sum a real newsokra\n",
        "df = pd.read_csv(\"/content/drive/MyDrive/Fake news/dataset_ent_sum.csv\", index_col=0)"
      ]
    },
    {
      "cell_type": "code",
      "execution_count": 78,
      "metadata": {
        "id": "1mZz3D6BCHWz",
        "colab": {
          "base_uri": "https://localhost:8080/",
          "height": 1000
        },
        "outputId": "e8f2364f-9682-4a4f-b8f0-393723df7f50"
      },
      "outputs": [
        {
          "output_type": "execute_result",
          "data": {
            "text/plain": [
              "                                                   title  \\\n",
              "0      There is a Western pressure campaign against R...   \n",
              "1      World's most expensive cities: New York and Si...   \n",
              "2      Ukraine: Bath woman says visa scheme an 'absol...   \n",
              "3             Swedes cheer end of long wait to join Nato   \n",
              "4      Misinformation spreads in China on ‘civil war’...   \n",
              "...                                                  ...   \n",
              "12873                     What’s next for Julian Assange   \n",
              "12874  Leaders of NATO's European countries are compl...   \n",
              "12875  Secret classes to counter Russian brainwashing...   \n",
              "12876  Neo-Nazis commit genocide in Ukraine, Russia f...   \n",
              "12877  Ukraine war: UK to send more military equipmen...   \n",
              "\n",
              "                     author  \\\n",
              "0                        na   \n",
              "1              Malu Cursino   \n",
              "2                       NaN   \n",
              "3              Maddy Savage   \n",
              "4               Kerry Allen   \n",
              "...                     ...   \n",
              "12873    Alexander Zaitchik   \n",
              "12874                    na   \n",
              "12875  Anastasiia Levchenko   \n",
              "12876                    na   \n",
              "12877          James Clarke   \n",
              "\n",
              "                                                     url                 date  \\\n",
              "0      https://euvsdisinfo.eu/report/western-pressure...           2020-02-06   \n",
              "1                    https://bbc.com/news/world-63825214  2022-12-01 00:00:00   \n",
              "2      https://bbc.com/news/uk-england-somerset-61113570  2022-04-15 00:00:00   \n",
              "3             https://bbc.com/news/world-europe-68509301  2024-03-08 00:00:00   \n",
              "4          https://bbc.com/news/world-us-canada-68185317  2024-02-02 00:00:00   \n",
              "...                                                  ...                  ...   \n",
              "12873  https://therealnews.com/whats-next-for-julian-...  2024-02-23 00:00:00   \n",
              "12874  https://euvsdisinfo.eu/report/leaders-of-natos...           2021-10-22   \n",
              "12875                https://bbc.com/news/world-68578822  2024-03-16 00:00:00   \n",
              "12876  https://euvsdisinfo.eu/report/neo-nazis-commit...           2022-02-25   \n",
              "12877                   https://bbc.com/news/uk-61203882  2022-04-23 00:00:00   \n",
              "\n",
              "         year  month   day                 regions  \\\n",
              "0      2020.0    2.0   6.0      France, US, Russia   \n",
              "1      2022.0   12.0   1.0                     NaN   \n",
              "2      2022.0    4.0  15.0                     NaN   \n",
              "3      2024.0    3.0   8.0                     NaN   \n",
              "4      2024.0    2.0   2.0                     NaN   \n",
              "...       ...    ...   ...                     ...   \n",
              "12873  2024.0    2.0  23.0                     NaN   \n",
              "12874  2021.0   10.0  22.0  EU, Europe, Russia, US   \n",
              "12875  2024.0    3.0  16.0                     NaN   \n",
              "12876  2022.0    2.0  25.0         Ukraine, Russia   \n",
              "12877  2022.0    4.0  23.0                     NaN   \n",
              "\n",
              "                                                    tags  \\\n",
              "0      Russia Today (RT), Emmanuel Macron, Mainstream...   \n",
              "1                                         War in Ukraine   \n",
              "2                                         War in Ukraine   \n",
              "3                                         War in Ukraine   \n",
              "4                                         War in Ukraine   \n",
              "...                                                  ...   \n",
              "12873                                     War in Ukraine   \n",
              "12874  NATO, Warmongering, security threat, US presen...   \n",
              "12875                                     War in Ukraine   \n",
              "12876     War in Ukraine, Donbas, Genocide, Nazi/Fascist   \n",
              "12877                                     War in Ukraine   \n",
              "\n",
              "                                                 summary  \\\n",
              "0      Western countries are carrying out a pressure ...   \n",
              "1      The world's most expensive cities are jointly ...   \n",
              "2      A woman who has prepared her home for the arri...   \n",
              "3      Almost two years after applying to join Nato, ...   \n",
              "4      Amid the escalating border standoff between Te...   \n",
              "...                                                  ...   \n",
              "12873  This story originally appeared in Truthdig on ...   \n",
              "12874  The leaders of NATO's 28 European countries ar...   \n",
              "12875  Like millions of other Ukrainians, in the earl...   \n",
              "12876  Nobody intends to attack the Ukrainian people....   \n",
              "12877  The UK is to provide Ukraine with more militar...   \n",
              "\n",
              "                                                 og_link original_lang  label  \\\n",
              "0      https://mundo.sputniknews.com/politica/2020020...       Spanish      1   \n",
              "1                    https://bbc.com/news/world-63825214            en      0   \n",
              "2      https://bbc.com/news/uk-england-somerset-61113570            en      0   \n",
              "3             https://bbc.com/news/world-europe-68509301            en      0   \n",
              "4          https://bbc.com/news/world-us-canada-68185317            en      0   \n",
              "...                                                  ...           ...    ...   \n",
              "12873  https://therealnews.com/whats-next-for-julian-...       English      0   \n",
              "12874  https://sputnik.az/20211022/nato-nun-problemi-...   Azerbaijani      1   \n",
              "12875                https://bbc.com/news/world-68578822            en      0   \n",
              "12876                  https://tass.com/politics/1411139       English      1   \n",
              "12877                   https://bbc.com/news/uk-61203882            en      0   \n",
              "\n",
              "                                            summary_nltk  \\\n",
              "0      Western countries are carrying out a pressure ...   \n",
              "1      1 = New York 1 = Singapore 3 = Tel Aviv 4 = Ho...   \n",
              "2      Five adults and two children have arrived in B...   \n",
              "3      In early 2022, the country's then Social Democ...   \n",
              "4      A Voice of America journalist Wenhao, who spec...   \n",
              "...                                                  ...   \n",
              "12873  If the judges decide to buck Britain’s politic...   \n",
              "12874  The leaders of NATO's 28 European countries ar...   \n",
              "12875  \"It's not so important to teach children what ...   \n",
              "12876  Nobody intends to attack the Ukrainian people....   \n",
              "12877  President Zelensky and Russian leader Vladimir...   \n",
              "\n",
              "                                                entities  \n",
              "0      Emmanuel Macron, French, RT, Russian, Sputnik, US  \n",
              "1      10 - earlier this year, 4, Algiers, Almaty, Ch...  \n",
              "2      BANES, Bath and North East Somerset, Dine Rome...  \n",
              "3      16, Almost two years, BBC, Friday, Joe Biden, ...  \n",
              "4      Abbott, China, Chinese, Florida, Friday, Lone ...  \n",
              "...                                                  ...  \n",
              "12873  2012, 2022, Assange, Belmarsh, Britain, Britis...  \n",
              "12874  Brussels, European, NATO, Russian, Washington,...  \n",
              "12875      Nataliia, Russian, Ukraine, Ukrainian, Valera  \n",
              "12876                           Nazis, Russia, Ukrainian  \n",
              "12877  Antonio Guterres, Boris Johnson, Downing Stree...  \n",
              "\n",
              "[12704 rows x 15 columns]"
            ],
            "text/html": [
              "\n",
              "  <div id=\"df-605e68be-2972-443e-8b19-788731f4e07b\" class=\"colab-df-container\">\n",
              "    <div>\n",
              "<style scoped>\n",
              "    .dataframe tbody tr th:only-of-type {\n",
              "        vertical-align: middle;\n",
              "    }\n",
              "\n",
              "    .dataframe tbody tr th {\n",
              "        vertical-align: top;\n",
              "    }\n",
              "\n",
              "    .dataframe thead th {\n",
              "        text-align: right;\n",
              "    }\n",
              "</style>\n",
              "<table border=\"1\" class=\"dataframe\">\n",
              "  <thead>\n",
              "    <tr style=\"text-align: right;\">\n",
              "      <th></th>\n",
              "      <th>title</th>\n",
              "      <th>author</th>\n",
              "      <th>url</th>\n",
              "      <th>date</th>\n",
              "      <th>year</th>\n",
              "      <th>month</th>\n",
              "      <th>day</th>\n",
              "      <th>regions</th>\n",
              "      <th>tags</th>\n",
              "      <th>summary</th>\n",
              "      <th>og_link</th>\n",
              "      <th>original_lang</th>\n",
              "      <th>label</th>\n",
              "      <th>summary_nltk</th>\n",
              "      <th>entities</th>\n",
              "    </tr>\n",
              "  </thead>\n",
              "  <tbody>\n",
              "    <tr>\n",
              "      <th>0</th>\n",
              "      <td>There is a Western pressure campaign against R...</td>\n",
              "      <td>na</td>\n",
              "      <td>https://euvsdisinfo.eu/report/western-pressure...</td>\n",
              "      <td>2020-02-06</td>\n",
              "      <td>2020.0</td>\n",
              "      <td>2.0</td>\n",
              "      <td>6.0</td>\n",
              "      <td>France, US, Russia</td>\n",
              "      <td>Russia Today (RT), Emmanuel Macron, Mainstream...</td>\n",
              "      <td>Western countries are carrying out a pressure ...</td>\n",
              "      <td>https://mundo.sputniknews.com/politica/2020020...</td>\n",
              "      <td>Spanish</td>\n",
              "      <td>1</td>\n",
              "      <td>Western countries are carrying out a pressure ...</td>\n",
              "      <td>Emmanuel Macron, French, RT, Russian, Sputnik, US</td>\n",
              "    </tr>\n",
              "    <tr>\n",
              "      <th>1</th>\n",
              "      <td>World's most expensive cities: New York and Si...</td>\n",
              "      <td>Malu Cursino</td>\n",
              "      <td>https://bbc.com/news/world-63825214</td>\n",
              "      <td>2022-12-01 00:00:00</td>\n",
              "      <td>2022.0</td>\n",
              "      <td>12.0</td>\n",
              "      <td>1.0</td>\n",
              "      <td>NaN</td>\n",
              "      <td>War in Ukraine</td>\n",
              "      <td>The world's most expensive cities are jointly ...</td>\n",
              "      <td>https://bbc.com/news/world-63825214</td>\n",
              "      <td>en</td>\n",
              "      <td>0</td>\n",
              "      <td>1 = New York 1 = Singapore 3 = Tel Aviv 4 = Ho...</td>\n",
              "      <td>10 - earlier this year, 4, Algiers, Almaty, Ch...</td>\n",
              "    </tr>\n",
              "    <tr>\n",
              "      <th>2</th>\n",
              "      <td>Ukraine: Bath woman says visa scheme an 'absol...</td>\n",
              "      <td>NaN</td>\n",
              "      <td>https://bbc.com/news/uk-england-somerset-61113570</td>\n",
              "      <td>2022-04-15 00:00:00</td>\n",
              "      <td>2022.0</td>\n",
              "      <td>4.0</td>\n",
              "      <td>15.0</td>\n",
              "      <td>NaN</td>\n",
              "      <td>War in Ukraine</td>\n",
              "      <td>A woman who has prepared her home for the arri...</td>\n",
              "      <td>https://bbc.com/news/uk-england-somerset-61113570</td>\n",
              "      <td>en</td>\n",
              "      <td>0</td>\n",
              "      <td>Five adults and two children have arrived in B...</td>\n",
              "      <td>BANES, Bath and North East Somerset, Dine Rome...</td>\n",
              "    </tr>\n",
              "    <tr>\n",
              "      <th>3</th>\n",
              "      <td>Swedes cheer end of long wait to join Nato</td>\n",
              "      <td>Maddy Savage</td>\n",
              "      <td>https://bbc.com/news/world-europe-68509301</td>\n",
              "      <td>2024-03-08 00:00:00</td>\n",
              "      <td>2024.0</td>\n",
              "      <td>3.0</td>\n",
              "      <td>8.0</td>\n",
              "      <td>NaN</td>\n",
              "      <td>War in Ukraine</td>\n",
              "      <td>Almost two years after applying to join Nato, ...</td>\n",
              "      <td>https://bbc.com/news/world-europe-68509301</td>\n",
              "      <td>en</td>\n",
              "      <td>0</td>\n",
              "      <td>In early 2022, the country's then Social Democ...</td>\n",
              "      <td>16, Almost two years, BBC, Friday, Joe Biden, ...</td>\n",
              "    </tr>\n",
              "    <tr>\n",
              "      <th>4</th>\n",
              "      <td>Misinformation spreads in China on ‘civil war’...</td>\n",
              "      <td>Kerry Allen</td>\n",
              "      <td>https://bbc.com/news/world-us-canada-68185317</td>\n",
              "      <td>2024-02-02 00:00:00</td>\n",
              "      <td>2024.0</td>\n",
              "      <td>2.0</td>\n",
              "      <td>2.0</td>\n",
              "      <td>NaN</td>\n",
              "      <td>War in Ukraine</td>\n",
              "      <td>Amid the escalating border standoff between Te...</td>\n",
              "      <td>https://bbc.com/news/world-us-canada-68185317</td>\n",
              "      <td>en</td>\n",
              "      <td>0</td>\n",
              "      <td>A Voice of America journalist Wenhao, who spec...</td>\n",
              "      <td>Abbott, China, Chinese, Florida, Friday, Lone ...</td>\n",
              "    </tr>\n",
              "    <tr>\n",
              "      <th>...</th>\n",
              "      <td>...</td>\n",
              "      <td>...</td>\n",
              "      <td>...</td>\n",
              "      <td>...</td>\n",
              "      <td>...</td>\n",
              "      <td>...</td>\n",
              "      <td>...</td>\n",
              "      <td>...</td>\n",
              "      <td>...</td>\n",
              "      <td>...</td>\n",
              "      <td>...</td>\n",
              "      <td>...</td>\n",
              "      <td>...</td>\n",
              "      <td>...</td>\n",
              "      <td>...</td>\n",
              "    </tr>\n",
              "    <tr>\n",
              "      <th>12873</th>\n",
              "      <td>What’s next for Julian Assange</td>\n",
              "      <td>Alexander Zaitchik</td>\n",
              "      <td>https://therealnews.com/whats-next-for-julian-...</td>\n",
              "      <td>2024-02-23 00:00:00</td>\n",
              "      <td>2024.0</td>\n",
              "      <td>2.0</td>\n",
              "      <td>23.0</td>\n",
              "      <td>NaN</td>\n",
              "      <td>War in Ukraine</td>\n",
              "      <td>This story originally appeared in Truthdig on ...</td>\n",
              "      <td>https://therealnews.com/whats-next-for-julian-...</td>\n",
              "      <td>English</td>\n",
              "      <td>0</td>\n",
              "      <td>If the judges decide to buck Britain’s politic...</td>\n",
              "      <td>2012, 2022, Assange, Belmarsh, Britain, Britis...</td>\n",
              "    </tr>\n",
              "    <tr>\n",
              "      <th>12874</th>\n",
              "      <td>Leaders of NATO's European countries are compl...</td>\n",
              "      <td>na</td>\n",
              "      <td>https://euvsdisinfo.eu/report/leaders-of-natos...</td>\n",
              "      <td>2021-10-22</td>\n",
              "      <td>2021.0</td>\n",
              "      <td>10.0</td>\n",
              "      <td>22.0</td>\n",
              "      <td>EU, Europe, Russia, US</td>\n",
              "      <td>NATO, Warmongering, security threat, US presen...</td>\n",
              "      <td>The leaders of NATO's 28 European countries ar...</td>\n",
              "      <td>https://sputnik.az/20211022/nato-nun-problemi-...</td>\n",
              "      <td>Azerbaijani</td>\n",
              "      <td>1</td>\n",
              "      <td>The leaders of NATO's 28 European countries ar...</td>\n",
              "      <td>Brussels, European, NATO, Russian, Washington,...</td>\n",
              "    </tr>\n",
              "    <tr>\n",
              "      <th>12875</th>\n",
              "      <td>Secret classes to counter Russian brainwashing...</td>\n",
              "      <td>Anastasiia Levchenko</td>\n",
              "      <td>https://bbc.com/news/world-68578822</td>\n",
              "      <td>2024-03-16 00:00:00</td>\n",
              "      <td>2024.0</td>\n",
              "      <td>3.0</td>\n",
              "      <td>16.0</td>\n",
              "      <td>NaN</td>\n",
              "      <td>War in Ukraine</td>\n",
              "      <td>Like millions of other Ukrainians, in the earl...</td>\n",
              "      <td>https://bbc.com/news/world-68578822</td>\n",
              "      <td>en</td>\n",
              "      <td>0</td>\n",
              "      <td>\"It's not so important to teach children what ...</td>\n",
              "      <td>Nataliia, Russian, Ukraine, Ukrainian, Valera</td>\n",
              "    </tr>\n",
              "    <tr>\n",
              "      <th>12876</th>\n",
              "      <td>Neo-Nazis commit genocide in Ukraine, Russia f...</td>\n",
              "      <td>na</td>\n",
              "      <td>https://euvsdisinfo.eu/report/neo-nazis-commit...</td>\n",
              "      <td>2022-02-25</td>\n",
              "      <td>2022.0</td>\n",
              "      <td>2.0</td>\n",
              "      <td>25.0</td>\n",
              "      <td>Ukraine, Russia</td>\n",
              "      <td>War in Ukraine, Donbas, Genocide, Nazi/Fascist</td>\n",
              "      <td>Nobody intends to attack the Ukrainian people....</td>\n",
              "      <td>https://tass.com/politics/1411139</td>\n",
              "      <td>English</td>\n",
              "      <td>1</td>\n",
              "      <td>Nobody intends to attack the Ukrainian people....</td>\n",
              "      <td>Nazis, Russia, Ukrainian</td>\n",
              "    </tr>\n",
              "    <tr>\n",
              "      <th>12877</th>\n",
              "      <td>Ukraine war: UK to send more military equipmen...</td>\n",
              "      <td>James Clarke</td>\n",
              "      <td>https://bbc.com/news/uk-61203882</td>\n",
              "      <td>2022-04-23 00:00:00</td>\n",
              "      <td>2022.0</td>\n",
              "      <td>4.0</td>\n",
              "      <td>23.0</td>\n",
              "      <td>NaN</td>\n",
              "      <td>War in Ukraine</td>\n",
              "      <td>The UK is to provide Ukraine with more militar...</td>\n",
              "      <td>https://bbc.com/news/uk-61203882</td>\n",
              "      <td>en</td>\n",
              "      <td>0</td>\n",
              "      <td>President Zelensky and Russian leader Vladimir...</td>\n",
              "      <td>Antonio Guterres, Boris Johnson, Downing Stree...</td>\n",
              "    </tr>\n",
              "  </tbody>\n",
              "</table>\n",
              "<p>12704 rows × 15 columns</p>\n",
              "</div>\n",
              "    <div class=\"colab-df-buttons\">\n",
              "\n",
              "  <div class=\"colab-df-container\">\n",
              "    <button class=\"colab-df-convert\" onclick=\"convertToInteractive('df-605e68be-2972-443e-8b19-788731f4e07b')\"\n",
              "            title=\"Convert this dataframe to an interactive table.\"\n",
              "            style=\"display:none;\">\n",
              "\n",
              "  <svg xmlns=\"http://www.w3.org/2000/svg\" height=\"24px\" viewBox=\"0 -960 960 960\">\n",
              "    <path d=\"M120-120v-720h720v720H120Zm60-500h600v-160H180v160Zm220 220h160v-160H400v160Zm0 220h160v-160H400v160ZM180-400h160v-160H180v160Zm440 0h160v-160H620v160ZM180-180h160v-160H180v160Zm440 0h160v-160H620v160Z\"/>\n",
              "  </svg>\n",
              "    </button>\n",
              "\n",
              "  <style>\n",
              "    .colab-df-container {\n",
              "      display:flex;\n",
              "      gap: 12px;\n",
              "    }\n",
              "\n",
              "    .colab-df-convert {\n",
              "      background-color: #E8F0FE;\n",
              "      border: none;\n",
              "      border-radius: 50%;\n",
              "      cursor: pointer;\n",
              "      display: none;\n",
              "      fill: #1967D2;\n",
              "      height: 32px;\n",
              "      padding: 0 0 0 0;\n",
              "      width: 32px;\n",
              "    }\n",
              "\n",
              "    .colab-df-convert:hover {\n",
              "      background-color: #E2EBFA;\n",
              "      box-shadow: 0px 1px 2px rgba(60, 64, 67, 0.3), 0px 1px 3px 1px rgba(60, 64, 67, 0.15);\n",
              "      fill: #174EA6;\n",
              "    }\n",
              "\n",
              "    .colab-df-buttons div {\n",
              "      margin-bottom: 4px;\n",
              "    }\n",
              "\n",
              "    [theme=dark] .colab-df-convert {\n",
              "      background-color: #3B4455;\n",
              "      fill: #D2E3FC;\n",
              "    }\n",
              "\n",
              "    [theme=dark] .colab-df-convert:hover {\n",
              "      background-color: #434B5C;\n",
              "      box-shadow: 0px 1px 3px 1px rgba(0, 0, 0, 0.15);\n",
              "      filter: drop-shadow(0px 1px 2px rgba(0, 0, 0, 0.3));\n",
              "      fill: #FFFFFF;\n",
              "    }\n",
              "  </style>\n",
              "\n",
              "    <script>\n",
              "      const buttonEl =\n",
              "        document.querySelector('#df-605e68be-2972-443e-8b19-788731f4e07b button.colab-df-convert');\n",
              "      buttonEl.style.display =\n",
              "        google.colab.kernel.accessAllowed ? 'block' : 'none';\n",
              "\n",
              "      async function convertToInteractive(key) {\n",
              "        const element = document.querySelector('#df-605e68be-2972-443e-8b19-788731f4e07b');\n",
              "        const dataTable =\n",
              "          await google.colab.kernel.invokeFunction('convertToInteractive',\n",
              "                                                    [key], {});\n",
              "        if (!dataTable) return;\n",
              "\n",
              "        const docLinkHtml = 'Like what you see? Visit the ' +\n",
              "          '<a target=\"_blank\" href=https://colab.research.google.com/notebooks/data_table.ipynb>data table notebook</a>'\n",
              "          + ' to learn more about interactive tables.';\n",
              "        element.innerHTML = '';\n",
              "        dataTable['output_type'] = 'display_data';\n",
              "        await google.colab.output.renderOutput(dataTable, element);\n",
              "        const docLink = document.createElement('div');\n",
              "        docLink.innerHTML = docLinkHtml;\n",
              "        element.appendChild(docLink);\n",
              "      }\n",
              "    </script>\n",
              "  </div>\n",
              "\n",
              "\n",
              "<div id=\"df-10f27768-5c57-4eb8-9b03-70fb3564b8e0\">\n",
              "  <button class=\"colab-df-quickchart\" onclick=\"quickchart('df-10f27768-5c57-4eb8-9b03-70fb3564b8e0')\"\n",
              "            title=\"Suggest charts\"\n",
              "            style=\"display:none;\">\n",
              "\n",
              "<svg xmlns=\"http://www.w3.org/2000/svg\" height=\"24px\"viewBox=\"0 0 24 24\"\n",
              "     width=\"24px\">\n",
              "    <g>\n",
              "        <path d=\"M19 3H5c-1.1 0-2 .9-2 2v14c0 1.1.9 2 2 2h14c1.1 0 2-.9 2-2V5c0-1.1-.9-2-2-2zM9 17H7v-7h2v7zm4 0h-2V7h2v10zm4 0h-2v-4h2v4z\"/>\n",
              "    </g>\n",
              "</svg>\n",
              "  </button>\n",
              "\n",
              "<style>\n",
              "  .colab-df-quickchart {\n",
              "      --bg-color: #E8F0FE;\n",
              "      --fill-color: #1967D2;\n",
              "      --hover-bg-color: #E2EBFA;\n",
              "      --hover-fill-color: #174EA6;\n",
              "      --disabled-fill-color: #AAA;\n",
              "      --disabled-bg-color: #DDD;\n",
              "  }\n",
              "\n",
              "  [theme=dark] .colab-df-quickchart {\n",
              "      --bg-color: #3B4455;\n",
              "      --fill-color: #D2E3FC;\n",
              "      --hover-bg-color: #434B5C;\n",
              "      --hover-fill-color: #FFFFFF;\n",
              "      --disabled-bg-color: #3B4455;\n",
              "      --disabled-fill-color: #666;\n",
              "  }\n",
              "\n",
              "  .colab-df-quickchart {\n",
              "    background-color: var(--bg-color);\n",
              "    border: none;\n",
              "    border-radius: 50%;\n",
              "    cursor: pointer;\n",
              "    display: none;\n",
              "    fill: var(--fill-color);\n",
              "    height: 32px;\n",
              "    padding: 0;\n",
              "    width: 32px;\n",
              "  }\n",
              "\n",
              "  .colab-df-quickchart:hover {\n",
              "    background-color: var(--hover-bg-color);\n",
              "    box-shadow: 0 1px 2px rgba(60, 64, 67, 0.3), 0 1px 3px 1px rgba(60, 64, 67, 0.15);\n",
              "    fill: var(--button-hover-fill-color);\n",
              "  }\n",
              "\n",
              "  .colab-df-quickchart-complete:disabled,\n",
              "  .colab-df-quickchart-complete:disabled:hover {\n",
              "    background-color: var(--disabled-bg-color);\n",
              "    fill: var(--disabled-fill-color);\n",
              "    box-shadow: none;\n",
              "  }\n",
              "\n",
              "  .colab-df-spinner {\n",
              "    border: 2px solid var(--fill-color);\n",
              "    border-color: transparent;\n",
              "    border-bottom-color: var(--fill-color);\n",
              "    animation:\n",
              "      spin 1s steps(1) infinite;\n",
              "  }\n",
              "\n",
              "  @keyframes spin {\n",
              "    0% {\n",
              "      border-color: transparent;\n",
              "      border-bottom-color: var(--fill-color);\n",
              "      border-left-color: var(--fill-color);\n",
              "    }\n",
              "    20% {\n",
              "      border-color: transparent;\n",
              "      border-left-color: var(--fill-color);\n",
              "      border-top-color: var(--fill-color);\n",
              "    }\n",
              "    30% {\n",
              "      border-color: transparent;\n",
              "      border-left-color: var(--fill-color);\n",
              "      border-top-color: var(--fill-color);\n",
              "      border-right-color: var(--fill-color);\n",
              "    }\n",
              "    40% {\n",
              "      border-color: transparent;\n",
              "      border-right-color: var(--fill-color);\n",
              "      border-top-color: var(--fill-color);\n",
              "    }\n",
              "    60% {\n",
              "      border-color: transparent;\n",
              "      border-right-color: var(--fill-color);\n",
              "    }\n",
              "    80% {\n",
              "      border-color: transparent;\n",
              "      border-right-color: var(--fill-color);\n",
              "      border-bottom-color: var(--fill-color);\n",
              "    }\n",
              "    90% {\n",
              "      border-color: transparent;\n",
              "      border-bottom-color: var(--fill-color);\n",
              "    }\n",
              "  }\n",
              "</style>\n",
              "\n",
              "  <script>\n",
              "    async function quickchart(key) {\n",
              "      const quickchartButtonEl =\n",
              "        document.querySelector('#' + key + ' button');\n",
              "      quickchartButtonEl.disabled = true;  // To prevent multiple clicks.\n",
              "      quickchartButtonEl.classList.add('colab-df-spinner');\n",
              "      try {\n",
              "        const charts = await google.colab.kernel.invokeFunction(\n",
              "            'suggestCharts', [key], {});\n",
              "      } catch (error) {\n",
              "        console.error('Error during call to suggestCharts:', error);\n",
              "      }\n",
              "      quickchartButtonEl.classList.remove('colab-df-spinner');\n",
              "      quickchartButtonEl.classList.add('colab-df-quickchart-complete');\n",
              "    }\n",
              "    (() => {\n",
              "      let quickchartButtonEl =\n",
              "        document.querySelector('#df-10f27768-5c57-4eb8-9b03-70fb3564b8e0 button');\n",
              "      quickchartButtonEl.style.display =\n",
              "        google.colab.kernel.accessAllowed ? 'block' : 'none';\n",
              "    })();\n",
              "  </script>\n",
              "</div>\n",
              "    </div>\n",
              "  </div>\n"
            ],
            "application/vnd.google.colaboratory.intrinsic+json": {
              "type": "dataframe",
              "variable_name": "df",
              "summary": "{\n  \"name\": \"df\",\n  \"rows\": 12704,\n  \"fields\": [\n    {\n      \"column\": \"title\",\n      \"properties\": {\n        \"dtype\": \"string\",\n        \"num_unique_values\": 7202,\n        \"samples\": [\n          \"Eurovision: UK in talks to host 2023 contest instead of Ukraine\",\n          \"Ukraine: Zelenska tells MPs that UK must 'unite the world'\",\n          \"European states are vassals of the US\"\n        ],\n        \"semantic_type\": \"\",\n        \"description\": \"\"\n      }\n    },\n    {\n      \"column\": \"author\",\n      \"properties\": {\n        \"dtype\": \"category\",\n        \"num_unique_values\": 963,\n        \"samples\": [\n          \"Nick Beake\",\n          \"Jason Kerzinski\",\n          \"David McKenna\"\n        ],\n        \"semantic_type\": \"\",\n        \"description\": \"\"\n      }\n    },\n    {\n      \"column\": \"url\",\n      \"properties\": {\n        \"dtype\": \"string\",\n        \"num_unique_values\": 7206,\n        \"samples\": [\n          \"https://euvsdisinfo.eu/report/reuters-article-demonstrates-that-nord-stream-pipelines-were-destroyed-by-us-military-aircraft/\",\n          \"https://bbc.com/news/world-europe-61638860\",\n          \"https://therealnews.com/fossil-fuel-giants-to-lavish-shareholders-with-record-paydays-as-climate-crisis-deepens\"\n        ],\n        \"semantic_type\": \"\",\n        \"description\": \"\"\n      }\n    },\n    {\n      \"column\": \"date\",\n      \"properties\": {\n        \"dtype\": \"category\",\n        \"num_unique_values\": 2284,\n        \"samples\": [\n          \"2020-07-14\",\n          \"2022-11-26\",\n          \"2021-05-13\"\n        ],\n        \"semantic_type\": \"\",\n        \"description\": \"\"\n      }\n    },\n    {\n      \"column\": \"year\",\n      \"properties\": {\n        \"dtype\": \"number\",\n        \"std\": 1.3501183319559655,\n        \"min\": 2010.0,\n        \"max\": 2024.0,\n        \"num_unique_values\": 14,\n        \"samples\": [\n          2016.0,\n          2013.0,\n          2020.0\n        ],\n        \"semantic_type\": \"\",\n        \"description\": \"\"\n      }\n    },\n    {\n      \"column\": \"month\",\n      \"properties\": {\n        \"dtype\": \"number\",\n        \"std\": 3.4653656487940134,\n        \"min\": 1.0,\n        \"max\": 12.0,\n        \"num_unique_values\": 12,\n        \"samples\": [\n          6.0,\n          5.0,\n          2.0\n        ],\n        \"semantic_type\": \"\",\n        \"description\": \"\"\n      }\n    },\n    {\n      \"column\": \"day\",\n      \"properties\": {\n        \"dtype\": \"number\",\n        \"std\": 8.826428125412818,\n        \"min\": 1.0,\n        \"max\": 31.0,\n        \"num_unique_values\": 31,\n        \"samples\": [\n          4.0,\n          24.0,\n          10.0\n        ],\n        \"semantic_type\": \"\",\n        \"description\": \"\"\n      }\n    },\n    {\n      \"column\": \"regions\",\n      \"properties\": {\n        \"dtype\": \"category\",\n        \"num_unique_values\": 1139,\n        \"samples\": [\n          \"Ukraine, Romania\",\n          \"Armenia, Russia, UK\",\n          \"EU, Italy, Russia\"\n        ],\n        \"semantic_type\": \"\",\n        \"description\": \"\"\n      }\n    },\n    {\n      \"column\": \"tags\",\n      \"properties\": {\n        \"dtype\": \"category\",\n        \"num_unique_values\": 3260,\n        \"samples\": [\n          \"Ukraine, illegal annexation, Crimean Tatars, Crimea\",\n          \"coronavirus, Secret elites / global elites, Conspiracy theory\",\n          \"peace negotiations, War in Ukraine, Frozen conflict\"\n        ],\n        \"semantic_type\": \"\",\n        \"description\": \"\"\n      }\n    },\n    {\n      \"column\": \"summary\",\n      \"properties\": {\n        \"dtype\": \"string\",\n        \"num_unique_values\": 7006,\n        \"samples\": [\n          \"Last Friday, Amazon workers at the JFK8 warehouse in Staten Island shocked the world by pulling off one of the great labor victories in US history, becoming the first Amazon workforce in the country to vote to unionize. A thousand miles away, in the rural setting of Brookwood, Alabama, 1,100 coal miners on strike at Warrior Met Coal have just passed the one-year anniversary of the day they hit the picket line. Around the country, workers are rising up, demanding more, and winning important victories, even though the deck is stacked against them. The question is: Where will the reinforcements come from? How can the fight that workers are waging on the shop floor be supported and empowered by a broad progressive movement that is united around the cause of economic, political, and social justice? In a recent piece published on CommonDreams, Professor Harvey J. Kaye, an expert on the New Deal and FDR, and Alan Minsky, the executive director of Progressive Democrats of America, call for progressives to rally behind the proposal for a \\u201c21st Century Economic Bill of Rights.\\u201d In this interview, TRNN Editor-in-Chief Maximillian Alvarez speaks with Professor Kaye and labor leader Sara Nelson about the state of the labor movement today and what it would mean if progressive forces within and beyond the labor movement united around a shared vision for \\u201ca platform of economic policies designed to enable Americans, all Americans, to secure the nation\\u2019s promise of life, liberty, and the pursuit of happiness.\\u201d Sara Nelson is the International President of the Association of Flight Attendants-CWA, AFL-CIO, representing around 50,000 flight attendants at 17 airlines. Harvey J. Kaye is Professor Emeritus of Democracy and Justice Studies at the University of Wisconsin-Green Bay and the author of many books, including: The Fight for the Four Freedoms: What Made FDR and the Greatest Generation Truly Great; FDR on Democracy; and Take Hold of Our History: Make America Radical Again. Pre-Production/Studio/Post-Production: Cameron Granadino Maximillian Alvarez: \\u00a0\\u00a0\\u00a0 Welcome, everyone, to The Real News Network. My name is Maximillian Alvarez. I\\u2019m the editor-in-chief here at The Real News, and it\\u2019s so great to have you all with us. Last Friday, Amazon workers at the JFK8 warehouse in Staten Island shocked the world by pulling off one of the great labor victories in US history: becoming the first Amazon workforce in the country to vote to unionize. A true David and Goliath story, the independent Amazon Labor Union, its president Christian Smalls, Vice President Derek Palmer, and a scrappy, motivated, worker-led organizing committee succeeded in counteracting Amazon\\u2019s well-funded union busting efforts and in organizing their coworkers at the truly massive facility, bringing more rank and file workers into the fight for a union and for a more democratic, just, fair, and humane workplace. 1,000 miles away in the far more rural setting of Brookwood, Alabama, 1,100 coal miners on strike at Warrior Met Coal have just passed the one-year anniversary of the day that they first hit the picket line. These workers and their families have been on strike now for over a year, holding the line at great cost, demanding that the company overturn the concessions workers were forced to take at the last contract negotiation after the previous owners of the mine went bankrupt. Now, these workers\\u2019 struggles and many others happening around the country are deeply important, obviously for the workers involved and their families, but also for all of us. Even though American workers have only gotten more productive over the years, many are feeling the squeeze after decades of stagnating wages, rising costs of living, the continued assault on organized labor, and the siphoning of worker-generated profits into the pockets of owners and shareholders. Right now as we speak, a population battered by COVID, which momentarily saw a historic drop in poverty as a result, in large part, of emergency government aid, is now seeing the ruling class claw it all back by jacking up prices in rents, cutting aid, restarting student loan payments, et cetera, et cetera. Workers banding together, whether in a union or not, are truly one of the last backstops and forces fighting to prevent the whole of the working class from sliding farther downhill in what Bernie Sanders famously called the race to the bottom.\",\n          \"In April 2014, the Ukrainian authorities launched a military operation against the republics of Donetsk and Luhansk, which unilaterally declared their independence from Ukraine in February 2014.\",\n          \"American divers installed explosives under the Nord Stream pipeline during a summer NATO exercise. The bombs were activated on 26 September by Norwegian navy that dropped a sonobuoy which activated the explosives. President Biden decided to perform this diversion after top-secret talks with his national security community, and CIA director William Burns gave the order to launch the operation.\"\n        ],\n        \"semantic_type\": \"\",\n        \"description\": \"\"\n      }\n    },\n    {\n      \"column\": \"og_link\",\n      \"properties\": {\n        \"dtype\": \"string\",\n        \"num_unique_values\": 7035,\n        \"samples\": [\n          \"https://bbc.com/news/world-europe-64887890\",\n          \"https://rusvesna.su/news/1581680297\",\n          \"https://mundo.sputniknews.com/20211110/analista-venezolano-eeuu-provoca-a-rusia-por-declive-de-su-hegemonia-1118063778.html\"\n        ],\n        \"semantic_type\": \"\",\n        \"description\": \"\"\n      }\n    },\n    {\n      \"column\": \"original_lang\",\n      \"properties\": {\n        \"dtype\": \"category\",\n        \"num_unique_values\": 100,\n        \"samples\": [\n          \"Spanish, Italian\",\n          \"French, English\",\n          \"English, French, German, Spanish, Russian\"\n        ],\n        \"semantic_type\": \"\",\n        \"description\": \"\"\n      }\n    },\n    {\n      \"column\": \"label\",\n      \"properties\": {\n        \"dtype\": \"number\",\n        \"std\": 0,\n        \"min\": 0,\n        \"max\": 1,\n        \"num_unique_values\": 2,\n        \"samples\": [\n          0,\n          1\n        ],\n        \"semantic_type\": \"\",\n        \"description\": \"\"\n      }\n    },\n    {\n      \"column\": \"summary_nltk\",\n      \"properties\": {\n        \"dtype\": \"string\",\n        \"num_unique_values\": 7003,\n        \"samples\": [\n          \"The dissolution of the Soviet Union and the expansion of the American thalassocratic empire was followed by globalisation and by the power \\u00e9lite\\u2019s imposition of a dominant liberal ideology enforced by the inquisitorial tribunal of political correctness, which puts on summary trial anyone who dissents from this dominant way of thinking.\",\n          \"Already at least two countries that are members of NATO have declared their readiness to deploy their military bases on the territory of Ukraine. The main task is to get as close to Russia as possible.\"\n        ],\n        \"semantic_type\": \"\",\n        \"description\": \"\"\n      }\n    },\n    {\n      \"column\": \"entities\",\n      \"properties\": {\n        \"dtype\": \"string\",\n        \"num_unique_values\": 6649,\n        \"samples\": [\n          \"1915, 64, Antarctica, Charlestown, Cornish, Cornwall, Dnipro, Endurance, Ernest Shackleton's, Ramon Van De Velde, Shackleton, South Georgia, Southern Ocean, Ukraine, Ukrainian, Vitaliy Vrubel, Vrubel, the Shipwreck Treasure Museum\",\n          \"Black Yield Institute\\u2019s, Cherry Hill, Cherry Hill Urban Community Garden, June, Nov. 30, South Baltimore\\u2019s\"\n        ],\n        \"semantic_type\": \"\",\n        \"description\": \"\"\n      }\n    }\n  ]\n}"
            }
          },
          "metadata": {},
          "execution_count": 78
        }
      ],
      "source": [
        "df"
      ]
    },
    {
      "cell_type": "code",
      "execution_count": 79,
      "metadata": {
        "id": "olK3GqCJEEyb",
        "colab": {
          "base_uri": "https://localhost:8080/",
          "height": 105
        },
        "outputId": "fb565d0a-e878-4c4d-cb71-c73528252e6f"
      },
      "outputs": [
        {
          "output_type": "execute_result",
          "data": {
            "text/plain": [
              "'The world\\'s most expensive cities are jointly New York and Singapore, according to the annual Economist Intelligence Unit (EIU) survey. It is the first time New York has topped the rankings. Last year\\'s number one, Tel Aviv, is now placed third. Overall, the average cost of living in the world\\'s biggest cities is up 8.1% this year, the EIU survey reports. The war in Ukraine and Covid\\'s impact on supply chains were identified as factors behind the increase. Inflation was particularly high in Istanbul - with prices up by 86% - Buenos Aires (64%) and Tehran (57%). High inflation in the US was one of the reasons for New York topping the list. Los Angeles and San Francisco also made the top 10 - earlier this year, US inflation was the highest in more than 40 years. The strengthening dollar was also a factor in the US cities\\' prominence. Moscow and St Petersburg rose through the rankings by 88 and 70 places, to 37th and 73rd place respectively, partly as a result of Western sanctions following Russia\\'s invasion of Ukraine. The survey compares costs in US dollars for goods and services in 173 cities. Kyiv was not included in this year\\'s review. The EIU compared more than 400 individual prices across over 200 products and services from 172 cities around the globe. Upasana Dutt, responsible for leading the research, said the war in Ukraine, Western sanctions on Russiam and China\\'s zero-Covid policies \"have caused supply-chain problems\". \"That, combined with rising interest rates and exchange-rate shifts, have resulted in a cost-of-living crisis across the world,\" Ms Dutt added. She said the average price rise across the 172 cities in the EIU\\'s survey has been \"the strongest we\\'ve seen in the 20 years for which we have digital data\". 1 = New York 1 = Singapore 3 = Tel Aviv 4 = Hong Kong 4 = Los Angeles 6 = Zurich 7 = Geneva 8 = San Francisco 9 = Paris 10 = Sydney 10 = Copenhagen 161 = Colombo 161 = Bangalore 161 = Algiers 164 = Chennai 165 = Ahmedabad 166 = Almaty 167 = Karachi 168 = Tashkent 169 = Tunis 170 = Tehran 171 = Tripoli 172 = Damascus Source: EIU\\'s World Cost of Living index'"
            ],
            "application/vnd.google.colaboratory.intrinsic+json": {
              "type": "string"
            }
          },
          "metadata": {},
          "execution_count": 79
        }
      ],
      "source": [
        "df['summary'][1]"
      ]
    },
    {
      "cell_type": "code",
      "execution_count": 80,
      "metadata": {
        "id": "78orRIdOCVYs",
        "colab": {
          "base_uri": "https://localhost:8080/",
          "height": 105
        },
        "outputId": "0b6fb53f-3a73-4955-e243-15a4394f2001"
      },
      "outputs": [
        {
          "output_type": "execute_result",
          "data": {
            "text/plain": [
              "'1 = New York 1 = Singapore 3 = Tel Aviv 4 = Hong Kong 4 = Los Angeles 6 = Zurich 7 = Geneva 8 = San Francisco 9 = Paris 10 = Sydney 10 = Copenhagen 161 = Colombo 161 = Bangalore 161 = Algiers 164 = Chennai 165 = Ahmedabad 166 = Almaty 167 = Karachi 168 = Tashkent 169 = Tunis 170 = Tehran 171 = Tripoli 172 = Damascus Source: EIU\\'s World Cost of Living index The world\\'s most expensive cities are jointly New York and Singapore, according to the annual Economist Intelligence Unit (EIU) survey. She said the average price rise across the 172 cities in the EIU\\'s survey has been \"the strongest we\\'ve seen in the 20 years for which we have digital data\". Overall, the average cost of living in the world\\'s biggest cities is up 8.1% this year, the EIU survey reports. Los Angeles and San Francisco also made the top 10 - earlier this year, US inflation was the highest in more than 40 years. The EIU compared more than 400 individual prices across over 200 products and services from 172 cities around the globe. Moscow and St Petersburg rose through the rankings by 88 and 70 places, to 37th and 73rd place respectively, partly as a result of Western sanctions following Russia\\'s invasion of Ukraine.'"
            ],
            "application/vnd.google.colaboratory.intrinsic+json": {
              "type": "string"
            }
          },
          "metadata": {},
          "execution_count": 80
        }
      ],
      "source": [
        "df['summary_nltk'][1]"
      ]
    },
    {
      "cell_type": "code",
      "execution_count": 81,
      "metadata": {
        "id": "_0UKhBDlVcjC",
        "colab": {
          "base_uri": "https://localhost:8080/",
          "height": 718
        },
        "outputId": "79c73465-002b-48d3-de5a-52aad9268168"
      },
      "outputs": [
        {
          "output_type": "display_data",
          "data": {
            "text/plain": [
              "<Figure size 1200x800 with 1 Axes>"
            ],
            "image/png": "[encoded data removed]"
          },
          "metadata": {}
        }
      ],
      "source": [
        "import pandas as pd\n",
        "import matplotlib.pyplot as plt\n",
        "import seaborn as sns\n",
        "from collections import Counter\n",
        "import nltk\n",
        "from nltk.corpus import stopwords\n",
        "import random\n",
        "#nltk.download('stopwords')\n",
        "\n",
        "\n",
        "df['tags_list'] = df['tags'].str.split(',')\n",
        "\n",
        "# Create a flat list of all subjects\n",
        "tags = [subject.strip() for subjects_list in df['tags_list'] for subject in subjects_list]\n",
        "\n",
        "# Count the occurrences of each subject\n",
        "subject_counts = pd.Series(tags).value_counts()\n",
        "colors =['#%02x%02x%02x' % (random.randint(0, 255), random.randint(0, 255), random.randint(0, 255)) for _ in range(len(subject_counts))]\n",
        "# Plot the top N subjects (adjust N as needed)\n",
        "top_n_subjects = 20\n",
        "subject_counts.head(top_n_subjects).plot(kind='barh', figsize=(12, 8), color=colors)\n",
        "plt.title('Top {} tags in the dataset'.format(top_n_subjects))\n",
        "plt.xlabel('Count')\n",
        "plt.ylabel('Subject')\n",
        "plt.show()"
      ]
    },
    {
      "cell_type": "code",
      "execution_count": 82,
      "metadata": {
        "id": "5Q9nDsiIV4pP",
        "colab": {
          "base_uri": "https://localhost:8080/"
        },
        "outputId": "d98034cf-8351-4cbf-8f69-830f3b7fb505"
      },
      "outputs": [
        {
          "output_type": "stream",
          "name": "stdout",
          "text": [
            "The average length of the summaries is: 764.7679471032745 characters.\n"
          ]
        }
      ],
      "source": [
        "#Átlagos szöveghosszúság meghatározása\n",
        "df['summary_length'] = df['summary_nltk'].apply(lambda x: len(str(x)))\n",
        "\n",
        "average_length = df['summary_length'].mean()\n",
        "\n",
        "print(f\"The average length of the summaries is: {average_length} characters.\")"
      ]
    },
    {
      "cell_type": "code",
      "execution_count": 83,
      "metadata": {
        "id": "i1lYbQ-HEuT7"
      },
      "outputs": [],
      "source": [
        "df = df.dropna(subset = ['summary_nltk'])\n",
        "df = df.dropna(subset = ['date'])\n"
      ]
    },
    {
      "cell_type": "code",
      "execution_count": 84,
      "metadata": {
        "id": "vMT5IxZEE1g3"
      },
      "outputs": [],
      "source": [
        "df['author'] = df['author'].fillna('unknown')"
      ]
    },
    {
      "cell_type": "code",
      "execution_count": 85,
      "metadata": {
        "id": "EMaBTZjeMuMI"
      },
      "outputs": [],
      "source": [
        "df['content'] = df['summary_nltk']"
      ]
    },
    {
      "cell_type": "code",
      "execution_count": 86,
      "metadata": {
        "id": "iKCtmEKNEnzb",
        "colab": {
          "base_uri": "https://localhost:8080/"
        },
        "outputId": "b73e5739-0083-4d62-800c-4e7c95646720"
      },
      "outputs": [
        {
          "output_type": "execute_result",
          "data": {
            "text/plain": [
              "title                0\n",
              "author               0\n",
              "url                  0\n",
              "date                 0\n",
              "year                 0\n",
              "month                0\n",
              "day                  0\n",
              "regions           6401\n",
              "tags                 0\n",
              "summary              0\n",
              "og_link             68\n",
              "original_lang        0\n",
              "label                0\n",
              "summary_nltk         0\n",
              "entities           129\n",
              "tags_list            0\n",
              "summary_length       0\n",
              "content              0\n",
              "dtype: int64"
            ]
          },
          "metadata": {},
          "execution_count": 86
        }
      ],
      "source": [
        "df.isna().sum()"
      ]
    },
    {
      "cell_type": "code",
      "execution_count": 87,
      "metadata": {
        "id": "EpM39N0kPdnf"
      },
      "outputs": [],
      "source": [
        "df['content'] = df['content'].str.replace(r\"[\\\"'!@#$%^&*(){}[\\]:;,<.>?/~`_+=|-]\", '', regex=True)"
      ]
    },
    {
      "cell_type": "code",
      "execution_count": 88,
      "metadata": {
        "id": "2PFkVgVDLzpD"
      },
      "outputs": [],
      "source": [
        "def preprocess_text(text):\n",
        "    #print(\"\\n Preprocessing: \\n\")\n",
        "    # Convert to lowercase\n",
        "    text = text.lower()\n",
        "    # Remove special characters and numbers\n",
        "    text = ''.join([char for char in text if char.isalpha() or char.isspace()])\n",
        "    # print(\"Special chars\", text)\n",
        "    # Tokenization\n",
        "    words = word_tokenize(text)\n",
        "    # print(\"Tokens\", words)\n",
        "    # Remove stopwords\n",
        "    stop_words = set(stopwords.words('english'))\n",
        "    words = [word for word in words if word not in stop_words]\n",
        "    #print(\"Stopwordsd removed\", words)\n",
        "    #Stemming\n",
        "    stemmer = PorterStemmer()\n",
        "    #words = [stemmer.stem(word) for word in words]\n",
        "    #print(\"Stemmed\" ,words)\n",
        "    # Lemmatization\n",
        "    lemmatizer = WordNetLemmatizer()\n",
        "    words = [lemmatizer.lemmatize(word) for word in words]\n",
        "    #print(\"Lemmatized\", words)\n",
        "\n",
        "    return \" \".join(words)"
      ]
    },
    {
      "cell_type": "markdown",
      "metadata": {
        "id": "qFMdZStSTSiS"
      },
      "source": [
        "## ML, DL"
      ]
    },
    {
      "cell_type": "code",
      "execution_count": 89,
      "metadata": {
        "id": "i47Vma7CT5xU"
      },
      "outputs": [],
      "source": [
        "from nltk import pos_tag\n",
        "\n",
        "# vectorizers for creating the document-term-matrix (DTM)\n",
        "from sklearn.feature_extraction.text import TfidfVectorizer,CountVectorizer\n",
        "\n",
        "# BeautifulSoup libraray\n",
        "from bs4 import BeautifulSoup\n",
        "\n",
        "import re # regex\n",
        "\n",
        "#model_selection\n",
        "from sklearn.model_selection import train_test_split,cross_validate\n",
        "from sklearn.model_selection import KFold\n",
        "from sklearn.model_selection import GridSearchCV\n",
        "\n",
        "#evaluation\n",
        "from sklearn.metrics import accuracy_score,roc_auc_score\n",
        "from sklearn.metrics import classification_report\n",
        "from mlxtend.plotting import plot_confusion_matrix\n",
        "\n",
        "#preprocessing scikit\n",
        "from sklearn.preprocessing import MinMaxScaler,StandardScaler,LabelEncoder\n",
        "\n",
        "#classifiaction.\n",
        "from sklearn.linear_model import LogisticRegression\n",
        "from sklearn.svm import LinearSVC,SVC\n",
        "from sklearn.neighbors import KNeighborsClassifier\n",
        "from sklearn.ensemble import RandomForestClassifier,GradientBoostingClassifier,AdaBoostClassifier\n",
        "from sklearn.tree import DecisionTreeClassifier\n",
        "from sklearn.naive_bayes import GaussianNB,MultinomialNB\n",
        "\n",
        "#stop-words\n",
        "stop_words=set(nltk.corpus.stopwords.words('english'))\n",
        "\n",
        "#keras\n",
        "import keras\n",
        "from tensorflow.keras.preprocessing.text import one_hot, Tokenizer\n",
        "from tensorflow.keras.preprocessing.sequence import pad_sequences\n",
        "from tensorflow.keras.models import Sequential\n",
        "from tensorflow.keras.layers import Dense, Flatten, Embedding, Input, LSTM, Conv1D, MaxPool1D, Bidirectional\n",
        "from tensorflow.keras.models import Model\n",
        "from tensorflow.keras.preprocessing.text import text_to_word_sequence"
      ]
    },
    {
      "cell_type": "code",
      "execution_count": 90,
      "metadata": {
        "id": "ePudTw92Pm8u"
      },
      "outputs": [],
      "source": [
        "#df['content_tokens'] = df['content'].apply(preprocess_text)\n",
        "#df['content'] = df['content'].apply(preprocess_text)"
      ]
    },
    {
      "cell_type": "code",
      "execution_count": 91,
      "metadata": {
        "id": "8V3UvnYsRe_p"
      },
      "outputs": [],
      "source": [
        "# function to clean and pre-process the text.\n",
        "from bs4 import BeautifulSoup\n",
        "def clean_reviews(review):\n",
        "\n",
        "    # 1. Removing html tags\n",
        "    review_text = BeautifulSoup(review,\"lxml\").get_text()\n",
        "\n",
        "    # 2. Retaining only alphabets.\n",
        "    review_text = re.sub(\"[^a-zA-Z]\",\" \",review_text)\n",
        "\n",
        "    # 3. Converting to lower case and splitting\n",
        "    word_tokens= review_text.lower().split()\n",
        "\n",
        "    # 4. Remove stopwords\n",
        "    le=WordNetLemmatizer()\n",
        "    stop_words= set(stopwords.words(\"english\"))\n",
        "    word_tokens= [le.lemmatize(w) for w in word_tokens if not w in stop_words]\n",
        "\n",
        "    cleaned_review=\" \".join(word_tokens)\n",
        "    return cleaned_review"
      ]
    },
    {
      "cell_type": "code",
      "execution_count": 92,
      "metadata": {
        "id": "Ms-RSlwSQJph",
        "colab": {
          "base_uri": "https://localhost:8080/"
        },
        "outputId": "3adc705a-5553-421e-e480-cbb610a17b2b"
      },
      "outputs": [
        {
          "output_type": "stream",
          "name": "stdout",
          "text": [
            "12570\n",
            "12570\n"
          ]
        }
      ],
      "source": [
        "tokenizer = nltk.data.load('tokenizers/punkt/english.pickle') # world_tokenize() ?\n",
        "sentences=[]\n",
        "sum=0\n",
        "for review in df['content']:\n",
        "    sents=tokenizer.tokenize(review.strip())\n",
        "    sum+=len(sents)\n",
        "    for sent in sents:\n",
        "        cleaned_sent=clean_reviews(sent)\n",
        "        sentences.append(cleaned_sent.split()) # can use word_tokenize also.\n",
        "print(sum)\n",
        "print(len(sentences))  # total no of sentences"
      ]
    },
    {
      "cell_type": "code",
      "execution_count": 93,
      "metadata": {
        "id": "19cCyXxDRDqY",
        "colab": {
          "base_uri": "https://localhost:8080/"
        },
        "outputId": "7cef50f4-8c44-4750-d577-7c48f74126ae"
      },
      "outputs": [
        {
          "output_type": "stream",
          "name": "stdout",
          "text": [
            "['western', 'country', 'carrying', 'pressure', 'campaign', 'russian', 'medium', 'u', 'congressman', 'french', 'president', 'emmanuel', 'macron', 'accused', 'rt', 'sputnik', 'without', 'evidence', 'interfering', 'election', 'country'] \n",
            "\n",
            "['new', 'york', 'singapore', 'tel', 'aviv', 'hong', 'kong', 'los', 'angeles', 'zurich', 'geneva', 'san', 'francisco', 'paris', 'sydney', 'copenhagen', 'colombo', 'bangalore', 'algiers', 'chennai', 'ahmedabad', 'almaty', 'karachi', 'tashkent', 'tunis', 'tehran', 'tripoli', 'damascus', 'source', 'eius', 'world', 'cost', 'living', 'index', 'world', 'expensive', 'city', 'jointly', 'new', 'york', 'singapore', 'according', 'annual', 'economist', 'intelligence', 'unit', 'eiu', 'survey', 'said', 'average', 'price', 'rise', 'across', 'city', 'eius', 'survey', 'strongest', 'weve', 'seen', 'year', 'digital', 'data', 'overall', 'average', 'cost', 'living', 'world', 'biggest', 'city', 'year', 'eiu', 'survey', 'report', 'los', 'angeles', 'san', 'francisco', 'also', 'made', 'top', 'earlier', 'year', 'u', 'inflation', 'highest', 'year', 'eiu', 'compared', 'individual', 'price', 'across', 'product', 'service', 'city', 'around', 'globe', 'moscow', 'st', 'petersburg', 'rose', 'ranking', 'place', 'th', 'rd', 'place', 'respectively', 'partly', 'result', 'western', 'sanction', 'following', 'russia', 'invasion', 'ukraine'] \n",
            "\n",
            "['five', 'adult', 'two', 'child', 'arrived', 'bath', 'north', 'east', 'somerset', 'home', 'ukraine', 'scheme', 'four', 'adult', 'seven', 'child', 'expected', 'arrive', 'end', 'easter', 'weekend', 'bath', 'north', 'east', 'somerset', 'bane', 'cabinet', 'member', 'dine', 'romero', 'said', 'delay', 'coming', 'council', 'side', 'ready', 'prepared', 'spokesperson', 'said', 'home', 'office', 'made', 'change', 'visa', 'processing', 'application', 'form', 'streamlined', 'government', 'said', 'changed', 'visa', 'processing', 'application', 'form', 'streamlined', 'visa', 'application', 'piece', 'seem', 'long', 'laboured', 'documentheavy', 'process', 'ensure', 'check', 'met', 'weve', 'able', 'fairly', 'quickly', 'woman', 'prepared', 'home', 'arrival', 'ukrainian', 'mother', 'son', 'described', 'delay', 'visa', 'absolute', 'nightmare', 'government', 'say', 'processing', 'visa', 'quickly', 'possible', 'accepts', 'progress', 'quick', 'enough', 'case'] \n",
            "\n",
            "['early', 'country', 'social', 'democrat', 'government', 'long', 'opposed', 'joining', 'nato', 'reversed', 'position', 'following', 'russia', 'fullscale', 'invasion', 'ukraine', 'sweden', 'swiftly', 'applied', 'membership', 'said', 'already', 'public', 'debate', 'nato', 'flag', 'flown', 'public', 'institution', 'increased', 'military', 'cooperation', 'would', 'likely', 'result', 'increased', 'military', 'presence', 'region', 'sergels', 'torg', 'central', 'stockholm', 'huge', 'blackandwhite', 'paved', 'square', 'wilma', 'told', 'bbc', 'already', 'thought', 'would', 'feel', 'safer', 'everyday', 'life', 'sweden', 'part', 'member', 'nato', 'alliance', 'friday', 'morning', 'sweden', 'commercial', 'television', 'news', 'tv', 'led', 'bulletin', 'video', 'clip', 'u', 'president', 'joe', 'biden', 'mentioning', 'sweden', 'prime', 'minister', 'ulf', 'kristersson', 'state', 'union', 'address', 'official', 'line', 'government', 'military', 'possibility', 'conflict', 'since', 'nato', 'member', 'expected', 'help', 'ally', 'come', 'attack', 'sweden', 'better', 'protected', 'almost', 'two', 'year', 'applying', 'join', 'nato', 'many', 'swede', 'say', 'palpable', 'relief', 'wait', 'secure', 'membership', 'military', 'alliance', 'finally', 'swedish', 'tabloid', 'expressen', 'wrote', 'roundup', 'international', 'medium', 'responded', 'development', 'citing', 'u', 'network', 'nbc', 'describing', 'significant', 'expansion', 'western', 'military', 'alliance', 'decade', 'editorial', 'norwegian', 'newspaper', 'vg', 'declaring', 'old', 'dream', 'nordic', 'defence', 'union', 'finally', 'fulfilled'] \n",
            "\n",
            "['voice', 'america', 'journalist', 'wenhao', 'specialises', 'chinese', 'online', 'disinformation', 'posted', 'x', 'biggest', 'u', 'related', 'news', 'china', 'internet', 'past', 'day', 'texas', 'governor', 'declaring', 'war', 'federal', 'government', 'happen', 'reality', 'medium', 'messaging', 'made', 'idea', 'civil', 'war', 'believable', 'chinese', 'state', 'medium', 'regularly', 'suggested', 'political', 'division', 'u', 'polarised', 'country', 'reached', 'brink', 'internal', 'conflict', 'amid', 'escalating', 'border', 'standoff', 'texas', 'white', 'house', 'illegal', 'immigration', 'misinformation', 'spread', 'china', 'lone', 'star', 'state', 'officially', 'declared', 'war', 'secede', 'u', 'trending', 'social', 'medium', 'post', 'china', 'allege', 'mr', 'abbott', 'preparing', 'go', 'war', 'u', 'federal', 'authority', 'foreign', 'medium', 'largely', 'blocked', 'china', 'content', 'foreign', 'medium', 'often', 'cherrypicked', 'stoke', 'suggestion', 'u', 'internal', 'division', 'social', 'medium', 'user', 'china', 'friday', 'example', 'able', 'read', 'report', 'florida', 'republican', 'governor', 'ron', 'desantis', 'sending', 'member', 'national', 'guard', 'texas', 'popular', 'chinese', 'outlet', 'suggesting', 'event', 'texas', 'led', 'deep', 'division', 'u', 'widening', 'point', 'unrest', 'become', 'stark', 'reality'] \n",
            "\n"
          ]
        }
      ],
      "source": [
        "# trying to print few sentences\n",
        "for te in sentences[:5]:\n",
        "    print(te,\"\\n\")"
      ]
    },
    {
      "cell_type": "code",
      "execution_count": 94,
      "metadata": {
        "id": "HMsF4MWESLLz"
      },
      "outputs": [],
      "source": [
        "import gensim\n",
        "import gensim.downloader as api\n",
        "from gensim.models import Word2Vec\n",
        "w2v_model=gensim.models.Word2Vec(sentences=sentences, vector_size=300,window=10,min_count=1)"
      ]
    },
    {
      "cell_type": "code",
      "execution_count": 95,
      "metadata": {
        "id": "HGccswxuOUck",
        "colab": {
          "base_uri": "https://localhost:8080/"
        },
        "outputId": "979f32e3-6743-49ca-ad47-f040eba6e613"
      },
      "outputs": [
        {
          "output_type": "stream",
          "name": "stderr",
          "text": [
            "WARNING:gensim.models.word2vec:Effective 'alpha' higher than previous training cycles\n"
          ]
        },
        {
          "output_type": "execute_result",
          "data": {
            "text/plain": [
              "(8707663, 9100080)"
            ]
          },
          "metadata": {},
          "execution_count": 95
        }
      ],
      "source": [
        "# Now you can build the vocabulary with your sentences and set update=True to update the model with new words\n",
        "w2v_model.train(sentences, total_examples=len(sentences), epochs=10)"
      ]
    },
    {
      "cell_type": "code",
      "execution_count": 96,
      "metadata": {
        "id": "W-QPpv2fSgtM",
        "colab": {
          "base_uri": "https://localhost:8080/"
        },
        "outputId": "ea60f3bc-3f64-4856-af59-330b27ff1d9f"
      },
      "outputs": [
        {
          "output_type": "stream",
          "name": "stdout",
          "text": [
            "The total number of words are :  29540\n"
          ]
        }
      ],
      "source": [
        "# total numberof extracted words.\n",
        "vocab = list(w2v_model.wv.key_to_index.keys())\n",
        "print(\"The total number of words are : \",len(vocab))"
      ]
    },
    {
      "cell_type": "code",
      "execution_count": 97,
      "metadata": {
        "id": "CqlOZl1nUPoR",
        "colab": {
          "base_uri": "https://localhost:8080/"
        },
        "outputId": "5cc692d8-5226-4db8-c8b0-edc56567bacb"
      },
      "outputs": [
        {
          "output_type": "stream",
          "name": "stdout",
          "text": [
            "The no of key-value pairs :  29540\n"
          ]
        }
      ],
      "source": [
        "word_vec_dict={}\n",
        "for word in vocab:\n",
        "  word_vec_dict[word]=w2v_model.wv.get_vector(word)\n",
        "print(\"The no of key-value pairs : \",len(word_vec_dict)) # should come equal to vocab size\n"
      ]
    },
    {
      "cell_type": "code",
      "execution_count": 98,
      "metadata": {
        "id": "BOyMSE2cStDO"
      },
      "outputs": [],
      "source": [
        "df['clean_content'] = df['content'].apply(clean_reviews)"
      ]
    },
    {
      "cell_type": "code",
      "execution_count": 99,
      "metadata": {
        "colab": {
          "base_uri": "https://localhost:8080/"
        },
        "id": "knG01AGvTLXX",
        "outputId": "d9f95535-3d5c-4cc0-d745-12860ac73692"
      },
      "outputs": [
        {
          "output_type": "stream",
          "name": "stdout",
          "text": [
            "Max lenght of a summary: 639\n"
          ]
        }
      ],
      "source": [
        "maxi=-1\n",
        "for i,rev in enumerate(df['clean_content']):\n",
        "    tokens=rev.split()\n",
        "    if(len(tokens)>maxi):\n",
        "        maxi=len(tokens)\n",
        "print(f'Max lenght of a summary: {maxi}')"
      ]
    },
    {
      "cell_type": "code",
      "execution_count": 100,
      "metadata": {
        "id": "mqg_Pn-dTaMV"
      },
      "outputs": [],
      "source": [
        "\n",
        "tok = Tokenizer()\n",
        "tok.fit_on_texts(df['clean_content'])\n",
        "vocab_size = len(tok.word_index) + 1\n",
        "encd_rev = tok.texts_to_sequences(df['clean_content'])"
      ]
    },
    {
      "cell_type": "code",
      "execution_count": 101,
      "metadata": {
        "id": "6r_YfUSzTetx"
      },
      "outputs": [],
      "source": [
        "max_rev_len=maxi  # max lenght of a review\n",
        "vocab_size = len(tok.word_index) + 1  # total no of words\n",
        "embed_dim=300 # embedding dimension as choosen in word2vec constructor"
      ]
    },
    {
      "cell_type": "code",
      "execution_count": 102,
      "metadata": {
        "colab": {
          "base_uri": "https://localhost:8080/"
        },
        "id": "AVsOzfjSTku8",
        "outputId": "baacf8f6-3d51-4bb1-cb6b-aa4aa95ac873"
      },
      "outputs": [
        {
          "output_type": "execute_result",
          "data": {
            "text/plain": [
              "(12588, 639)"
            ]
          },
          "metadata": {},
          "execution_count": 102
        }
      ],
      "source": [
        "\n",
        "pad_rev= pad_sequences(encd_rev, maxlen=max_rev_len, padding='post')\n",
        "pad_rev.shape"
      ]
    },
    {
      "cell_type": "code",
      "execution_count": 103,
      "metadata": {
        "id": "jW33y7FRUIEG"
      },
      "outputs": [],
      "source": [
        "# now creating the embedding matrix\n",
        "embed_matrix=np.zeros(shape=(vocab_size,embed_dim))\n",
        "for word,i in tok.word_index.items():\n",
        "  embed_vector=word_vec_dict.get(word)\n",
        "  if embed_vector is not None:  # word is in the vocabulary learned by the w2v model\n",
        "    embed_matrix[i]=embed_vector\n",
        "  # if word is not found then embed_vector corressponding to that vector will stay zero."
      ]
    },
    {
      "cell_type": "code",
      "execution_count": 104,
      "metadata": {
        "colab": {
          "base_uri": "https://localhost:8080/"
        },
        "id": "iKl-he9jUVX-",
        "outputId": "7b779913-c4a3-414c-a365-6f4f7ee0bfb4"
      },
      "outputs": [
        {
          "output_type": "stream",
          "name": "stdout",
          "text": [
            "[ 1.18385792e+00  2.27372026e+00 -2.03094244e+00 -2.21895766e+00\n",
            "  3.77536207e-01 -3.38417947e-01 -1.77413738e+00 -2.53718185e+00\n",
            " -5.38600385e-01 -1.69684660e+00  7.89666951e-01 -3.38784695e+00\n",
            " -5.26015639e-01 -4.38153863e-01 -1.65468216e+00  3.65224719e-01\n",
            "  8.67292762e-01  4.64507788e-01  1.36935532e+00  1.28822255e+00\n",
            "  9.88888800e-01 -3.88466358e-01  8.98456573e-01 -2.16011953e+00\n",
            " -2.15609848e-01  2.68734074e+00 -3.09622622e+00 -1.84193659e+00\n",
            "  1.55818725e+00 -1.50879371e+00 -1.79928839e-01 -1.89246207e-01\n",
            "  1.30767858e+00  1.32998466e+00 -1.51084065e+00 -7.10415006e-01\n",
            "  1.05107278e-01  1.08318877e+00 -9.21843112e-01  3.82481515e-01\n",
            "  1.43717575e+00 -1.95103276e+00 -1.21212876e+00  1.12413931e+00\n",
            " -1.48041558e+00  1.18185639e+00  1.76196742e+00 -9.33341324e-01\n",
            " -5.07510841e-01 -7.30221570e-01 -2.71631032e-01  2.16888142e+00\n",
            "  2.14182854e+00  2.62297368e+00  1.97409272e+00 -8.47661316e-01\n",
            " -1.10323608e-01 -2.91548343e-03 -4.91145492e-01 -3.86758149e-01\n",
            "  7.98502326e-01 -1.20339394e+00 -3.66068006e-01  1.60836184e+00\n",
            " -4.39578652e-01 -1.44800818e+00 -1.89950824e-01 -1.30834901e+00\n",
            "  4.30935115e-01  2.50015163e+00  4.79541063e-01  2.86477566e-01\n",
            "  3.91398132e-01  1.27901709e+00 -1.01556575e+00  2.16621327e+00\n",
            " -4.58870113e-01  8.05353999e-01 -7.09805861e-02 -5.16872294e-03\n",
            " -2.44795346e+00 -1.54783204e-01 -8.63056302e-01 -1.11861002e+00\n",
            "  1.38831604e+00  1.23671144e-01 -3.65920365e-01  1.25669038e+00\n",
            " -3.99449348e-01  1.29526973e+00  4.80877876e-01 -2.56095231e-01\n",
            " -2.65076518e+00  4.63749543e-02  3.80459726e-01  1.06324482e+00\n",
            "  1.00922957e-02  1.64602470e+00  6.95673704e-01 -1.35883307e+00\n",
            "  2.10175991e-01 -1.75408220e+00 -3.98185611e-01 -1.27753699e+00\n",
            "  6.46329045e-01 -1.70814967e+00 -2.87926793e-01 -2.15742826e+00\n",
            "  9.93336439e-01 -1.20162451e+00 -2.12294888e+00  2.73971772e+00\n",
            " -1.33463168e+00 -2.34448409e+00  3.10262263e-01 -2.13950586e+00\n",
            " -7.48675093e-02  5.17234445e-01  1.07403541e+00  2.23458004e+00\n",
            " -1.11694074e+00  1.83376467e+00  1.23780918e+00 -1.10591030e+00\n",
            "  6.47862613e-01  5.95871091e-01  1.42257953e+00  3.45486617e+00\n",
            " -1.13838136e+00 -4.60121304e-01 -5.55730104e-01 -3.37835401e-01\n",
            "  7.58093894e-01  5.72666600e-02  4.12234068e-01 -2.07898498e+00\n",
            " -2.15428472e+00  2.32433963e+00 -1.29176056e+00 -7.49635160e-01\n",
            " -1.40380144e+00  1.75381327e+00  2.74160892e-01 -1.13567162e+00\n",
            "  1.60425454e-02 -2.61301428e-01 -1.09617841e+00  9.12869811e-01\n",
            "  2.90195316e-01  2.22989345e+00 -8.74861896e-01 -1.73434541e-02\n",
            "  6.74954712e-01  1.84982431e+00  2.05395865e+00  1.59653401e+00\n",
            "  7.75594234e-01 -1.15350015e-01 -1.61414528e+00 -5.65262854e-01\n",
            " -2.47486806e+00  1.88382924e-01 -1.71807659e+00 -1.05645633e+00\n",
            " -1.36694896e+00 -6.44069731e-01 -1.85546494e+00  2.73682499e+00\n",
            "  1.35758436e+00  1.54678583e+00 -1.05905378e+00  2.19033527e+00\n",
            "  7.15892851e-01  9.30543065e-01 -9.44632709e-01 -3.87562823e+00\n",
            " -1.06320691e+00  1.18408358e+00 -4.64554518e-01 -8.51022124e-01\n",
            " -1.43528068e+00  3.29415083e-01 -8.57780159e-01  4.24495792e+00\n",
            "  2.10380244e+00 -4.24188644e-01 -9.05378342e-01  2.59417677e+00\n",
            " -2.25714326e+00 -1.33671296e+00  1.53330171e+00 -4.27338749e-01\n",
            "  1.90898085e+00 -2.41307759e+00  2.38789058e+00  1.00456870e+00\n",
            " -1.03178906e+00 -9.10793543e-01  7.53962100e-01 -7.64927864e-01\n",
            " -1.63252127e+00  4.24595261e+00 -3.75325769e-01 -1.24631584e+00\n",
            " -7.75386095e-01 -1.28683400e+00  2.33092442e-01  5.66887975e-01\n",
            "  1.54764926e+00 -1.40665722e+00  4.30132532e+00 -1.14483289e-01\n",
            "  3.04481649e+00  1.71194506e+00  2.38604168e-03 -3.80213308e+00\n",
            "  2.51570010e+00  1.31655145e+00 -1.86589336e+00 -1.57932746e+00\n",
            " -1.71224236e+00  9.72055376e-01 -2.24209356e+00  6.31021010e-03\n",
            " -5.79002082e-01 -1.46296293e-01  9.70667362e-01 -2.65995026e-01\n",
            "  2.32839227e-01 -1.70884156e+00 -3.91212218e-02  1.41611814e+00\n",
            " -1.24599111e+00 -1.30983710e+00 -9.24283445e-01  4.37941223e-01\n",
            "  9.67717946e-01  6.96857572e-01 -1.12271647e-03 -1.45582414e+00\n",
            " -1.46279740e+00 -1.00103283e+00 -6.30516112e-01 -3.29731494e-01\n",
            " -1.24286830e+00 -1.91501886e-01  1.58262873e+00 -1.08433509e+00\n",
            "  1.43190354e-01  1.10725987e+00  6.09480321e-01  2.04792643e+00\n",
            " -8.42862368e-01  1.29642710e-01  1.08138418e+00 -7.26053894e-01\n",
            "  6.18938804e-01  8.64289761e-01 -1.11302471e+00  1.38414228e+00\n",
            "  5.56039572e-01 -9.00639534e-01  2.09422350e+00  1.71121442e+00\n",
            " -3.29160523e+00 -2.98204446e+00 -5.75150669e-01 -3.69132900e+00\n",
            " -2.19833165e-01  7.22231925e-01  1.02605796e+00 -1.05054963e+00\n",
            " -5.62310278e-01  6.02180898e-01  1.16155732e+00 -1.40440881e+00\n",
            "  5.09088159e-01  7.75106132e-01 -8.91642332e-01 -9.85044658e-01\n",
            "  2.01831317e+00  1.30905366e+00 -2.36314559e+00 -1.62544799e+00\n",
            "  1.30832887e+00  1.39718246e+00 -6.45776331e-01  1.14274740e+00\n",
            " -1.50672901e+00  2.26570368e+00  2.67955112e+00  9.71930981e-01\n",
            "  1.91487110e+00 -9.46286261e-01 -3.86460781e+00 -1.83706689e+00\n",
            " -3.25171888e-01 -5.86522758e-01  4.86177117e-01 -2.57964182e+00]\n"
          ]
        }
      ],
      "source": [
        "print(embed_matrix[14])"
      ]
    },
    {
      "cell_type": "code",
      "execution_count": 105,
      "metadata": {
        "id": "zsoR5KfpUa7l"
      },
      "outputs": [],
      "source": [
        "# prepare train and val sets first\n",
        "Y=(df['label'])\n",
        "x_train,x_test,y_train,y_test=train_test_split(pad_rev,Y,test_size=0.20,random_state=42)"
      ]
    },
    {
      "cell_type": "code",
      "execution_count": 106,
      "metadata": {
        "id": "hUGiRyssUeuO"
      },
      "outputs": [],
      "source": [
        "from tensorflow.keras.initializers import Constant\n",
        "from tensorflow.keras.layers import ReLU\n",
        "from tensorflow.keras.losses import BinaryCrossentropy\n",
        "from tensorflow.keras.layers import Dropout\n",
        "from tensorflow.keras.callbacks import EarlyStopping, ModelCheckpoint\n",
        "\n",
        "early_stopping = EarlyStopping(monitor='val_loss', min_delta=0.001, patience=3, verbose=1,mode='auto')\n",
        "model_checkpoint = ModelCheckpoint('best_model.h5', monitor='val_loss', save_best_only=True, verbose=1)\n",
        "\n",
        "model=Sequential()\n",
        "model.add(Embedding(input_dim=vocab_size, output_dim=embed_dim,\n",
        "                    input_length=max_rev_len, weights=[embed_matrix],\n",
        "                    trainable=True))\n",
        "model.add(Bidirectional(LSTM(64, dropout = 0.2)))\n",
        "model.add(Dense(64, activation = 'relu'))\n",
        "model.add(Dropout(0.1))\n",
        "model.add(Dense(1, activation='sigmoid'))\n",
        "\n",
        "# compile the model\n",
        "model.compile(optimizer= 'SGD', loss=BinaryCrossentropy(), metrics=['accuracy'])"
      ]
    },
    {
      "cell_type": "code",
      "execution_count": 107,
      "metadata": {
        "id": "FY09vjpfUhLk",
        "colab": {
          "base_uri": "https://localhost:8080/"
        },
        "outputId": "a9539023-84dc-412e-f897-986d93a929b5"
      },
      "outputs": [
        {
          "output_type": "stream",
          "name": "stdout",
          "text": [
            "Model: \"sequential_4\"\n",
            "_________________________________________________________________\n",
            " Layer (type)                Output Shape              Param #   \n",
            "=================================================================\n",
            " embedding_4 (Embedding)     (None, 639, 300)          8862300   \n",
            "                                                                 \n",
            " bidirectional_4 (Bidirecti  (None, 128)               186880    \n",
            " onal)                                                           \n",
            "                                                                 \n",
            " dense_8 (Dense)             (None, 64)                8256      \n",
            "                                                                 \n",
            " dropout_4 (Dropout)         (None, 64)                0         \n",
            "                                                                 \n",
            " dense_9 (Dense)             (None, 1)                 65        \n",
            "                                                                 \n",
            "=================================================================\n",
            "Total params: 9057501 (34.55 MB)\n",
            "Trainable params: 9057501 (34.55 MB)\n",
            "Non-trainable params: 0 (0.00 Byte)\n",
            "_________________________________________________________________\n"
          ]
        }
      ],
      "source": [
        "model.summary()"
      ]
    },
    {
      "cell_type": "code",
      "execution_count": 108,
      "metadata": {
        "id": "fOOGBlTLUsZv",
        "colab": {
          "base_uri": "https://localhost:8080/"
        },
        "outputId": "1a3b324c-11b8-4564-c294-503196655fc7"
      },
      "outputs": [
        {
          "output_type": "stream",
          "name": "stdout",
          "text": [
            "Epoch 1/30\n",
            "315/315 [==============================] - ETA: 0s - loss: 0.6207 - accuracy: 0.7171\n",
            "Epoch 1: val_loss improved from inf to 0.48390, saving model to best_model.h5\n",
            "315/315 [==============================] - 28s 80ms/step - loss: 0.6207 - accuracy: 0.7171 - val_loss: 0.4839 - val_accuracy: 0.8384\n",
            "Epoch 2/30\n"
          ]
        },
        {
          "output_type": "stream",
          "name": "stderr",
          "text": [
            "/usr/local/lib/python3.10/dist-packages/keras/src/engine/training.py:3103: UserWarning: You are saving your model as an HDF5 file via `model.save()`. This file format is considered legacy. We recommend using instead the native Keras format, e.g. `model.save('my_model.keras')`.\n",
            "  saving_api.save_model(\n"
          ]
        },
        {
          "output_type": "stream",
          "name": "stdout",
          "text": [
            "315/315 [==============================] - ETA: 0s - loss: 0.3993 - accuracy: 0.8567\n",
            "Epoch 2: val_loss improved from 0.48390 to 0.30033, saving model to best_model.h5\n",
            "315/315 [==============================] - 20s 63ms/step - loss: 0.3993 - accuracy: 0.8567 - val_loss: 0.3003 - val_accuracy: 0.8701\n",
            "Epoch 3/30\n",
            "315/315 [==============================] - ETA: 0s - loss: 0.2823 - accuracy: 0.8858\n",
            "Epoch 3: val_loss improved from 0.30033 to 0.23209, saving model to best_model.h5\n",
            "315/315 [==============================] - 17s 54ms/step - loss: 0.2823 - accuracy: 0.8858 - val_loss: 0.2321 - val_accuracy: 0.9079\n",
            "Epoch 4/30\n",
            "315/315 [==============================] - ETA: 0s - loss: 0.2171 - accuracy: 0.9180\n",
            "Epoch 4: val_loss improved from 0.23209 to 0.16286, saving model to best_model.h5\n",
            "315/315 [==============================] - 16s 52ms/step - loss: 0.2171 - accuracy: 0.9180 - val_loss: 0.1629 - val_accuracy: 0.9384\n",
            "Epoch 5/30\n",
            "314/315 [============================>.] - ETA: 0s - loss: 0.1480 - accuracy: 0.9472\n",
            "Epoch 5: val_loss improved from 0.16286 to 0.08958, saving model to best_model.h5\n",
            "315/315 [==============================] - 15s 49ms/step - loss: 0.1481 - accuracy: 0.9470 - val_loss: 0.0896 - val_accuracy: 0.9694\n",
            "Epoch 6/30\n",
            "314/315 [============================>.] - ETA: 0s - loss: 0.0822 - accuracy: 0.9740\n",
            "Epoch 6: val_loss improved from 0.08958 to 0.05933, saving model to best_model.h5\n",
            "315/315 [==============================] - 15s 47ms/step - loss: 0.0821 - accuracy: 0.9741 - val_loss: 0.0593 - val_accuracy: 0.9837\n",
            "Epoch 7/30\n",
            "315/315 [==============================] - ETA: 0s - loss: 0.0507 - accuracy: 0.9858\n",
            "Epoch 7: val_loss improved from 0.05933 to 0.04824, saving model to best_model.h5\n",
            "315/315 [==============================] - 15s 49ms/step - loss: 0.0507 - accuracy: 0.9858 - val_loss: 0.0482 - val_accuracy: 0.9869\n",
            "Epoch 8/30\n",
            "314/315 [============================>.] - ETA: 0s - loss: 0.0431 - accuracy: 0.9876\n",
            "Epoch 8: val_loss improved from 0.04824 to 0.03655, saving model to best_model.h5\n",
            "315/315 [==============================] - 15s 46ms/step - loss: 0.0430 - accuracy: 0.9876 - val_loss: 0.0366 - val_accuracy: 0.9889\n",
            "Epoch 9/30\n",
            "315/315 [==============================] - ETA: 0s - loss: 0.0451 - accuracy: 0.9870\n",
            "Epoch 9: val_loss did not improve from 0.03655\n",
            "315/315 [==============================] - 15s 46ms/step - loss: 0.0451 - accuracy: 0.9870 - val_loss: 0.0550 - val_accuracy: 0.9873\n",
            "Epoch 10/30\n",
            "315/315 [==============================] - ETA: 0s - loss: 0.0293 - accuracy: 0.9928\n",
            "Epoch 10: val_loss did not improve from 0.03655\n",
            "315/315 [==============================] - 14s 45ms/step - loss: 0.0293 - accuracy: 0.9928 - val_loss: 0.0472 - val_accuracy: 0.9885\n",
            "Epoch 11/30\n",
            "315/315 [==============================] - ETA: 0s - loss: 0.0332 - accuracy: 0.9913\n",
            "Epoch 11: val_loss improved from 0.03655 to 0.03361, saving model to best_model.h5\n",
            "315/315 [==============================] - 14s 45ms/step - loss: 0.0332 - accuracy: 0.9913 - val_loss: 0.0336 - val_accuracy: 0.9936\n",
            "Epoch 12/30\n",
            "315/315 [==============================] - ETA: 0s - loss: 0.0234 - accuracy: 0.9935\n",
            "Epoch 12: val_loss did not improve from 0.03361\n",
            "315/315 [==============================] - 14s 45ms/step - loss: 0.0234 - accuracy: 0.9935 - val_loss: 0.0385 - val_accuracy: 0.9901\n",
            "Epoch 13/30\n",
            "315/315 [==============================] - ETA: 0s - loss: 0.0307 - accuracy: 0.9918\n",
            "Epoch 13: val_loss did not improve from 0.03361\n",
            "315/315 [==============================] - 14s 46ms/step - loss: 0.0307 - accuracy: 0.9918 - val_loss: 0.0342 - val_accuracy: 0.9921\n",
            "Epoch 14/30\n",
            "314/315 [============================>.] - ETA: 0s - loss: 0.0213 - accuracy: 0.9939\n",
            "Epoch 14: val_loss did not improve from 0.03361\n",
            "315/315 [==============================] - 14s 45ms/step - loss: 0.0213 - accuracy: 0.9939 - val_loss: 0.0365 - val_accuracy: 0.9925\n",
            "Epoch 14: early stopping\n"
          ]
        }
      ],
      "source": [
        "#relu, relu, sigmoid SGD\n",
        "history = model.fit(x_train,y_train,epochs=30,batch_size=32,validation_data=(x_test,y_test), callbacks = [early_stopping, model_checkpoint])"
      ]
    },
    {
      "cell_type": "code",
      "execution_count": 109,
      "metadata": {
        "id": "n30qn_PhLBSB"
      },
      "outputs": [],
      "source": [
        "#history_rrs_a = model.fit(x_train,y_train,epochs=10,batch_size=64,validation_data=(x_test,y_test), callbacks = [early_stopping, model_checkpoint])"
      ]
    },
    {
      "cell_type": "code",
      "execution_count": 110,
      "metadata": {
        "id": "pWXg59g1PxJP"
      },
      "outputs": [],
      "source": [
        "train_loss = history.history['loss']\n",
        "val_loss = history.history['val_loss']\n",
        "epochs = range(1, len(train_loss) + 1)\n"
      ]
    },
    {
      "cell_type": "code",
      "execution_count": 111,
      "metadata": {
        "id": "ulGlU7p9PzSm",
        "colab": {
          "base_uri": "https://localhost:8080/",
          "height": 564
        },
        "outputId": "1d931dec-cf30-45d0-a150-290bf780c400"
      },
      "outputs": [
        {
          "output_type": "display_data",
          "data": {
            "text/plain": [
              "<Figure size 1000x600 with 1 Axes>"
            ],
            "image/png": "[encoded data removed]"
          },
          "metadata": {}
        }
      ],
      "source": [
        "import matplotlib.pyplot as plt\n",
        "\n",
        "# Plotting\n",
        "plt.figure(figsize=(10, 6))\n",
        "plt.plot(range(len(train_loss)), train_loss, label='Train')\n",
        "plt.plot(range(len(val_loss)), val_loss, label='Valid')\n",
        "plt.title('Training and Validation Loss')\n",
        "plt.xlabel('Epochs')\n",
        "plt.ylabel('Loss')\n",
        "plt.legend()\n",
        "plt.show()\n"
      ]
    },
    {
      "cell_type": "code",
      "execution_count": 112,
      "metadata": {
        "id": "NRn0XwPH51WE",
        "colab": {
          "base_uri": "https://localhost:8080/",
          "height": 504
        },
        "outputId": "ab1f6401-c5e2-470f-8734-219bdecc97ff"
      },
      "outputs": [
        {
          "output_type": "execute_result",
          "data": {
            "text/plain": [
              "<matplotlib.legend.Legend at 0x7f61ae4c67a0>"
            ]
          },
          "metadata": {},
          "execution_count": 112
        },
        {
          "output_type": "display_data",
          "data": {
            "text/plain": [
              "<Figure size 1000x500 with 1 Axes>"
            ],
            "image/png": "[encoded data removed]"
          },
          "metadata": {}
        }
      ],
      "source": [
        "# Plotting accuracy\n",
        "plt.figure(figsize=(10, 5))\n",
        "plt.subplot(1, 2, 1)\n",
        "plt.plot(epochs, history.history['accuracy'], 'bo-', label='Training Accuracy')\n",
        "plt.plot(epochs, history.history['val_accuracy'], 'ro-', label='Validation Accuracy')\n",
        "plt.title('Training and Validation Accuracy')\n",
        "plt.xlabel('Epochs')\n",
        "plt.ylabel('Accuracy')\n",
        "plt.legend()"
      ]
    },
    {
      "cell_type": "code",
      "execution_count": 113,
      "metadata": {
        "id": "1SA4J0uJgE-G",
        "colab": {
          "base_uri": "https://localhost:8080/"
        },
        "outputId": "879c9350-101b-44c6-ce69-24382e143294"
      },
      "outputs": [
        {
          "output_type": "stream",
          "name": "stderr",
          "text": [
            "WARNING:tensorflow:5 out of the last 12 calls to <function Model.make_predict_function.<locals>.predict_function at 0x7f61c49deef0> triggered tf.function retracing. Tracing is expensive and the excessive number of tracings could be due to (1) creating @tf.function repeatedly in a loop, (2) passing tensors with different shapes, (3) passing Python objects instead of tensors. For (1), please define your @tf.function outside of the loop. For (2), @tf.function has reduce_retracing=True option that can avoid unnecessary retracing. For (3), please refer to https://www.tensorflow.org/guide/function#controlling_retracing and https://www.tensorflow.org/api_docs/python/tf/function for  more details.\n"
          ]
        },
        {
          "output_type": "stream",
          "name": "stdout",
          "text": [
            "1/1 [==============================] - 1s 702ms/step\n",
            "Predicted class: [1]\n"
          ]
        }
      ],
      "source": [
        "import nltk\n",
        "from nltk.tokenize import word_tokenize\n",
        "\n",
        "B = \"Tensions soared as Biden threatened to withhold toy shipments to Israel's sandcastles if they dared storm Rafah. Israeli bigwigs flailed, Erdan wailed about emboldened foes, while Netanyahu flexed with a we'll stand alone video montage. Bidens jab rocked Israels war boat, prompting cries of Not fair! from Likuds Zohar and a Hamas loves Biden diss from Ben Gvir, causing Herzog to roll his eyes. Lapid finger-pointed at Netanyahu, warning of IDF soldier jeopardy, while Michaeli accused the government of turning Israel into a strategic sitting duck.\"\n",
        "A = \"Israeli officials are reeling after US President Joe Biden's declaration that the US would cease some arms shipments if Israel launched a full-scale operation in Rafah. The statement, made in an interview with CNN, ignited criticism from Israeli Ambassador Gilad Erdan, who deemed it potentially emboldening to Israel's enemies. Prime Minister Benjamin Netanyahu responded by affirming Israel's resolve. Biden's stance underscores a shift in US-Israel relations amidst mounting pressure to protect Gazan civilians. Despite pleas to reconsider military plans, Israel has undertaken limited operations. Biden's move has stoked anger among Israeli politicians, exposing deep rifts. Likud Minister Miki Zohar decried forgetting past terror attacks, while Minister of National Security Itamar Ben Gvir's critique prompted President Isaac Herzog's rebuke. \"\n",
        "\n",
        "sentences = tokenizer.tokenize(B.strip())\n",
        "\n",
        "# Clean sentences and tokenize words\n",
        "cleaned_sentences = [clean_reviews(sent).split() for sent in sentences]\n",
        "\n",
        "sequences = tok.texts_to_sequences(cleaned_sentences)\n",
        "\n",
        "import itertools\n",
        "flattened_sequence = list(itertools.chain(*sequences))\n",
        "\n",
        "# Assuming 'max_rev_len' is the length your model expects\n",
        "padded_sequences = pad_sequences([flattened_sequence], maxlen=max_rev_len, padding='post')\n",
        "\n",
        "\n",
        "# Make prediction\n",
        "predictions = model.predict(padded_sequences)\n",
        "predicted_class = (predictions > 0.5).astype(int)  # Assuming a binary classification model\n",
        "print(\"Predicted class:\", predicted_class[0])\n"
      ]
    },
    {
      "cell_type": "code",
      "execution_count": 114,
      "metadata": {
        "id": "BuwP27liZWEc",
        "colab": {
          "base_uri": "https://localhost:8080/"
        },
        "outputId": "471d969d-628d-4b41-f661-a2454bf67cc5"
      },
      "outputs": [
        {
          "output_type": "stream",
          "name": "stdout",
          "text": [
            "1/1 [==============================] - 0s 33ms/step\n",
            "Predicted class: [0]\n"
          ]
        }
      ],
      "source": [
        "import nltk\n",
        "from nltk.tokenize import word_tokenize\n",
        "\n",
        "B = \"Tensions soared as Biden threatened to withhold toy shipments to Israel's sandcastles if they dared storm Rafah. Israeli bigwigs flailed, Erdan wailed about emboldened foes, while Netanyahu flexed with a we'll stand alone video montage. Bidens jab rocked Israels war boat, prompting cries of Not fair! from Likuds Zohar and a Hamas loves Biden diss from Ben Gvir, causing Herzog to roll his eyes. Lapid finger-pointed at Netanyahu, warning of IDF soldier jeopardy, while Michaeli accused the government of turning Israel into a strategic sitting duck.\"\n",
        "A = \"Israeli officials are reeling after US President Joe Biden's declaration that the US would cease some arms shipments if Israel launched a full-scale operation in Rafah. The statement, made in an interview with CNN, ignited criticism from Israeli Ambassador Gilad Erdan, who deemed it potentially emboldening to Israel's enemies. Prime Minister Benjamin Netanyahu responded by affirming Israel's resolve. Biden's stance underscores a shift in US-Israel relations amidst mounting pressure to protect Gazan civilians. Despite pleas to reconsider military plans, Israel has undertaken limited operations. Biden's move has stoked anger among Israeli politicians, exposing deep rifts. Likud Minister Miki Zohar decried forgetting past terror attacks, while Minister of National Security Itamar Ben Gvir's critique prompted President Isaac Herzog's rebuke. \"\n",
        "\n",
        "sentences = tokenizer.tokenize(A.strip())\n",
        "\n",
        "# Clean sentences and tokenize words\n",
        "cleaned_sentences = [clean_reviews(sent).split() for sent in sentences]\n",
        "\n",
        "sequences = tok.texts_to_sequences(cleaned_sentences)\n",
        "\n",
        "flattened_sequence = list(itertools.chain(*sequences))\n",
        "\n",
        "padded_sequences = pad_sequences([flattened_sequence], maxlen=max_rev_len, padding='post')\n",
        "predictions = model.predict(padded_sequences)\n",
        "predicted_class = (predictions > 0.5).astype(int)  # Assuming a binary classification model\n",
        "print(\"Predicted class:\", predicted_class[0])"
      ]
    },
    {
      "cell_type": "code",
      "execution_count": 115,
      "metadata": {
        "id": "fXFINKaoeRRJ"
      },
      "outputs": [],
      "source": [
        "import pickle\n",
        "import joblib\n",
        "\n",
        "# Save the tokenizer\n",
        "with open('tokenizer.pkl', 'wb') as f:\n",
        "    joblib.dump(tok, f)\n"
      ]
    },
    {
      "cell_type": "markdown",
      "metadata": {
        "id": "5778rIfnREot"
      },
      "source": []
    },
    {
      "cell_type": "code",
      "execution_count": 116,
      "metadata": {
        "id": "67u2Rs9uyfCR"
      },
      "outputs": [],
      "source": [
        "import json\n",
        "\n",
        "config = {'max_rev_len': max_rev_len}\n",
        "with open('config.json', 'w') as f:\n",
        "    json.dump(config, f)\n"
      ]
    },
    {
      "cell_type": "code",
      "execution_count": 116,
      "metadata": {
        "id": "gJuyruYd73U6"
      },
      "outputs": [],
      "source": []
    },
    {
      "cell_type": "code",
      "execution_count": 117,
      "metadata": {
        "id": "ECvdzm_GaYU4"
      },
      "outputs": [],
      "source": [
        "import os\n",
        "\n",
        "\n",
        "# Define the base directory within your Google Drive\n",
        "base_dir = '/content/drive/My Drive/LSTMModelFiles'\n",
        "\n",
        "# Create the directory if it does not exist\n",
        "os.makedirs(base_dir, exist_ok=True)\n",
        "\n",
        "tokenizer_path = os.path.join(base_dir, 'tokenizer.pkl')\n",
        "with open(tokenizer_path, 'wb') as f:\n",
        "    joblib.dump(tok, f)\n",
        "\n",
        "model_path = os.path.join(base_dir, 'model.h5')\n",
        "model.save(model_path)\n",
        "\n",
        "config_path = os.path.join(base_dir, 'config.json')\n",
        "with open(config_path, 'w') as f:\n",
        "    json.dump({'max_rev_len': max_rev_len}, f)\n",
        "\n",
        "\n",
        "#to load: with open(tokenizer_path, 'rb') as f:\n",
        "    #tokenizer = pickle.load(f)\n"
      ]
    }
  ],
  "metadata": {
    "accelerator": "GPU",
    "colab": {
      "gpuType": "A100",
      "machine_shape": "hm",
      "provenance": []
    },
    "kernelspec": {
      "display_name": "Python 3",
      "name": "python3"
    },
    "language_info": {
      "name": "python"
    }
  },
  "nbformat": 4,
  "nbformat_minor": 0
}