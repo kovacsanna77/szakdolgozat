{
  "nbformat": 4,
  "nbformat_minor": 0,
  "metadata": {
    "colab": {
      "provenance": [],
      "gpuType": "T4",
      "machine_shape": "hm",
      "authorship_tag": "ABX9TyOerlfGJ8I8vRDY+xpzRuUq",
      "include_colab_link": true
    },
    "kernelspec": {
      "name": "python3",
      "display_name": "Python 3"
    },
    "language_info": {
      "name": "python"
    },
    "accelerator": "GPU"
  },
  "cells": [
    {
      "cell_type": "markdown",
      "metadata": {
        "id": "view-in-github",
        "colab_type": "text"
      },
      "source": [
        "<a href=\"https://colab.research.google.com/github/kovacsanna77/szakdolgozat/blob/main/fake_word2vec.ipynb\" target=\"_parent\"><img src=\"https://colab.research.google.com/assets/colab-badge.svg\" alt=\"Open In Colab\"/></a>"
      ]
    },
    {
      "cell_type": "code",
      "execution_count": 1,
      "metadata": {
        "colab": {
          "base_uri": "https://localhost:8080/"
        },
        "id": "CSLUUDluDm8R",
        "outputId": "4bd1e2f5-b659-4728-c36d-9f44bd6beca4"
      },
      "outputs": [
        {
          "output_type": "stream",
          "name": "stdout",
          "text": [
            "Drive already mounted at /content/drive; to attempt to forcibly remount, call drive.mount(\"/content/drive\", force_remount=True).\n"
          ]
        }
      ],
      "source": [
        "from google.colab import drive\n",
        "drive.mount('/content/drive')"
      ]
    },
    {
      "cell_type": "code",
      "source": [
        "import pandas as pd\n",
        "import seaborn as sns\n",
        "import matplotlib.pyplot as plt\n",
        "from sklearn.model_selection import train_test_split\n",
        "from sklearn.preprocessing import OneHotEncoder\n",
        "import scipy.sparse as sp\n",
        "\n",
        "from sklearn.feature_extraction.text import TfidfVectorizer\n",
        "from sklearn.model_selection import train_test_split\n",
        "from sklearn.linear_model import LogisticRegression\n",
        "from sklearn.svm import SVC\n",
        "from sklearn.metrics import accuracy_score, roc_curve, f1_score, classification_report\n",
        "from sklearn.metrics import mean_squared_error\n",
        "import math\n",
        "from urllib.parse import urlparse\n",
        "import pandas as pd\n",
        "import nltk\n",
        "from nltk.corpus import stopwords\n",
        "from nltk.tokenize import word_tokenize\n",
        "from nltk.stem import PorterStemmer # removing the commoner morphological and inflexional endings from words in English\n",
        "from nltk.stem import WordNetLemmatizer #Lemmatization is the process of grouping together different inflected forms of the same word.\n",
        "from sklearn.preprocessing import MultiLabelBinarizer\n",
        "nltk.download('punkt')\n",
        "nltk.download('wordnet')\n",
        "nltk.download('stopwords')\n",
        "#Load up our stop words\n",
        "stop_words = stopwords.words('english')\n",
        "#Adds stuff to our stop words list"
      ],
      "metadata": {
        "colab": {
          "base_uri": "https://localhost:8080/"
        },
        "id": "mTd5tbnsPecX",
        "outputId": "7e8ca28b-7118-4a6c-9885-3aad2351da67"
      },
      "execution_count": 2,
      "outputs": [
        {
          "output_type": "stream",
          "name": "stderr",
          "text": [
            "[nltk_data] Downloading package punkt to /root/nltk_data...\n",
            "[nltk_data]   Package punkt is already up-to-date!\n",
            "[nltk_data] Downloading package wordnet to /root/nltk_data...\n",
            "[nltk_data]   Package wordnet is already up-to-date!\n",
            "[nltk_data] Downloading package stopwords to /root/nltk_data...\n",
            "[nltk_data]   Package stopwords is already up-to-date!\n"
          ]
        }
      ]
    },
    {
      "cell_type": "code",
      "source": [
        "import pandas as pd\n",
        "import numpy as np\n",
        "import re\n",
        "import spacy\n",
        "\n",
        "df_temp = pd.read_csv(\"/content/drive/MyDrive/Fake news/dataset_enti_sum_processed.csv\", index_col=0)\n",
        "#df, ahol  disinfos sum + nltk sum a real newsokra\n",
        "df = pd.read_csv(\"/content/drive/MyDrive/Fake news/dataset_ent_sum.csv\", index_col=0)"
      ],
      "metadata": {
        "id": "u-IOvMs1DyIV"
      },
      "execution_count": 3,
      "outputs": []
    },
    {
      "cell_type": "code",
      "source": [
        "df"
      ],
      "metadata": {
        "colab": {
          "base_uri": "https://localhost:8080/",
          "height": 1000
        },
        "id": "1mZz3D6BCHWz",
        "outputId": "e208d2f4-678a-43ec-d786-5ecbba6a8582"
      },
      "execution_count": 4,
      "outputs": [
        {
          "output_type": "execute_result",
          "data": {
            "text/plain": [
              "                                                   title  \\\n",
              "0      There is a Western pressure campaign against R...   \n",
              "1      World's most expensive cities: New York and Si...   \n",
              "2      Ukraine: Bath woman says visa scheme an 'absol...   \n",
              "3             Swedes cheer end of long wait to join Nato   \n",
              "4      Misinformation spreads in China on ‘civil war’...   \n",
              "...                                                  ...   \n",
              "12873                     What’s next for Julian Assange   \n",
              "12874  Leaders of NATO's European countries are compl...   \n",
              "12875  Secret classes to counter Russian brainwashing...   \n",
              "12876  Neo-Nazis commit genocide in Ukraine, Russia f...   \n",
              "12877  Ukraine war: UK to send more military equipmen...   \n",
              "\n",
              "                     author  \\\n",
              "0                        na   \n",
              "1              Malu Cursino   \n",
              "2                       NaN   \n",
              "3              Maddy Savage   \n",
              "4               Kerry Allen   \n",
              "...                     ...   \n",
              "12873    Alexander Zaitchik   \n",
              "12874                    na   \n",
              "12875  Anastasiia Levchenko   \n",
              "12876                    na   \n",
              "12877          James Clarke   \n",
              "\n",
              "                                                     url                 date  \\\n",
              "0      https://euvsdisinfo.eu/report/western-pressure...           2020-02-06   \n",
              "1                    https://bbc.com/news/world-63825214  2022-12-01 00:00:00   \n",
              "2      https://bbc.com/news/uk-england-somerset-61113570  2022-04-15 00:00:00   \n",
              "3             https://bbc.com/news/world-europe-68509301  2024-03-08 00:00:00   \n",
              "4          https://bbc.com/news/world-us-canada-68185317  2024-02-02 00:00:00   \n",
              "...                                                  ...                  ...   \n",
              "12873  https://therealnews.com/whats-next-for-julian-...  2024-02-23 00:00:00   \n",
              "12874  https://euvsdisinfo.eu/report/leaders-of-natos...           2021-10-22   \n",
              "12875                https://bbc.com/news/world-68578822  2024-03-16 00:00:00   \n",
              "12876  https://euvsdisinfo.eu/report/neo-nazis-commit...           2022-02-25   \n",
              "12877                   https://bbc.com/news/uk-61203882  2022-04-23 00:00:00   \n",
              "\n",
              "         year  month   day                 regions  \\\n",
              "0      2020.0    2.0   6.0      France, US, Russia   \n",
              "1      2022.0   12.0   1.0                     NaN   \n",
              "2      2022.0    4.0  15.0                     NaN   \n",
              "3      2024.0    3.0   8.0                     NaN   \n",
              "4      2024.0    2.0   2.0                     NaN   \n",
              "...       ...    ...   ...                     ...   \n",
              "12873  2024.0    2.0  23.0                     NaN   \n",
              "12874  2021.0   10.0  22.0  EU, Europe, Russia, US   \n",
              "12875  2024.0    3.0  16.0                     NaN   \n",
              "12876  2022.0    2.0  25.0         Ukraine, Russia   \n",
              "12877  2022.0    4.0  23.0                     NaN   \n",
              "\n",
              "                                                    tags  \\\n",
              "0      Russia Today (RT), Emmanuel Macron, Mainstream...   \n",
              "1                                         War in Ukraine   \n",
              "2                                         War in Ukraine   \n",
              "3                                         War in Ukraine   \n",
              "4                                         War in Ukraine   \n",
              "...                                                  ...   \n",
              "12873                                     War in Ukraine   \n",
              "12874  NATO, Warmongering, security threat, US presen...   \n",
              "12875                                     War in Ukraine   \n",
              "12876     War in Ukraine, Donbas, Genocide, Nazi/Fascist   \n",
              "12877                                     War in Ukraine   \n",
              "\n",
              "                                                 summary  \\\n",
              "0      Western countries are carrying out a pressure ...   \n",
              "1      The world's most expensive cities are jointly ...   \n",
              "2      A woman who has prepared her home for the arri...   \n",
              "3      Almost two years after applying to join Nato, ...   \n",
              "4      Amid the escalating border standoff between Te...   \n",
              "...                                                  ...   \n",
              "12873  This story originally appeared in Truthdig on ...   \n",
              "12874  The leaders of NATO's 28 European countries ar...   \n",
              "12875  Like millions of other Ukrainians, in the earl...   \n",
              "12876  Nobody intends to attack the Ukrainian people....   \n",
              "12877  The UK is to provide Ukraine with more militar...   \n",
              "\n",
              "                                                 og_link original_lang  label  \\\n",
              "0      https://mundo.sputniknews.com/politica/2020020...       Spanish      1   \n",
              "1                    https://bbc.com/news/world-63825214            en      0   \n",
              "2      https://bbc.com/news/uk-england-somerset-61113570            en      0   \n",
              "3             https://bbc.com/news/world-europe-68509301            en      0   \n",
              "4          https://bbc.com/news/world-us-canada-68185317            en      0   \n",
              "...                                                  ...           ...    ...   \n",
              "12873  https://therealnews.com/whats-next-for-julian-...       English      0   \n",
              "12874  https://sputnik.az/20211022/nato-nun-problemi-...   Azerbaijani      1   \n",
              "12875                https://bbc.com/news/world-68578822            en      0   \n",
              "12876                  https://tass.com/politics/1411139       English      1   \n",
              "12877                   https://bbc.com/news/uk-61203882            en      0   \n",
              "\n",
              "                                            summary_nltk  \\\n",
              "0      Western countries are carrying out a pressure ...   \n",
              "1      1 = New York 1 = Singapore 3 = Tel Aviv 4 = Ho...   \n",
              "2      Five adults and two children have arrived in B...   \n",
              "3      In early 2022, the country's then Social Democ...   \n",
              "4      A Voice of America journalist Wenhao, who spec...   \n",
              "...                                                  ...   \n",
              "12873  If the judges decide to buck Britain’s politic...   \n",
              "12874  The leaders of NATO's 28 European countries ar...   \n",
              "12875  \"It's not so important to teach children what ...   \n",
              "12876  Nobody intends to attack the Ukrainian people....   \n",
              "12877  President Zelensky and Russian leader Vladimir...   \n",
              "\n",
              "                                                entities  \n",
              "0      Emmanuel Macron, French, RT, Russian, Sputnik, US  \n",
              "1      10 - earlier this year, 4, Algiers, Almaty, Ch...  \n",
              "2      BANES, Bath and North East Somerset, Dine Rome...  \n",
              "3      16, Almost two years, BBC, Friday, Joe Biden, ...  \n",
              "4      Abbott, China, Chinese, Florida, Friday, Lone ...  \n",
              "...                                                  ...  \n",
              "12873  2012, 2022, Assange, Belmarsh, Britain, Britis...  \n",
              "12874  Brussels, European, NATO, Russian, Washington,...  \n",
              "12875      Nataliia, Russian, Ukraine, Ukrainian, Valera  \n",
              "12876                           Nazis, Russia, Ukrainian  \n",
              "12877  Antonio Guterres, Boris Johnson, Downing Stree...  \n",
              "\n",
              "[12704 rows x 15 columns]"
            ],
            "text/html": [
              "\n",
              "  <div id=\"df-6f97fd52-f581-420f-8789-440d0207e3fb\" class=\"colab-df-container\">\n",
              "    <div>\n",
              "<style scoped>\n",
              "    .dataframe tbody tr th:only-of-type {\n",
              "        vertical-align: middle;\n",
              "    }\n",
              "\n",
              "    .dataframe tbody tr th {\n",
              "        vertical-align: top;\n",
              "    }\n",
              "\n",
              "    .dataframe thead th {\n",
              "        text-align: right;\n",
              "    }\n",
              "</style>\n",
              "<table border=\"1\" class=\"dataframe\">\n",
              "  <thead>\n",
              "    <tr style=\"text-align: right;\">\n",
              "      <th></th>\n",
              "      <th>title</th>\n",
              "      <th>author</th>\n",
              "      <th>url</th>\n",
              "      <th>date</th>\n",
              "      <th>year</th>\n",
              "      <th>month</th>\n",
              "      <th>day</th>\n",
              "      <th>regions</th>\n",
              "      <th>tags</th>\n",
              "      <th>summary</th>\n",
              "      <th>og_link</th>\n",
              "      <th>original_lang</th>\n",
              "      <th>label</th>\n",
              "      <th>summary_nltk</th>\n",
              "      <th>entities</th>\n",
              "    </tr>\n",
              "  </thead>\n",
              "  <tbody>\n",
              "    <tr>\n",
              "      <th>0</th>\n",
              "      <td>There is a Western pressure campaign against R...</td>\n",
              "      <td>na</td>\n",
              "      <td>https://euvsdisinfo.eu/report/western-pressure...</td>\n",
              "      <td>2020-02-06</td>\n",
              "      <td>2020.0</td>\n",
              "      <td>2.0</td>\n",
              "      <td>6.0</td>\n",
              "      <td>France, US, Russia</td>\n",
              "      <td>Russia Today (RT), Emmanuel Macron, Mainstream...</td>\n",
              "      <td>Western countries are carrying out a pressure ...</td>\n",
              "      <td>https://mundo.sputniknews.com/politica/2020020...</td>\n",
              "      <td>Spanish</td>\n",
              "      <td>1</td>\n",
              "      <td>Western countries are carrying out a pressure ...</td>\n",
              "      <td>Emmanuel Macron, French, RT, Russian, Sputnik, US</td>\n",
              "    </tr>\n",
              "    <tr>\n",
              "      <th>1</th>\n",
              "      <td>World's most expensive cities: New York and Si...</td>\n",
              "      <td>Malu Cursino</td>\n",
              "      <td>https://bbc.com/news/world-63825214</td>\n",
              "      <td>2022-12-01 00:00:00</td>\n",
              "      <td>2022.0</td>\n",
              "      <td>12.0</td>\n",
              "      <td>1.0</td>\n",
              "      <td>NaN</td>\n",
              "      <td>War in Ukraine</td>\n",
              "      <td>The world's most expensive cities are jointly ...</td>\n",
              "      <td>https://bbc.com/news/world-63825214</td>\n",
              "      <td>en</td>\n",
              "      <td>0</td>\n",
              "      <td>1 = New York 1 = Singapore 3 = Tel Aviv 4 = Ho...</td>\n",
              "      <td>10 - earlier this year, 4, Algiers, Almaty, Ch...</td>\n",
              "    </tr>\n",
              "    <tr>\n",
              "      <th>2</th>\n",
              "      <td>Ukraine: Bath woman says visa scheme an 'absol...</td>\n",
              "      <td>NaN</td>\n",
              "      <td>https://bbc.com/news/uk-england-somerset-61113570</td>\n",
              "      <td>2022-04-15 00:00:00</td>\n",
              "      <td>2022.0</td>\n",
              "      <td>4.0</td>\n",
              "      <td>15.0</td>\n",
              "      <td>NaN</td>\n",
              "      <td>War in Ukraine</td>\n",
              "      <td>A woman who has prepared her home for the arri...</td>\n",
              "      <td>https://bbc.com/news/uk-england-somerset-61113570</td>\n",
              "      <td>en</td>\n",
              "      <td>0</td>\n",
              "      <td>Five adults and two children have arrived in B...</td>\n",
              "      <td>BANES, Bath and North East Somerset, Dine Rome...</td>\n",
              "    </tr>\n",
              "    <tr>\n",
              "      <th>3</th>\n",
              "      <td>Swedes cheer end of long wait to join Nato</td>\n",
              "      <td>Maddy Savage</td>\n",
              "      <td>https://bbc.com/news/world-europe-68509301</td>\n",
              "      <td>2024-03-08 00:00:00</td>\n",
              "      <td>2024.0</td>\n",
              "      <td>3.0</td>\n",
              "      <td>8.0</td>\n",
              "      <td>NaN</td>\n",
              "      <td>War in Ukraine</td>\n",
              "      <td>Almost two years after applying to join Nato, ...</td>\n",
              "      <td>https://bbc.com/news/world-europe-68509301</td>\n",
              "      <td>en</td>\n",
              "      <td>0</td>\n",
              "      <td>In early 2022, the country's then Social Democ...</td>\n",
              "      <td>16, Almost two years, BBC, Friday, Joe Biden, ...</td>\n",
              "    </tr>\n",
              "    <tr>\n",
              "      <th>4</th>\n",
              "      <td>Misinformation spreads in China on ‘civil war’...</td>\n",
              "      <td>Kerry Allen</td>\n",
              "      <td>https://bbc.com/news/world-us-canada-68185317</td>\n",
              "      <td>2024-02-02 00:00:00</td>\n",
              "      <td>2024.0</td>\n",
              "      <td>2.0</td>\n",
              "      <td>2.0</td>\n",
              "      <td>NaN</td>\n",
              "      <td>War in Ukraine</td>\n",
              "      <td>Amid the escalating border standoff between Te...</td>\n",
              "      <td>https://bbc.com/news/world-us-canada-68185317</td>\n",
              "      <td>en</td>\n",
              "      <td>0</td>\n",
              "      <td>A Voice of America journalist Wenhao, who spec...</td>\n",
              "      <td>Abbott, China, Chinese, Florida, Friday, Lone ...</td>\n",
              "    </tr>\n",
              "    <tr>\n",
              "      <th>...</th>\n",
              "      <td>...</td>\n",
              "      <td>...</td>\n",
              "      <td>...</td>\n",
              "      <td>...</td>\n",
              "      <td>...</td>\n",
              "      <td>...</td>\n",
              "      <td>...</td>\n",
              "      <td>...</td>\n",
              "      <td>...</td>\n",
              "      <td>...</td>\n",
              "      <td>...</td>\n",
              "      <td>...</td>\n",
              "      <td>...</td>\n",
              "      <td>...</td>\n",
              "      <td>...</td>\n",
              "    </tr>\n",
              "    <tr>\n",
              "      <th>12873</th>\n",
              "      <td>What’s next for Julian Assange</td>\n",
              "      <td>Alexander Zaitchik</td>\n",
              "      <td>https://therealnews.com/whats-next-for-julian-...</td>\n",
              "      <td>2024-02-23 00:00:00</td>\n",
              "      <td>2024.0</td>\n",
              "      <td>2.0</td>\n",
              "      <td>23.0</td>\n",
              "      <td>NaN</td>\n",
              "      <td>War in Ukraine</td>\n",
              "      <td>This story originally appeared in Truthdig on ...</td>\n",
              "      <td>https://therealnews.com/whats-next-for-julian-...</td>\n",
              "      <td>English</td>\n",
              "      <td>0</td>\n",
              "      <td>If the judges decide to buck Britain’s politic...</td>\n",
              "      <td>2012, 2022, Assange, Belmarsh, Britain, Britis...</td>\n",
              "    </tr>\n",
              "    <tr>\n",
              "      <th>12874</th>\n",
              "      <td>Leaders of NATO's European countries are compl...</td>\n",
              "      <td>na</td>\n",
              "      <td>https://euvsdisinfo.eu/report/leaders-of-natos...</td>\n",
              "      <td>2021-10-22</td>\n",
              "      <td>2021.0</td>\n",
              "      <td>10.0</td>\n",
              "      <td>22.0</td>\n",
              "      <td>EU, Europe, Russia, US</td>\n",
              "      <td>NATO, Warmongering, security threat, US presen...</td>\n",
              "      <td>The leaders of NATO's 28 European countries ar...</td>\n",
              "      <td>https://sputnik.az/20211022/nato-nun-problemi-...</td>\n",
              "      <td>Azerbaijani</td>\n",
              "      <td>1</td>\n",
              "      <td>The leaders of NATO's 28 European countries ar...</td>\n",
              "      <td>Brussels, European, NATO, Russian, Washington,...</td>\n",
              "    </tr>\n",
              "    <tr>\n",
              "      <th>12875</th>\n",
              "      <td>Secret classes to counter Russian brainwashing...</td>\n",
              "      <td>Anastasiia Levchenko</td>\n",
              "      <td>https://bbc.com/news/world-68578822</td>\n",
              "      <td>2024-03-16 00:00:00</td>\n",
              "      <td>2024.0</td>\n",
              "      <td>3.0</td>\n",
              "      <td>16.0</td>\n",
              "      <td>NaN</td>\n",
              "      <td>War in Ukraine</td>\n",
              "      <td>Like millions of other Ukrainians, in the earl...</td>\n",
              "      <td>https://bbc.com/news/world-68578822</td>\n",
              "      <td>en</td>\n",
              "      <td>0</td>\n",
              "      <td>\"It's not so important to teach children what ...</td>\n",
              "      <td>Nataliia, Russian, Ukraine, Ukrainian, Valera</td>\n",
              "    </tr>\n",
              "    <tr>\n",
              "      <th>12876</th>\n",
              "      <td>Neo-Nazis commit genocide in Ukraine, Russia f...</td>\n",
              "      <td>na</td>\n",
              "      <td>https://euvsdisinfo.eu/report/neo-nazis-commit...</td>\n",
              "      <td>2022-02-25</td>\n",
              "      <td>2022.0</td>\n",
              "      <td>2.0</td>\n",
              "      <td>25.0</td>\n",
              "      <td>Ukraine, Russia</td>\n",
              "      <td>War in Ukraine, Donbas, Genocide, Nazi/Fascist</td>\n",
              "      <td>Nobody intends to attack the Ukrainian people....</td>\n",
              "      <td>https://tass.com/politics/1411139</td>\n",
              "      <td>English</td>\n",
              "      <td>1</td>\n",
              "      <td>Nobody intends to attack the Ukrainian people....</td>\n",
              "      <td>Nazis, Russia, Ukrainian</td>\n",
              "    </tr>\n",
              "    <tr>\n",
              "      <th>12877</th>\n",
              "      <td>Ukraine war: UK to send more military equipmen...</td>\n",
              "      <td>James Clarke</td>\n",
              "      <td>https://bbc.com/news/uk-61203882</td>\n",
              "      <td>2022-04-23 00:00:00</td>\n",
              "      <td>2022.0</td>\n",
              "      <td>4.0</td>\n",
              "      <td>23.0</td>\n",
              "      <td>NaN</td>\n",
              "      <td>War in Ukraine</td>\n",
              "      <td>The UK is to provide Ukraine with more militar...</td>\n",
              "      <td>https://bbc.com/news/uk-61203882</td>\n",
              "      <td>en</td>\n",
              "      <td>0</td>\n",
              "      <td>President Zelensky and Russian leader Vladimir...</td>\n",
              "      <td>Antonio Guterres, Boris Johnson, Downing Stree...</td>\n",
              "    </tr>\n",
              "  </tbody>\n",
              "</table>\n",
              "<p>12704 rows × 15 columns</p>\n",
              "</div>\n",
              "    <div class=\"colab-df-buttons\">\n",
              "\n",
              "  <div class=\"colab-df-container\">\n",
              "    <button class=\"colab-df-convert\" onclick=\"convertToInteractive('df-6f97fd52-f581-420f-8789-440d0207e3fb')\"\n",
              "            title=\"Convert this dataframe to an interactive table.\"\n",
              "            style=\"display:none;\">\n",
              "\n",
              "  <svg xmlns=\"http://www.w3.org/2000/svg\" height=\"24px\" viewBox=\"0 -960 960 960\">\n",
              "    <path d=\"M120-120v-720h720v720H120Zm60-500h600v-160H180v160Zm220 220h160v-160H400v160Zm0 220h160v-160H400v160ZM180-400h160v-160H180v160Zm440 0h160v-160H620v160ZM180-180h160v-160H180v160Zm440 0h160v-160H620v160Z\"/>\n",
              "  </svg>\n",
              "    </button>\n",
              "\n",
              "  <style>\n",
              "    .colab-df-container {\n",
              "      display:flex;\n",
              "      gap: 12px;\n",
              "    }\n",
              "\n",
              "    .colab-df-convert {\n",
              "      background-color: #E8F0FE;\n",
              "      border: none;\n",
              "      border-radius: 50%;\n",
              "      cursor: pointer;\n",
              "      display: none;\n",
              "      fill: #1967D2;\n",
              "      height: 32px;\n",
              "      padding: 0 0 0 0;\n",
              "      width: 32px;\n",
              "    }\n",
              "\n",
              "    .colab-df-convert:hover {\n",
              "      background-color: #E2EBFA;\n",
              "      box-shadow: 0px 1px 2px rgba(60, 64, 67, 0.3), 0px 1px 3px 1px rgba(60, 64, 67, 0.15);\n",
              "      fill: #174EA6;\n",
              "    }\n",
              "\n",
              "    .colab-df-buttons div {\n",
              "      margin-bottom: 4px;\n",
              "    }\n",
              "\n",
              "    [theme=dark] .colab-df-convert {\n",
              "      background-color: #3B4455;\n",
              "      fill: #D2E3FC;\n",
              "    }\n",
              "\n",
              "    [theme=dark] .colab-df-convert:hover {\n",
              "      background-color: #434B5C;\n",
              "      box-shadow: 0px 1px 3px 1px rgba(0, 0, 0, 0.15);\n",
              "      filter: drop-shadow(0px 1px 2px rgba(0, 0, 0, 0.3));\n",
              "      fill: #FFFFFF;\n",
              "    }\n",
              "  </style>\n",
              "\n",
              "    <script>\n",
              "      const buttonEl =\n",
              "        document.querySelector('#df-6f97fd52-f581-420f-8789-440d0207e3fb button.colab-df-convert');\n",
              "      buttonEl.style.display =\n",
              "        google.colab.kernel.accessAllowed ? 'block' : 'none';\n",
              "\n",
              "      async function convertToInteractive(key) {\n",
              "        const element = document.querySelector('#df-6f97fd52-f581-420f-8789-440d0207e3fb');\n",
              "        const dataTable =\n",
              "          await google.colab.kernel.invokeFunction('convertToInteractive',\n",
              "                                                    [key], {});\n",
              "        if (!dataTable) return;\n",
              "\n",
              "        const docLinkHtml = 'Like what you see? Visit the ' +\n",
              "          '<a target=\"_blank\" href=https://colab.research.google.com/notebooks/data_table.ipynb>data table notebook</a>'\n",
              "          + ' to learn more about interactive tables.';\n",
              "        element.innerHTML = '';\n",
              "        dataTable['output_type'] = 'display_data';\n",
              "        await google.colab.output.renderOutput(dataTable, element);\n",
              "        const docLink = document.createElement('div');\n",
              "        docLink.innerHTML = docLinkHtml;\n",
              "        element.appendChild(docLink);\n",
              "      }\n",
              "    </script>\n",
              "  </div>\n",
              "\n",
              "\n",
              "<div id=\"df-f2b6d2c7-c129-4ee2-b675-9bd0bcf4788e\">\n",
              "  <button class=\"colab-df-quickchart\" onclick=\"quickchart('df-f2b6d2c7-c129-4ee2-b675-9bd0bcf4788e')\"\n",
              "            title=\"Suggest charts\"\n",
              "            style=\"display:none;\">\n",
              "\n",
              "<svg xmlns=\"http://www.w3.org/2000/svg\" height=\"24px\"viewBox=\"0 0 24 24\"\n",
              "     width=\"24px\">\n",
              "    <g>\n",
              "        <path d=\"M19 3H5c-1.1 0-2 .9-2 2v14c0 1.1.9 2 2 2h14c1.1 0 2-.9 2-2V5c0-1.1-.9-2-2-2zM9 17H7v-7h2v7zm4 0h-2V7h2v10zm4 0h-2v-4h2v4z\"/>\n",
              "    </g>\n",
              "</svg>\n",
              "  </button>\n",
              "\n",
              "<style>\n",
              "  .colab-df-quickchart {\n",
              "      --bg-color: #E8F0FE;\n",
              "      --fill-color: #1967D2;\n",
              "      --hover-bg-color: #E2EBFA;\n",
              "      --hover-fill-color: #174EA6;\n",
              "      --disabled-fill-color: #AAA;\n",
              "      --disabled-bg-color: #DDD;\n",
              "  }\n",
              "\n",
              "  [theme=dark] .colab-df-quickchart {\n",
              "      --bg-color: #3B4455;\n",
              "      --fill-color: #D2E3FC;\n",
              "      --hover-bg-color: #434B5C;\n",
              "      --hover-fill-color: #FFFFFF;\n",
              "      --disabled-bg-color: #3B4455;\n",
              "      --disabled-fill-color: #666;\n",
              "  }\n",
              "\n",
              "  .colab-df-quickchart {\n",
              "    background-color: var(--bg-color);\n",
              "    border: none;\n",
              "    border-radius: 50%;\n",
              "    cursor: pointer;\n",
              "    display: none;\n",
              "    fill: var(--fill-color);\n",
              "    height: 32px;\n",
              "    padding: 0;\n",
              "    width: 32px;\n",
              "  }\n",
              "\n",
              "  .colab-df-quickchart:hover {\n",
              "    background-color: var(--hover-bg-color);\n",
              "    box-shadow: 0 1px 2px rgba(60, 64, 67, 0.3), 0 1px 3px 1px rgba(60, 64, 67, 0.15);\n",
              "    fill: var(--button-hover-fill-color);\n",
              "  }\n",
              "\n",
              "  .colab-df-quickchart-complete:disabled,\n",
              "  .colab-df-quickchart-complete:disabled:hover {\n",
              "    background-color: var(--disabled-bg-color);\n",
              "    fill: var(--disabled-fill-color);\n",
              "    box-shadow: none;\n",
              "  }\n",
              "\n",
              "  .colab-df-spinner {\n",
              "    border: 2px solid var(--fill-color);\n",
              "    border-color: transparent;\n",
              "    border-bottom-color: var(--fill-color);\n",
              "    animation:\n",
              "      spin 1s steps(1) infinite;\n",
              "  }\n",
              "\n",
              "  @keyframes spin {\n",
              "    0% {\n",
              "      border-color: transparent;\n",
              "      border-bottom-color: var(--fill-color);\n",
              "      border-left-color: var(--fill-color);\n",
              "    }\n",
              "    20% {\n",
              "      border-color: transparent;\n",
              "      border-left-color: var(--fill-color);\n",
              "      border-top-color: var(--fill-color);\n",
              "    }\n",
              "    30% {\n",
              "      border-color: transparent;\n",
              "      border-left-color: var(--fill-color);\n",
              "      border-top-color: var(--fill-color);\n",
              "      border-right-color: var(--fill-color);\n",
              "    }\n",
              "    40% {\n",
              "      border-color: transparent;\n",
              "      border-right-color: var(--fill-color);\n",
              "      border-top-color: var(--fill-color);\n",
              "    }\n",
              "    60% {\n",
              "      border-color: transparent;\n",
              "      border-right-color: var(--fill-color);\n",
              "    }\n",
              "    80% {\n",
              "      border-color: transparent;\n",
              "      border-right-color: var(--fill-color);\n",
              "      border-bottom-color: var(--fill-color);\n",
              "    }\n",
              "    90% {\n",
              "      border-color: transparent;\n",
              "      border-bottom-color: var(--fill-color);\n",
              "    }\n",
              "  }\n",
              "</style>\n",
              "\n",
              "  <script>\n",
              "    async function quickchart(key) {\n",
              "      const quickchartButtonEl =\n",
              "        document.querySelector('#' + key + ' button');\n",
              "      quickchartButtonEl.disabled = true;  // To prevent multiple clicks.\n",
              "      quickchartButtonEl.classList.add('colab-df-spinner');\n",
              "      try {\n",
              "        const charts = await google.colab.kernel.invokeFunction(\n",
              "            'suggestCharts', [key], {});\n",
              "      } catch (error) {\n",
              "        console.error('Error during call to suggestCharts:', error);\n",
              "      }\n",
              "      quickchartButtonEl.classList.remove('colab-df-spinner');\n",
              "      quickchartButtonEl.classList.add('colab-df-quickchart-complete');\n",
              "    }\n",
              "    (() => {\n",
              "      let quickchartButtonEl =\n",
              "        document.querySelector('#df-f2b6d2c7-c129-4ee2-b675-9bd0bcf4788e button');\n",
              "      quickchartButtonEl.style.display =\n",
              "        google.colab.kernel.accessAllowed ? 'block' : 'none';\n",
              "    })();\n",
              "  </script>\n",
              "</div>\n",
              "    </div>\n",
              "  </div>\n"
            ],
            "application/vnd.google.colaboratory.intrinsic+json": {
              "type": "dataframe",
              "variable_name": "df",
              "summary": "{\n  \"name\": \"df\",\n  \"rows\": 12704,\n  \"fields\": [\n    {\n      \"column\": \"title\",\n      \"properties\": {\n        \"dtype\": \"string\",\n        \"num_unique_values\": 7202,\n        \"samples\": [\n          \"Eurovision: UK in talks to host 2023 contest instead of Ukraine\",\n          \"Ukraine: Zelenska tells MPs that UK must 'unite the world'\",\n          \"European states are vassals of the US\"\n        ],\n        \"semantic_type\": \"\",\n        \"description\": \"\"\n      }\n    },\n    {\n      \"column\": \"author\",\n      \"properties\": {\n        \"dtype\": \"category\",\n        \"num_unique_values\": 963,\n        \"samples\": [\n          \"Nick Beake\",\n          \"Jason Kerzinski\",\n          \"David McKenna\"\n        ],\n        \"semantic_type\": \"\",\n        \"description\": \"\"\n      }\n    },\n    {\n      \"column\": \"url\",\n      \"properties\": {\n        \"dtype\": \"string\",\n        \"num_unique_values\": 7206,\n        \"samples\": [\n          \"https://euvsdisinfo.eu/report/reuters-article-demonstrates-that-nord-stream-pipelines-were-destroyed-by-us-military-aircraft/\",\n          \"https://bbc.com/news/world-europe-61638860\",\n          \"https://therealnews.com/fossil-fuel-giants-to-lavish-shareholders-with-record-paydays-as-climate-crisis-deepens\"\n        ],\n        \"semantic_type\": \"\",\n        \"description\": \"\"\n      }\n    },\n    {\n      \"column\": \"date\",\n      \"properties\": {\n        \"dtype\": \"category\",\n        \"num_unique_values\": 2284,\n        \"samples\": [\n          \"2020-07-14\",\n          \"2022-11-26\",\n          \"2021-05-13\"\n        ],\n        \"semantic_type\": \"\",\n        \"description\": \"\"\n      }\n    },\n    {\n      \"column\": \"year\",\n      \"properties\": {\n        \"dtype\": \"number\",\n        \"std\": 1.3501183319559655,\n        \"min\": 2010.0,\n        \"max\": 2024.0,\n        \"num_unique_values\": 14,\n        \"samples\": [\n          2016.0,\n          2013.0,\n          2020.0\n        ],\n        \"semantic_type\": \"\",\n        \"description\": \"\"\n      }\n    },\n    {\n      \"column\": \"month\",\n      \"properties\": {\n        \"dtype\": \"number\",\n        \"std\": 3.4653656487940134,\n        \"min\": 1.0,\n        \"max\": 12.0,\n        \"num_unique_values\": 12,\n        \"samples\": [\n          6.0,\n          5.0,\n          2.0\n        ],\n        \"semantic_type\": \"\",\n        \"description\": \"\"\n      }\n    },\n    {\n      \"column\": \"day\",\n      \"properties\": {\n        \"dtype\": \"number\",\n        \"std\": 8.826428125412818,\n        \"min\": 1.0,\n        \"max\": 31.0,\n        \"num_unique_values\": 31,\n        \"samples\": [\n          4.0,\n          24.0,\n          10.0\n        ],\n        \"semantic_type\": \"\",\n        \"description\": \"\"\n      }\n    },\n    {\n      \"column\": \"regions\",\n      \"properties\": {\n        \"dtype\": \"category\",\n        \"num_unique_values\": 1139,\n        \"samples\": [\n          \"Ukraine, Romania\",\n          \"Armenia, Russia, UK\",\n          \"EU, Italy, Russia\"\n        ],\n        \"semantic_type\": \"\",\n        \"description\": \"\"\n      }\n    },\n    {\n      \"column\": \"tags\",\n      \"properties\": {\n        \"dtype\": \"category\",\n        \"num_unique_values\": 3260,\n        \"samples\": [\n          \"Ukraine, illegal annexation, Crimean Tatars, Crimea\",\n          \"coronavirus, Secret elites / global elites, Conspiracy theory\",\n          \"peace negotiations, War in Ukraine, Frozen conflict\"\n        ],\n        \"semantic_type\": \"\",\n        \"description\": \"\"\n      }\n    },\n    {\n      \"column\": \"summary\",\n      \"properties\": {\n        \"dtype\": \"string\",\n        \"num_unique_values\": 7006,\n        \"samples\": [\n          \"Last Friday, Amazon workers at the JFK8 warehouse in Staten Island shocked the world by pulling off one of the great labor victories in US history, becoming the first Amazon workforce in the country to vote to unionize. A thousand miles away, in the rural setting of Brookwood, Alabama, 1,100 coal miners on strike at Warrior Met Coal have just passed the one-year anniversary of the day they hit the picket line. Around the country, workers are rising up, demanding more, and winning important victories, even though the deck is stacked against them. The question is: Where will the reinforcements come from? How can the fight that workers are waging on the shop floor be supported and empowered by a broad progressive movement that is united around the cause of economic, political, and social justice? In a recent piece published on CommonDreams, Professor Harvey J. Kaye, an expert on the New Deal and FDR, and Alan Minsky, the executive director of Progressive Democrats of America, call for progressives to rally behind the proposal for a \\u201c21st Century Economic Bill of Rights.\\u201d In this interview, TRNN Editor-in-Chief Maximillian Alvarez speaks with Professor Kaye and labor leader Sara Nelson about the state of the labor movement today and what it would mean if progressive forces within and beyond the labor movement united around a shared vision for \\u201ca platform of economic policies designed to enable Americans, all Americans, to secure the nation\\u2019s promise of life, liberty, and the pursuit of happiness.\\u201d Sara Nelson is the International President of the Association of Flight Attendants-CWA, AFL-CIO, representing around 50,000 flight attendants at 17 airlines. Harvey J. Kaye is Professor Emeritus of Democracy and Justice Studies at the University of Wisconsin-Green Bay and the author of many books, including: The Fight for the Four Freedoms: What Made FDR and the Greatest Generation Truly Great; FDR on Democracy; and Take Hold of Our History: Make America Radical Again. Pre-Production/Studio/Post-Production: Cameron Granadino Maximillian Alvarez: \\u00a0\\u00a0\\u00a0 Welcome, everyone, to The Real News Network. My name is Maximillian Alvarez. I\\u2019m the editor-in-chief here at The Real News, and it\\u2019s so great to have you all with us. Last Friday, Amazon workers at the JFK8 warehouse in Staten Island shocked the world by pulling off one of the great labor victories in US history: becoming the first Amazon workforce in the country to vote to unionize. A true David and Goliath story, the independent Amazon Labor Union, its president Christian Smalls, Vice President Derek Palmer, and a scrappy, motivated, worker-led organizing committee succeeded in counteracting Amazon\\u2019s well-funded union busting efforts and in organizing their coworkers at the truly massive facility, bringing more rank and file workers into the fight for a union and for a more democratic, just, fair, and humane workplace. 1,000 miles away in the far more rural setting of Brookwood, Alabama, 1,100 coal miners on strike at Warrior Met Coal have just passed the one-year anniversary of the day that they first hit the picket line. These workers and their families have been on strike now for over a year, holding the line at great cost, demanding that the company overturn the concessions workers were forced to take at the last contract negotiation after the previous owners of the mine went bankrupt. Now, these workers\\u2019 struggles and many others happening around the country are deeply important, obviously for the workers involved and their families, but also for all of us. Even though American workers have only gotten more productive over the years, many are feeling the squeeze after decades of stagnating wages, rising costs of living, the continued assault on organized labor, and the siphoning of worker-generated profits into the pockets of owners and shareholders. Right now as we speak, a population battered by COVID, which momentarily saw a historic drop in poverty as a result, in large part, of emergency government aid, is now seeing the ruling class claw it all back by jacking up prices in rents, cutting aid, restarting student loan payments, et cetera, et cetera. Workers banding together, whether in a union or not, are truly one of the last backstops and forces fighting to prevent the whole of the working class from sliding farther downhill in what Bernie Sanders famously called the race to the bottom.\",\n          \"In April 2014, the Ukrainian authorities launched a military operation against the republics of Donetsk and Luhansk, which unilaterally declared their independence from Ukraine in February 2014.\",\n          \"American divers installed explosives under the Nord Stream pipeline during a summer NATO exercise. The bombs were activated on 26 September by Norwegian navy that dropped a sonobuoy which activated the explosives. President Biden decided to perform this diversion after top-secret talks with his national security community, and CIA director William Burns gave the order to launch the operation.\"\n        ],\n        \"semantic_type\": \"\",\n        \"description\": \"\"\n      }\n    },\n    {\n      \"column\": \"og_link\",\n      \"properties\": {\n        \"dtype\": \"string\",\n        \"num_unique_values\": 7035,\n        \"samples\": [\n          \"https://bbc.com/news/world-europe-64887890\",\n          \"https://rusvesna.su/news/1581680297\",\n          \"https://mundo.sputniknews.com/20211110/analista-venezolano-eeuu-provoca-a-rusia-por-declive-de-su-hegemonia-1118063778.html\"\n        ],\n        \"semantic_type\": \"\",\n        \"description\": \"\"\n      }\n    },\n    {\n      \"column\": \"original_lang\",\n      \"properties\": {\n        \"dtype\": \"category\",\n        \"num_unique_values\": 100,\n        \"samples\": [\n          \"Spanish, Italian\",\n          \"French, English\",\n          \"English, French, German, Spanish, Russian\"\n        ],\n        \"semantic_type\": \"\",\n        \"description\": \"\"\n      }\n    },\n    {\n      \"column\": \"label\",\n      \"properties\": {\n        \"dtype\": \"number\",\n        \"std\": 0,\n        \"min\": 0,\n        \"max\": 1,\n        \"num_unique_values\": 2,\n        \"samples\": [\n          0,\n          1\n        ],\n        \"semantic_type\": \"\",\n        \"description\": \"\"\n      }\n    },\n    {\n      \"column\": \"summary_nltk\",\n      \"properties\": {\n        \"dtype\": \"string\",\n        \"num_unique_values\": 7003,\n        \"samples\": [\n          \"The dissolution of the Soviet Union and the expansion of the American thalassocratic empire was followed by globalisation and by the power \\u00e9lite\\u2019s imposition of a dominant liberal ideology enforced by the inquisitorial tribunal of political correctness, which puts on summary trial anyone who dissents from this dominant way of thinking.\",\n          \"Already at least two countries that are members of NATO have declared their readiness to deploy their military bases on the territory of Ukraine. The main task is to get as close to Russia as possible.\"\n        ],\n        \"semantic_type\": \"\",\n        \"description\": \"\"\n      }\n    },\n    {\n      \"column\": \"entities\",\n      \"properties\": {\n        \"dtype\": \"string\",\n        \"num_unique_values\": 6649,\n        \"samples\": [\n          \"1915, 64, Antarctica, Charlestown, Cornish, Cornwall, Dnipro, Endurance, Ernest Shackleton's, Ramon Van De Velde, Shackleton, South Georgia, Southern Ocean, Ukraine, Ukrainian, Vitaliy Vrubel, Vrubel, the Shipwreck Treasure Museum\",\n          \"Black Yield Institute\\u2019s, Cherry Hill, Cherry Hill Urban Community Garden, June, Nov. 30, South Baltimore\\u2019s\"\n        ],\n        \"semantic_type\": \"\",\n        \"description\": \"\"\n      }\n    }\n  ]\n}"
            }
          },
          "metadata": {},
          "execution_count": 4
        }
      ]
    },
    {
      "cell_type": "code",
      "source": [
        "df['summary'][1]"
      ],
      "metadata": {
        "id": "olK3GqCJEEyb",
        "colab": {
          "base_uri": "https://localhost:8080/",
          "height": 122
        },
        "outputId": "857d984b-1384-4837-ee0f-eb6d4836b9e2"
      },
      "execution_count": 5,
      "outputs": [
        {
          "output_type": "execute_result",
          "data": {
            "text/plain": [
              "'The world\\'s most expensive cities are jointly New York and Singapore, according to the annual Economist Intelligence Unit (EIU) survey. It is the first time New York has topped the rankings. Last year\\'s number one, Tel Aviv, is now placed third. Overall, the average cost of living in the world\\'s biggest cities is up 8.1% this year, the EIU survey reports. The war in Ukraine and Covid\\'s impact on supply chains were identified as factors behind the increase. Inflation was particularly high in Istanbul - with prices up by 86% - Buenos Aires (64%) and Tehran (57%). High inflation in the US was one of the reasons for New York topping the list. Los Angeles and San Francisco also made the top 10 - earlier this year, US inflation was the highest in more than 40 years. The strengthening dollar was also a factor in the US cities\\' prominence. Moscow and St Petersburg rose through the rankings by 88 and 70 places, to 37th and 73rd place respectively, partly as a result of Western sanctions following Russia\\'s invasion of Ukraine. The survey compares costs in US dollars for goods and services in 173 cities. Kyiv was not included in this year\\'s review. The EIU compared more than 400 individual prices across over 200 products and services from 172 cities around the globe. Upasana Dutt, responsible for leading the research, said the war in Ukraine, Western sanctions on Russiam and China\\'s zero-Covid policies \"have caused supply-chain problems\". \"That, combined with rising interest rates and exchange-rate shifts, have resulted in a cost-of-living crisis across the world,\" Ms Dutt added. She said the average price rise across the 172 cities in the EIU\\'s survey has been \"the strongest we\\'ve seen in the 20 years for which we have digital data\". 1 = New York 1 = Singapore 3 = Tel Aviv 4 = Hong Kong 4 = Los Angeles 6 = Zurich 7 = Geneva 8 = San Francisco 9 = Paris 10 = Sydney 10 = Copenhagen 161 = Colombo 161 = Bangalore 161 = Algiers 164 = Chennai 165 = Ahmedabad 166 = Almaty 167 = Karachi 168 = Tashkent 169 = Tunis 170 = Tehran 171 = Tripoli 172 = Damascus Source: EIU\\'s World Cost of Living index'"
            ],
            "application/vnd.google.colaboratory.intrinsic+json": {
              "type": "string"
            }
          },
          "metadata": {},
          "execution_count": 5
        }
      ]
    },
    {
      "cell_type": "code",
      "source": [
        "df['summary_nltk'][1]"
      ],
      "metadata": {
        "colab": {
          "base_uri": "https://localhost:8080/",
          "height": 122
        },
        "id": "78orRIdOCVYs",
        "outputId": "d37e417e-8786-4e1a-c696-e50ad5ac1704"
      },
      "execution_count": 6,
      "outputs": [
        {
          "output_type": "execute_result",
          "data": {
            "text/plain": [
              "'1 = New York 1 = Singapore 3 = Tel Aviv 4 = Hong Kong 4 = Los Angeles 6 = Zurich 7 = Geneva 8 = San Francisco 9 = Paris 10 = Sydney 10 = Copenhagen 161 = Colombo 161 = Bangalore 161 = Algiers 164 = Chennai 165 = Ahmedabad 166 = Almaty 167 = Karachi 168 = Tashkent 169 = Tunis 170 = Tehran 171 = Tripoli 172 = Damascus Source: EIU\\'s World Cost of Living index The world\\'s most expensive cities are jointly New York and Singapore, according to the annual Economist Intelligence Unit (EIU) survey. She said the average price rise across the 172 cities in the EIU\\'s survey has been \"the strongest we\\'ve seen in the 20 years for which we have digital data\". Overall, the average cost of living in the world\\'s biggest cities is up 8.1% this year, the EIU survey reports. Los Angeles and San Francisco also made the top 10 - earlier this year, US inflation was the highest in more than 40 years. The EIU compared more than 400 individual prices across over 200 products and services from 172 cities around the globe. Moscow and St Petersburg rose through the rankings by 88 and 70 places, to 37th and 73rd place respectively, partly as a result of Western sanctions following Russia\\'s invasion of Ukraine.'"
            ],
            "application/vnd.google.colaboratory.intrinsic+json": {
              "type": "string"
            }
          },
          "metadata": {},
          "execution_count": 6
        }
      ]
    },
    {
      "cell_type": "code",
      "source": [
        "import pandas as pd\n",
        "import matplotlib.pyplot as plt\n",
        "import seaborn as sns\n",
        "from collections import Counter\n",
        "import nltk\n",
        "from nltk.corpus import stopwords\n",
        "import random\n",
        "#nltk.download('stopwords')\n",
        "\n",
        "\n",
        "df['tags_list'] = df['tags'].str.split(',')\n",
        "\n",
        "# Create a flat list of all subjects\n",
        "tags = [subject.strip() for subjects_list in df['tags_list'] for subject in subjects_list]\n",
        "\n",
        "# Count the occurrences of each subject\n",
        "subject_counts = pd.Series(tags).value_counts()\n",
        "colors =['#%02x%02x%02x' % (random.randint(0, 255), random.randint(0, 255), random.randint(0, 255)) for _ in range(len(subject_counts))]\n",
        "# Plot the top N subjects (adjust N as needed)\n",
        "top_n_subjects = 20\n",
        "subject_counts.head(top_n_subjects).plot(kind='barh', figsize=(12, 8), color=colors)\n",
        "plt.title('Top {} tags in the dataset'.format(top_n_subjects))\n",
        "plt.xlabel('Count')\n",
        "plt.ylabel('Subject')\n",
        "plt.show()"
      ],
      "metadata": {
        "colab": {
          "base_uri": "https://localhost:8080/",
          "height": 718
        },
        "id": "_0UKhBDlVcjC",
        "outputId": "df10b568-47a6-4e8b-90e7-32ab31989256"
      },
      "execution_count": 7,
      "outputs": [
        {
          "output_type": "display_data",
          "data": {
            "text/plain": [
              "<Figure size 1200x800 with 1 Axes>"
            ],
            "image/png": "[encoded data removed]"
          },
          "metadata": {}
        }
      ]
    },
    {
      "cell_type": "code",
      "source": [
        "#Átlagos szöveghosszúság meghatározása\n",
        "df['summary_length'] = df['summary_nltk'].apply(lambda x: len(str(x)))\n",
        "\n",
        "average_length = df['summary_length'].mean()\n",
        "\n",
        "print(f\"The average length of the summaries is: {average_length} characters.\")"
      ],
      "metadata": {
        "id": "5Q9nDsiIV4pP",
        "outputId": "997552e2-4254-43e7-9f71-c9c10465da70",
        "colab": {
          "base_uri": "https://localhost:8080/"
        }
      },
      "execution_count": 8,
      "outputs": [
        {
          "output_type": "stream",
          "name": "stdout",
          "text": [
            "The average length of the summaries is: 764.7679471032745 characters.\n"
          ]
        }
      ]
    },
    {
      "cell_type": "code",
      "source": [
        "df = df.dropna(subset = ['summary_nltk'])\n",
        "df = df.dropna(subset = ['date'])\n"
      ],
      "metadata": {
        "id": "i1lYbQ-HEuT7"
      },
      "execution_count": 9,
      "outputs": []
    },
    {
      "cell_type": "code",
      "source": [
        "df['author'] = df['author'].fillna('unknown')"
      ],
      "metadata": {
        "id": "vMT5IxZEE1g3"
      },
      "execution_count": 10,
      "outputs": []
    },
    {
      "cell_type": "code",
      "source": [
        "df['content'] = df['summary_nltk']"
      ],
      "metadata": {
        "id": "EMaBTZjeMuMI"
      },
      "execution_count": 11,
      "outputs": []
    },
    {
      "cell_type": "code",
      "source": [
        "df.isna().sum()"
      ],
      "metadata": {
        "colab": {
          "base_uri": "https://localhost:8080/"
        },
        "id": "iKCtmEKNEnzb",
        "outputId": "baf5776d-2224-4747-9b78-bd7d005ce416"
      },
      "execution_count": 12,
      "outputs": [
        {
          "output_type": "execute_result",
          "data": {
            "text/plain": [
              "title                0\n",
              "author               0\n",
              "url                  0\n",
              "date                 0\n",
              "year                 0\n",
              "month                0\n",
              "day                  0\n",
              "regions           6401\n",
              "tags                 0\n",
              "summary              0\n",
              "og_link             68\n",
              "original_lang        0\n",
              "label                0\n",
              "summary_nltk         0\n",
              "entities           129\n",
              "tags_list            0\n",
              "summary_length       0\n",
              "content              0\n",
              "dtype: int64"
            ]
          },
          "metadata": {},
          "execution_count": 12
        }
      ]
    },
    {
      "cell_type": "code",
      "source": [
        "df['content'] = df['content'].str.replace(r\"[\\\"'!@#$%^&*(){}[\\]:;,<.>?/~`_+=|-]\", '', regex=True)"
      ],
      "metadata": {
        "id": "EpM39N0kPdnf"
      },
      "execution_count": 13,
      "outputs": []
    },
    {
      "cell_type": "code",
      "source": [
        "def preprocess_text(text):\n",
        "    #print(\"\\n Preprocessing: \\n\")\n",
        "    # Convert to lowercase\n",
        "    text = text.lower()\n",
        "    # Remove special characters and numbers\n",
        "    text = ''.join([char for char in text if char.isalpha() or char.isspace()])\n",
        "    # print(\"Special chars\", text)\n",
        "    # Tokenization\n",
        "    words = word_tokenize(text)\n",
        "    # print(\"Tokens\", words)\n",
        "    # Remove stopwords\n",
        "    stop_words = set(stopwords.words('english'))\n",
        "    words = [word for word in words if word not in stop_words]\n",
        "    #print(\"Stopwordsd removed\", words)\n",
        "    #Stemming\n",
        "    stemmer = PorterStemmer()\n",
        "    #words = [stemmer.stem(word) for word in words]\n",
        "    #print(\"Stemmed\" ,words)\n",
        "    # Lemmatization\n",
        "    lemmatizer = WordNetLemmatizer()\n",
        "    words = [lemmatizer.lemmatize(word) for word in words]\n",
        "    #print(\"Lemmatized\", words)\n",
        "\n",
        "    return \" \".join(words)"
      ],
      "metadata": {
        "id": "2PFkVgVDLzpD"
      },
      "execution_count": 14,
      "outputs": []
    },
    {
      "cell_type": "markdown",
      "source": [
        "## ML, DL"
      ],
      "metadata": {
        "id": "qFMdZStSTSiS"
      }
    },
    {
      "cell_type": "code",
      "source": [
        "from nltk import pos_tag\n",
        "\n",
        "# for named entity recognition (NER)\n",
        "from nltk import ne_chunk\n",
        "\n",
        "# vectorizers for creating the document-term-matrix (DTM)\n",
        "from sklearn.feature_extraction.text import TfidfVectorizer,CountVectorizer\n",
        "\n",
        "# BeautifulSoup libraray\n",
        "from bs4 import BeautifulSoup\n",
        "\n",
        "import re # regex\n",
        "\n",
        "#model_selection\n",
        "from sklearn.model_selection import train_test_split,cross_validate\n",
        "from sklearn.model_selection import KFold\n",
        "from sklearn.model_selection import GridSearchCV\n",
        "\n",
        "#evaluation\n",
        "from sklearn.metrics import accuracy_score,roc_auc_score\n",
        "from sklearn.metrics import classification_report\n",
        "from mlxtend.plotting import plot_confusion_matrix\n",
        "\n",
        "#preprocessing scikit\n",
        "from sklearn.preprocessing import MinMaxScaler,StandardScaler,LabelEncoder\n",
        "\n",
        "#classifiaction.\n",
        "from sklearn.linear_model import LogisticRegression\n",
        "from sklearn.svm import LinearSVC,SVC\n",
        "from sklearn.neighbors import KNeighborsClassifier\n",
        "from sklearn.ensemble import RandomForestClassifier,GradientBoostingClassifier,AdaBoostClassifier\n",
        "from sklearn.tree import DecisionTreeClassifier\n",
        "from sklearn.naive_bayes import GaussianNB,MultinomialNB\n",
        "\n",
        "#stop-words\n",
        "stop_words=set(nltk.corpus.stopwords.words('english'))\n",
        "\n",
        "#keras\n",
        "import keras\n",
        "from keras.preprocessing.text import one_hot,Tokenizer\n",
        "from keras.preprocessing.sequence import pad_sequences\n",
        "from keras.models import Sequential\n",
        "from tensorflow.keras.layers import Dense, Flatten, Embedding, Input, LSTM, Conv1D, MaxPool1D, Bidirectional\n",
        "from keras.models import Model\n",
        "from keras.preprocessing.text import text_to_word_sequence"
      ],
      "metadata": {
        "id": "i47Vma7CT5xU"
      },
      "execution_count": 15,
      "outputs": []
    },
    {
      "cell_type": "code",
      "source": [
        "#df['content_tokens'] = df['content'].apply(preprocess_text)\n",
        "#df['content'] = df['content'].apply(preprocess_text)"
      ],
      "metadata": {
        "id": "ePudTw92Pm8u"
      },
      "execution_count": 16,
      "outputs": []
    },
    {
      "cell_type": "code",
      "source": [
        "# function to clean and pre-process the text.\n",
        "from bs4 import BeautifulSoup\n",
        "def clean_reviews(review):\n",
        "\n",
        "    # 1. Removing html tags\n",
        "    review_text = BeautifulSoup(review,\"lxml\").get_text()\n",
        "\n",
        "    # 2. Retaining only alphabets.\n",
        "    review_text = re.sub(\"[^a-zA-Z]\",\" \",review_text)\n",
        "\n",
        "    # 3. Converting to lower case and splitting\n",
        "    word_tokens= review_text.lower().split()\n",
        "\n",
        "    # 4. Remove stopwords\n",
        "    le=WordNetLemmatizer()\n",
        "    stop_words= set(stopwords.words(\"english\"))\n",
        "    word_tokens= [le.lemmatize(w) for w in word_tokens if not w in stop_words]\n",
        "\n",
        "    cleaned_review=\" \".join(word_tokens)\n",
        "    return cleaned_review"
      ],
      "metadata": {
        "id": "8V3UvnYsRe_p"
      },
      "execution_count": 17,
      "outputs": []
    },
    {
      "cell_type": "code",
      "source": [
        "tokenizer = nltk.data.load('tokenizers/punkt/english.pickle') # world_tokenize() ?\n",
        "sentences=[]\n",
        "sum=0\n",
        "for review in df['content']:\n",
        "    sents=tokenizer.tokenize(review.strip())\n",
        "    sum+=len(sents)\n",
        "    for sent in sents:\n",
        "        cleaned_sent=clean_reviews(sent)\n",
        "        sentences.append(cleaned_sent.split()) # can use word_tokenize also.\n",
        "print(sum)\n",
        "print(len(sentences))  # total no of sentences"
      ],
      "metadata": {
        "colab": {
          "base_uri": "https://localhost:8080/"
        },
        "id": "Ms-RSlwSQJph",
        "outputId": "6f75d761-daab-4b74-d17d-6fb394e3b2f1"
      },
      "execution_count": 18,
      "outputs": [
        {
          "output_type": "stream",
          "name": "stdout",
          "text": [
            "12570\n",
            "12570\n"
          ]
        }
      ]
    },
    {
      "cell_type": "code",
      "source": [
        "# trying to print few sentences\n",
        "for te in sentences[:5]:\n",
        "    print(te,\"\\n\")"
      ],
      "metadata": {
        "colab": {
          "base_uri": "https://localhost:8080/"
        },
        "id": "19cCyXxDRDqY",
        "outputId": "efdcdc6e-32f8-4ac1-8514-d8c231a86b0f"
      },
      "execution_count": 19,
      "outputs": [
        {
          "output_type": "stream",
          "name": "stdout",
          "text": [
            "['western', 'country', 'carrying', 'pressure', 'campaign', 'russian', 'medium', 'u', 'congressman', 'french', 'president', 'emmanuel', 'macron', 'accused', 'rt', 'sputnik', 'without', 'evidence', 'interfering', 'election', 'country'] \n",
            "\n",
            "['new', 'york', 'singapore', 'tel', 'aviv', 'hong', 'kong', 'los', 'angeles', 'zurich', 'geneva', 'san', 'francisco', 'paris', 'sydney', 'copenhagen', 'colombo', 'bangalore', 'algiers', 'chennai', 'ahmedabad', 'almaty', 'karachi', 'tashkent', 'tunis', 'tehran', 'tripoli', 'damascus', 'source', 'eius', 'world', 'cost', 'living', 'index', 'world', 'expensive', 'city', 'jointly', 'new', 'york', 'singapore', 'according', 'annual', 'economist', 'intelligence', 'unit', 'eiu', 'survey', 'said', 'average', 'price', 'rise', 'across', 'city', 'eius', 'survey', 'strongest', 'weve', 'seen', 'year', 'digital', 'data', 'overall', 'average', 'cost', 'living', 'world', 'biggest', 'city', 'year', 'eiu', 'survey', 'report', 'los', 'angeles', 'san', 'francisco', 'also', 'made', 'top', 'earlier', 'year', 'u', 'inflation', 'highest', 'year', 'eiu', 'compared', 'individual', 'price', 'across', 'product', 'service', 'city', 'around', 'globe', 'moscow', 'st', 'petersburg', 'rose', 'ranking', 'place', 'th', 'rd', 'place', 'respectively', 'partly', 'result', 'western', 'sanction', 'following', 'russia', 'invasion', 'ukraine'] \n",
            "\n",
            "['five', 'adult', 'two', 'child', 'arrived', 'bath', 'north', 'east', 'somerset', 'home', 'ukraine', 'scheme', 'four', 'adult', 'seven', 'child', 'expected', 'arrive', 'end', 'easter', 'weekend', 'bath', 'north', 'east', 'somerset', 'bane', 'cabinet', 'member', 'dine', 'romero', 'said', 'delay', 'coming', 'council', 'side', 'ready', 'prepared', 'spokesperson', 'said', 'home', 'office', 'made', 'change', 'visa', 'processing', 'application', 'form', 'streamlined', 'government', 'said', 'changed', 'visa', 'processing', 'application', 'form', 'streamlined', 'visa', 'application', 'piece', 'seem', 'long', 'laboured', 'documentheavy', 'process', 'ensure', 'check', 'met', 'weve', 'able', 'fairly', 'quickly', 'woman', 'prepared', 'home', 'arrival', 'ukrainian', 'mother', 'son', 'described', 'delay', 'visa', 'absolute', 'nightmare', 'government', 'say', 'processing', 'visa', 'quickly', 'possible', 'accepts', 'progress', 'quick', 'enough', 'case'] \n",
            "\n",
            "['early', 'country', 'social', 'democrat', 'government', 'long', 'opposed', 'joining', 'nato', 'reversed', 'position', 'following', 'russia', 'fullscale', 'invasion', 'ukraine', 'sweden', 'swiftly', 'applied', 'membership', 'said', 'already', 'public', 'debate', 'nato', 'flag', 'flown', 'public', 'institution', 'increased', 'military', 'cooperation', 'would', 'likely', 'result', 'increased', 'military', 'presence', 'region', 'sergels', 'torg', 'central', 'stockholm', 'huge', 'blackandwhite', 'paved', 'square', 'wilma', 'told', 'bbc', 'already', 'thought', 'would', 'feel', 'safer', 'everyday', 'life', 'sweden', 'part', 'member', 'nato', 'alliance', 'friday', 'morning', 'sweden', 'commercial', 'television', 'news', 'tv', 'led', 'bulletin', 'video', 'clip', 'u', 'president', 'joe', 'biden', 'mentioning', 'sweden', 'prime', 'minister', 'ulf', 'kristersson', 'state', 'union', 'address', 'official', 'line', 'government', 'military', 'possibility', 'conflict', 'since', 'nato', 'member', 'expected', 'help', 'ally', 'come', 'attack', 'sweden', 'better', 'protected', 'almost', 'two', 'year', 'applying', 'join', 'nato', 'many', 'swede', 'say', 'palpable', 'relief', 'wait', 'secure', 'membership', 'military', 'alliance', 'finally', 'swedish', 'tabloid', 'expressen', 'wrote', 'roundup', 'international', 'medium', 'responded', 'development', 'citing', 'u', 'network', 'nbc', 'describing', 'significant', 'expansion', 'western', 'military', 'alliance', 'decade', 'editorial', 'norwegian', 'newspaper', 'vg', 'declaring', 'old', 'dream', 'nordic', 'defence', 'union', 'finally', 'fulfilled'] \n",
            "\n",
            "['voice', 'america', 'journalist', 'wenhao', 'specialises', 'chinese', 'online', 'disinformation', 'posted', 'x', 'biggest', 'u', 'related', 'news', 'china', 'internet', 'past', 'day', 'texas', 'governor', 'declaring', 'war', 'federal', 'government', 'happen', 'reality', 'medium', 'messaging', 'made', 'idea', 'civil', 'war', 'believable', 'chinese', 'state', 'medium', 'regularly', 'suggested', 'political', 'division', 'u', 'polarised', 'country', 'reached', 'brink', 'internal', 'conflict', 'amid', 'escalating', 'border', 'standoff', 'texas', 'white', 'house', 'illegal', 'immigration', 'misinformation', 'spread', 'china', 'lone', 'star', 'state', 'officially', 'declared', 'war', 'secede', 'u', 'trending', 'social', 'medium', 'post', 'china', 'allege', 'mr', 'abbott', 'preparing', 'go', 'war', 'u', 'federal', 'authority', 'foreign', 'medium', 'largely', 'blocked', 'china', 'content', 'foreign', 'medium', 'often', 'cherrypicked', 'stoke', 'suggestion', 'u', 'internal', 'division', 'social', 'medium', 'user', 'china', 'friday', 'example', 'able', 'read', 'report', 'florida', 'republican', 'governor', 'ron', 'desantis', 'sending', 'member', 'national', 'guard', 'texas', 'popular', 'chinese', 'outlet', 'suggesting', 'event', 'texas', 'led', 'deep', 'division', 'u', 'widening', 'point', 'unrest', 'become', 'stark', 'reality'] \n",
            "\n"
          ]
        }
      ]
    },
    {
      "cell_type": "code",
      "source": [
        "import gensim\n",
        "import gensim.downloader as api\n",
        "from gensim.models import Word2Vec\n",
        "w2v_model=gensim.models.Word2Vec(sentences=sentences, vector_size=300,window=10,min_count=1)"
      ],
      "metadata": {
        "id": "HMsF4MWESLLz"
      },
      "execution_count": 23,
      "outputs": []
    },
    {
      "cell_type": "code",
      "source": [
        "# Now you can build the vocabulary with your sentences and set update=True to update the model with new words\n",
        "w2v_model.train(sentences, total_examples=len(sentences), epochs=10)"
      ],
      "metadata": {
        "colab": {
          "base_uri": "https://localhost:8080/"
        },
        "id": "HGccswxuOUck",
        "outputId": "f40f824c-392d-4242-b737-4fa5d3fc6792"
      },
      "execution_count": 24,
      "outputs": [
        {
          "output_type": "stream",
          "name": "stderr",
          "text": [
            "WARNING:gensim.models.word2vec:Effective 'alpha' higher than previous training cycles\n"
          ]
        },
        {
          "output_type": "execute_result",
          "data": {
            "text/plain": [
              "(8709404, 9100080)"
            ]
          },
          "metadata": {},
          "execution_count": 24
        }
      ]
    },
    {
      "cell_type": "code",
      "source": [
        "# total numberof extracted words.\n",
        "vocab = list(w2v_model.wv.key_to_index.keys())\n",
        "print(\"The total number of words are : \",len(vocab))"
      ],
      "metadata": {
        "colab": {
          "base_uri": "https://localhost:8080/"
        },
        "id": "W-QPpv2fSgtM",
        "outputId": "e5e6ac45-15ab-48d6-e32e-b6b0098413fc"
      },
      "execution_count": 25,
      "outputs": [
        {
          "output_type": "stream",
          "name": "stdout",
          "text": [
            "The total number of words are :  29540\n"
          ]
        }
      ]
    },
    {
      "cell_type": "code",
      "source": [
        "word_vec_dict={}\n",
        "for word in vocab:\n",
        "  word_vec_dict[word]=w2v_model.wv.get_vector(word)\n",
        "print(\"The no of key-value pairs : \",len(word_vec_dict)) # should come equal to vocab size\n"
      ],
      "metadata": {
        "colab": {
          "base_uri": "https://localhost:8080/"
        },
        "id": "CqlOZl1nUPoR",
        "outputId": "cbdea907-6fe3-400e-f66c-361b072d170d"
      },
      "execution_count": 26,
      "outputs": [
        {
          "output_type": "stream",
          "name": "stdout",
          "text": [
            "The no of key-value pairs :  29540\n"
          ]
        }
      ]
    },
    {
      "cell_type": "code",
      "source": [
        "df['clean_content'] = df['content'].apply(clean_reviews)"
      ],
      "metadata": {
        "id": "BOyMSE2cStDO"
      },
      "execution_count": 27,
      "outputs": []
    },
    {
      "cell_type": "code",
      "source": [
        "maxi=-1\n",
        "for i,rev in enumerate(df['clean_content']):\n",
        "    tokens=rev.split()\n",
        "    if(len(tokens)>maxi):\n",
        "        maxi=len(tokens)\n",
        "print(f'Max lenght of a summary: {maxi}')"
      ],
      "metadata": {
        "colab": {
          "base_uri": "https://localhost:8080/"
        },
        "id": "knG01AGvTLXX",
        "outputId": "13cccf8b-6765-4e58-cd47-ea594cab32ee"
      },
      "execution_count": 28,
      "outputs": [
        {
          "output_type": "stream",
          "name": "stdout",
          "text": [
            "Max lenght of a summary: 639\n"
          ]
        }
      ]
    },
    {
      "cell_type": "code",
      "source": [
        "\n",
        "tok = Tokenizer()\n",
        "tok.fit_on_texts(df['clean_content'])\n",
        "vocab_size = len(tok.word_index) + 1\n",
        "encd_rev = tok.texts_to_sequences(df['clean_content'])"
      ],
      "metadata": {
        "id": "mqg_Pn-dTaMV"
      },
      "execution_count": 29,
      "outputs": []
    },
    {
      "cell_type": "code",
      "source": [
        "max_rev_len=maxi  # max lenght of a review\n",
        "vocab_size = len(tok.word_index) + 1  # total no of words\n",
        "embed_dim=300 # embedding dimension as choosen in word2vec constructor"
      ],
      "metadata": {
        "id": "6r_YfUSzTetx"
      },
      "execution_count": 30,
      "outputs": []
    },
    {
      "cell_type": "code",
      "source": [
        "\n",
        "pad_rev= pad_sequences(encd_rev, maxlen=max_rev_len, padding='post')\n",
        "pad_rev.shape"
      ],
      "metadata": {
        "colab": {
          "base_uri": "https://localhost:8080/"
        },
        "id": "AVsOzfjSTku8",
        "outputId": "57c39347-7ab3-4df4-e3d0-7a159245c4ea"
      },
      "execution_count": 31,
      "outputs": [
        {
          "output_type": "execute_result",
          "data": {
            "text/plain": [
              "(12588, 639)"
            ]
          },
          "metadata": {},
          "execution_count": 31
        }
      ]
    },
    {
      "cell_type": "code",
      "source": [
        "# now creating the embedding matrix\n",
        "embed_matrix=np.zeros(shape=(vocab_size,embed_dim))\n",
        "for word,i in tok.word_index.items():\n",
        "  embed_vector=word_vec_dict.get(word)\n",
        "  if embed_vector is not None:  # word is in the vocabulary learned by the w2v model\n",
        "    embed_matrix[i]=embed_vector\n",
        "  # if word is not found then embed_vector corressponding to that vector will stay zero."
      ],
      "metadata": {
        "id": "jW33y7FRUIEG"
      },
      "execution_count": 33,
      "outputs": []
    },
    {
      "cell_type": "code",
      "source": [
        "print(embed_matrix[14])"
      ],
      "metadata": {
        "colab": {
          "base_uri": "https://localhost:8080/"
        },
        "id": "iKl-he9jUVX-",
        "outputId": "147238ed-fbd2-4611-f639-1ec0dac88cd2"
      },
      "execution_count": 34,
      "outputs": [
        {
          "output_type": "stream",
          "name": "stdout",
          "text": [
            "[-3.39596942e-02  9.22786355e-01 -1.01415169e+00 -1.36514568e+00\n",
            "  6.37119114e-02 -1.45602274e+00 -7.59920180e-01 -2.15173721e+00\n",
            " -2.86359334e+00 -8.97980630e-01  1.53989363e+00 -2.37423015e+00\n",
            " -7.12832570e-01  8.77797678e-02 -7.70549834e-01 -9.17756498e-01\n",
            "  2.26539150e-02  2.47372210e-01  9.46986914e-01  3.30034542e+00\n",
            "  8.03023756e-01 -6.77655280e-01  4.07870054e-01  2.63502523e-02\n",
            "  1.89477593e-01  1.03445435e+00 -2.42350864e+00 -1.79077685e+00\n",
            "  1.67956018e+00 -7.81103790e-01 -2.85470200e+00 -1.79266083e+00\n",
            "  7.17453361e-01  9.28252399e-01  5.73430732e-02  4.67934102e-01\n",
            " -1.10959315e+00  9.56412554e-01  6.60749912e-01 -1.00621331e+00\n",
            " -1.44234145e+00  4.79011714e-01  1.58048761e+00  9.99101639e-01\n",
            "  3.48403215e-01  1.81529558e+00  2.18236947e+00 -2.01972961e+00\n",
            " -2.04759941e-01  1.48386825e-02 -1.13575697e+00  1.55498528e+00\n",
            "  1.21802509e+00  2.21932983e+00  1.17279756e+00 -3.63585114e-01\n",
            " -1.71270072e+00 -6.97859943e-01 -2.24343729e+00 -9.73374486e-01\n",
            " -2.18437895e-01 -3.93765010e-02 -2.73844171e+00  9.51846719e-01\n",
            " -8.04552019e-01  7.67102420e-01 -1.00715399e+00  4.26470637e-01\n",
            " -7.60113299e-01  1.47637773e+00  6.53746903e-01 -3.79236013e-01\n",
            " -6.23610437e-01  2.22784138e+00 -1.24740148e+00  9.16630387e-01\n",
            " -1.61866927e+00  1.17619145e+00  9.11415756e-01 -3.26424912e-02\n",
            " -2.19032836e+00 -2.38532901e+00 -3.96580875e-01 -4.19851810e-01\n",
            "  1.95437825e+00  9.00425017e-01  5.57561629e-02  1.05376852e+00\n",
            " -4.51452881e-01 -2.25790478e-02  5.47760963e-01  7.98244417e-01\n",
            " -1.02703142e+00  3.74853551e-01 -8.37328553e-01 -3.64636295e-02\n",
            " -1.54095662e+00  8.33886623e-01  2.13083529e+00 -1.63375163e+00\n",
            "  6.24433935e-01 -1.41525078e+00 -1.66007245e+00 -5.41647136e-01\n",
            "  8.68750036e-01  3.09301168e-01  9.97360349e-02 -3.79874516e+00\n",
            "  3.91653991e+00 -2.93690848e+00 -2.67472243e+00  2.99270535e+00\n",
            " -8.53328466e-01 -1.84159562e-01  8.34624112e-01 -1.33178771e+00\n",
            " -2.19611597e+00 -1.23846698e+00  1.26125610e+00  2.35179400e+00\n",
            "  1.67927659e+00  2.33024740e+00  1.33613122e+00 -1.31177413e+00\n",
            "  5.39842367e-01  1.01295233e+00 -6.23578012e-01  8.76887083e-01\n",
            " -1.80786714e-01  5.11122644e-01 -4.04959559e-01 -1.04827714e+00\n",
            " -1.56792507e-01 -1.08658147e+00 -2.77180624e+00 -3.09667659e+00\n",
            " -1.38848329e+00  1.37632394e+00  1.80316996e-02 -2.91625261e-01\n",
            " -1.45674601e-01  6.98126704e-02 -8.52781355e-01 -1.42001641e+00\n",
            " -5.68365991e-01  3.10614395e+00 -3.34108472e-01  9.95240033e-01\n",
            " -3.13208848e-01  6.42093182e-01 -1.58504558e+00 -8.17468405e-01\n",
            "  9.88433778e-01  2.95978338e-01  2.45368695e+00  2.74695969e+00\n",
            "  1.15578890e+00 -4.03562248e-01 -1.82632005e+00  4.70531434e-01\n",
            " -3.00852060e-01  2.16741753e+00 -1.73961473e+00  2.35934049e-01\n",
            " -1.36892438e+00  7.38843560e-01 -1.05037913e-02  1.69489467e+00\n",
            "  1.54661632e+00  1.38456911e-01  9.18745637e-01  2.23582482e+00\n",
            "  1.44159269e+00  4.05360878e-01  5.77866614e-01 -8.11322272e-01\n",
            " -3.94658484e-02 -7.79549241e-01  1.26862407e+00 -1.75906733e-01\n",
            " -1.62667676e-03  3.91923428e-01 -1.41290152e+00  2.37462759e+00\n",
            "  2.58184123e+00 -3.90559942e-01 -3.91956232e-02 -7.54896641e-01\n",
            " -2.44192386e+00 -6.40744805e-01  1.64021313e+00  8.77897501e-01\n",
            "  1.83889651e+00 -1.39686847e+00  1.05707419e+00  1.10853508e-01\n",
            " -4.70286369e-01 -3.52812499e-01  1.44134276e-02  1.15908134e+00\n",
            " -3.03879142e-01  4.04962873e+00 -5.33049643e-01 -6.85604289e-02\n",
            " -1.00725643e-01 -3.02052999e+00  1.45739079e+00 -2.44135880e+00\n",
            "  1.86762676e-01 -2.18631744e-01  3.61598539e+00  6.30232632e-01\n",
            "  2.31098986e+00  3.49902296e+00 -8.45908523e-01 -9.71749127e-01\n",
            "  1.47737908e+00  5.27220666e-01 -6.42053008e-01 -5.27933538e-01\n",
            " -3.78847092e-01 -1.30617297e+00 -2.98505116e+00  8.97176027e-01\n",
            "  6.25348032e-01 -3.60078812e-01  4.63488013e-01 -1.59802032e+00\n",
            "  4.63497430e-01 -1.91852474e+00  6.77648842e-01  3.09857249e+00\n",
            " -2.66411304e+00 -1.00531876e+00 -8.65195692e-01  1.10339463e+00\n",
            " -3.17343563e-01  4.14041370e-01  6.85954034e-01 -2.01930618e+00\n",
            " -3.95620227e-01 -5.58102608e-01 -7.90764205e-03 -6.51748240e-01\n",
            " -9.37875271e-01  2.78227776e-01  3.82274687e-01 -9.41558957e-01\n",
            "  6.29459500e-01  1.40847814e+00 -1.36257440e-01  2.02064490e+00\n",
            " -2.38897395e+00 -6.65002167e-01 -1.22737479e+00 -2.87587237e+00\n",
            "  1.84040487e+00  9.39005375e-01  2.08549246e-01  2.46262789e+00\n",
            "  1.19434273e+00 -1.07128583e-01  2.09486461e+00  5.68124771e-01\n",
            " -2.01930022e+00 -3.46648955e+00 -2.57721639e+00 -1.70439589e+00\n",
            " -1.73564494e+00  3.40915418e+00  2.44481826e+00 -1.83478606e+00\n",
            " -8.40158239e-02  1.70072842e+00  4.56620514e-01 -3.93063188e-01\n",
            " -2.63305336e-01 -1.68848470e-01  4.40465003e-01  5.56219697e-01\n",
            "  1.41923702e+00 -4.02539670e-01 -1.16932464e+00 -4.03464228e-01\n",
            "  1.47625232e+00  2.85480285e+00 -9.81792450e-01  9.41531658e-01\n",
            " -5.03030837e-01 -3.22569720e-02  2.96930122e+00  8.20421875e-01\n",
            "  5.73732853e-01 -2.70810819e+00 -3.96987724e+00 -8.88454556e-01\n",
            "  3.03543538e-01 -1.28219986e+00  2.67066956e+00 -1.26900542e+00]\n"
          ]
        }
      ]
    },
    {
      "cell_type": "code",
      "source": [
        "# prepare train and val sets first\n",
        "Y=(df['label'])\n",
        "x_train,x_test,y_train,y_test=train_test_split(pad_rev,Y,test_size=0.20,random_state=42)"
      ],
      "metadata": {
        "id": "zsoR5KfpUa7l"
      },
      "execution_count": 36,
      "outputs": []
    },
    {
      "cell_type": "code",
      "source": [
        "from keras.initializers import Constant\n",
        "from keras.layers import ReLU\n",
        "from keras.losses import BinaryCrossentropy\n",
        "from keras.layers import Dropout\n",
        "from keras.callbacks import EarlyStopping, ModelCheckpoint\n",
        "early_stopping = EarlyStopping(monitor='val_loss', min_delta=0.001, patience=3, verbose=1,mode='auto')\n",
        "model_checkpoint = ModelCheckpoint('best_model.h5', monitor='val_loss', save_best_only=True, verbose=1)\n",
        "\n",
        "model=Sequential()\n",
        "model.add(Embedding(input_dim=vocab_size, output_dim=embed_dim, input_length=max_rev_len, weights=[embed_matrix], trainable=True))\n",
        "#model.add(Flatten())\n",
        "model.add(Bidirectional(LSTM(64, dropout = 0.2)))\n",
        "model.add(Dense(64, activation = 'relu'))\n",
        "model.add(Dropout(0.1))\n",
        "#model.add(Dense(32, activation = 'relu'))\n",
        "#model.add(Dropout(0.1))\n",
        "model.add(Dense(1, activation='sigmoid'))\n",
        "\n",
        "# compile the model\n",
        "model.compile(optimizer= 'SGD', loss=BinaryCrossentropy(), metrics=['accuracy'])"
      ],
      "metadata": {
        "id": "hUGiRyssUeuO"
      },
      "execution_count": 48,
      "outputs": []
    },
    {
      "cell_type": "code",
      "source": [
        "model.summary()"
      ],
      "metadata": {
        "colab": {
          "base_uri": "https://localhost:8080/"
        },
        "id": "FY09vjpfUhLk",
        "outputId": "d9ebe81b-9e63-47f5-8967-60fd4ecfb8fd"
      },
      "execution_count": 49,
      "outputs": [
        {
          "output_type": "stream",
          "name": "stdout",
          "text": [
            "Model: \"sequential_3\"\n",
            "_________________________________________________________________\n",
            " Layer (type)                Output Shape              Param #   \n",
            "=================================================================\n",
            " embedding_2 (Embedding)     (None, 639, 300)          8862300   \n",
            "                                                                 \n",
            " bidirectional_2 (Bidirecti  (None, 128)               186880    \n",
            " onal)                                                           \n",
            "                                                                 \n",
            " dense_4 (Dense)             (None, 64)                8256      \n",
            "                                                                 \n",
            " dropout_2 (Dropout)         (None, 64)                0         \n",
            "                                                                 \n",
            " dense_5 (Dense)             (None, 1)                 65        \n",
            "                                                                 \n",
            "=================================================================\n",
            "Total params: 9057501 (34.55 MB)\n",
            "Trainable params: 9057501 (34.55 MB)\n",
            "Non-trainable params: 0 (0.00 Byte)\n",
            "_________________________________________________________________\n"
          ]
        }
      ]
    },
    {
      "cell_type": "code",
      "source": [
        "#relu, relu, sigmoid SGD\n",
        "history = model.fit(x_train,y_train,epochs=10,batch_size=32,validation_data=(x_test,y_test), callbacks = [early_stopping, model_checkpoint])"
      ],
      "metadata": {
        "id": "fOOGBlTLUsZv",
        "colab": {
          "base_uri": "https://localhost:8080/"
        },
        "outputId": "9c602478-5944-496e-d277-63c50f612cf8"
      },
      "execution_count": 51,
      "outputs": [
        {
          "output_type": "stream",
          "name": "stdout",
          "text": [
            "Epoch 1/10\n",
            "315/315 [==============================] - ETA: 0s - loss: 0.6163 - accuracy: 0.7078\n",
            "Epoch 1: val_loss improved from inf to 0.48341, saving model to best_model.h5\n"
          ]
        },
        {
          "output_type": "stream",
          "name": "stderr",
          "text": [
            "/usr/local/lib/python3.10/dist-packages/keras/src/engine/training.py:3103: UserWarning: You are saving your model as an HDF5 file via `model.save()`. This file format is considered legacy. We recommend using instead the native Keras format, e.g. `model.save('my_model.keras')`.\n",
            "  saving_api.save_model(\n"
          ]
        },
        {
          "output_type": "stream",
          "name": "stdout",
          "text": [
            "\b\b\b\b\b\b\b\b\b\b\b\b\b\b\b\b\b\b\b\b\b\b\b\b\b\b\b\b\b\b\b\b\b\b\b\b\b\b\b\b\b\b\b\b\b\b\b\b\b\b\b\b\b\b\b\b\b\b\b\b\b\b\b\b\b\b\b\b\b\b\b\b\b\b\b\b\b\b\b\b\b\b\b\b\r315/315 [==============================] - 807s 3s/step - loss: 0.6163 - accuracy: 0.7078 - val_loss: 0.4834 - val_accuracy: 0.8471\n",
            "Epoch 2/10\n",
            "315/315 [==============================] - ETA: 0s - loss: 0.4045 - accuracy: 0.8556\n",
            "Epoch 2: val_loss improved from 0.48341 to 0.30344, saving model to best_model.h5\n",
            "315/315 [==============================] - 757s 2s/step - loss: 0.4045 - accuracy: 0.8556 - val_loss: 0.3034 - val_accuracy: 0.8817\n",
            "Epoch 3/10\n",
            "315/315 [==============================] - ETA: 0s - loss: 0.2865 - accuracy: 0.8868\n",
            "Epoch 3: val_loss improved from 0.30344 to 0.22962, saving model to best_model.h5\n",
            "315/315 [==============================] - 804s 3s/step - loss: 0.2865 - accuracy: 0.8868 - val_loss: 0.2296 - val_accuracy: 0.9063\n",
            "Epoch 4/10\n",
            "315/315 [==============================] - ETA: 0s - loss: 0.2127 - accuracy: 0.9211\n",
            "Epoch 4: val_loss improved from 0.22962 to 0.15957, saving model to best_model.h5\n",
            "315/315 [==============================] - 790s 3s/step - loss: 0.2127 - accuracy: 0.9211 - val_loss: 0.1596 - val_accuracy: 0.9412\n",
            "Epoch 5/10\n",
            "315/315 [==============================] - ETA: 0s - loss: 0.1361 - accuracy: 0.9547\n",
            "Epoch 5: val_loss improved from 0.15957 to 0.08352, saving model to best_model.h5\n",
            "315/315 [==============================] - 797s 3s/step - loss: 0.1361 - accuracy: 0.9547 - val_loss: 0.0835 - val_accuracy: 0.9754\n",
            "Epoch 6/10\n",
            "315/315 [==============================] - ETA: 0s - loss: 0.0735 - accuracy: 0.9776\n",
            "Epoch 6: val_loss improved from 0.08352 to 0.06212, saving model to best_model.h5\n",
            "315/315 [==============================] - 789s 3s/step - loss: 0.0735 - accuracy: 0.9776 - val_loss: 0.0621 - val_accuracy: 0.9829\n",
            "Epoch 7/10\n",
            "315/315 [==============================] - ETA: 0s - loss: 0.0533 - accuracy: 0.9842\n",
            "Epoch 7: val_loss did not improve from 0.06212\n",
            "315/315 [==============================] - 808s 3s/step - loss: 0.0533 - accuracy: 0.9842 - val_loss: 0.0633 - val_accuracy: 0.9841\n",
            "Epoch 8/10\n",
            "315/315 [==============================] - ETA: 0s - loss: 0.0417 - accuracy: 0.9886\n",
            "Epoch 8: val_loss improved from 0.06212 to 0.04101, saving model to best_model.h5\n",
            "315/315 [==============================] - 807s 3s/step - loss: 0.0417 - accuracy: 0.9886 - val_loss: 0.0410 - val_accuracy: 0.9877\n",
            "Epoch 9/10\n",
            "315/315 [==============================] - ETA: 0s - loss: 0.0396 - accuracy: 0.9895\n",
            "Epoch 9: val_loss did not improve from 0.04101\n",
            "315/315 [==============================] - 805s 3s/step - loss: 0.0396 - accuracy: 0.9895 - val_loss: 0.0596 - val_accuracy: 0.9853\n",
            "Epoch 10/10\n",
            "315/315 [==============================] - ETA: 0s - loss: 0.0336 - accuracy: 0.9914\n",
            "Epoch 10: val_loss did not improve from 0.04101\n",
            "315/315 [==============================] - 762s 2s/step - loss: 0.0336 - accuracy: 0.9914 - val_loss: 0.0684 - val_accuracy: 0.9829\n"
          ]
        }
      ]
    },
    {
      "cell_type": "code",
      "source": [],
      "metadata": {
        "id": "uK1Zbq3H4Cdy"
      },
      "execution_count": null,
      "outputs": []
    },
    {
      "cell_type": "code",
      "source": [
        "history_rrs_a = model.fit(x_train,y_train,epochs=10,batch_size=64,validation_data=(x_test,y_test), callbacks = [early_stopping, model_checkpoint])"
      ],
      "metadata": {
        "colab": {
          "base_uri": "https://localhost:8080/"
        },
        "id": "n30qn_PhLBSB",
        "outputId": "f08301d9-f92c-4863-8758-e2a73116e178"
      },
      "execution_count": 42,
      "outputs": [
        {
          "output_type": "stream",
          "name": "stdout",
          "text": [
            "Epoch 1/10\n",
            "158/158 [==============================] - ETA: 0s - loss: 0.6432 - accuracy: 0.6868\n",
            "Epoch 1: val_loss improved from inf to 0.58142, saving model to best_model.h5\n",
            "158/158 [==============================] - 624s 4s/step - loss: 0.6432 - accuracy: 0.6868 - val_loss: 0.5814 - val_accuracy: 0.8197\n",
            "Epoch 2/10\n",
            "158/158 [==============================] - ETA: 0s - loss: 0.5410 - accuracy: 0.8103\n",
            "Epoch 2: val_loss improved from 0.58142 to 0.45329, saving model to best_model.h5\n",
            "158/158 [==============================] - 608s 4s/step - loss: 0.5410 - accuracy: 0.8103 - val_loss: 0.4533 - val_accuracy: 0.8527\n",
            "Epoch 3/10\n",
            "158/158 [==============================] - ETA: 0s - loss: 0.4258 - accuracy: 0.8478\n",
            "Epoch 3: val_loss improved from 0.45329 to 0.35115, saving model to best_model.h5\n",
            "158/158 [==============================] - 582s 4s/step - loss: 0.4258 - accuracy: 0.8478 - val_loss: 0.3512 - val_accuracy: 0.8721\n",
            "Epoch 4/10\n",
            "158/158 [==============================] - ETA: 0s - loss: 0.3455 - accuracy: 0.8679\n",
            "Epoch 4: val_loss improved from 0.35115 to 0.29238, saving model to best_model.h5\n",
            "158/158 [==============================] - 593s 4s/step - loss: 0.3455 - accuracy: 0.8679 - val_loss: 0.2924 - val_accuracy: 0.8801\n",
            "Epoch 5/10\n",
            "158/158 [==============================] - ETA: 0s - loss: 0.2981 - accuracy: 0.8824\n",
            "Epoch 5: val_loss improved from 0.29238 to 0.25482, saving model to best_model.h5\n",
            "158/158 [==============================] - 592s 4s/step - loss: 0.2981 - accuracy: 0.8824 - val_loss: 0.2548 - val_accuracy: 0.8948\n",
            "Epoch 6/10\n",
            "158/158 [==============================] - ETA: 0s - loss: 0.2624 - accuracy: 0.8986\n",
            "Epoch 6: val_loss improved from 0.25482 to 0.22323, saving model to best_model.h5\n",
            "158/158 [==============================] - 590s 4s/step - loss: 0.2624 - accuracy: 0.8986 - val_loss: 0.2232 - val_accuracy: 0.9170\n",
            "Epoch 7/10\n",
            "158/158 [==============================] - ETA: 0s - loss: 0.2323 - accuracy: 0.9139\n",
            "Epoch 7: val_loss improved from 0.22323 to 0.19187, saving model to best_model.h5\n",
            "158/158 [==============================] - 596s 4s/step - loss: 0.2323 - accuracy: 0.9139 - val_loss: 0.1919 - val_accuracy: 0.9289\n",
            "Epoch 8/10\n",
            "158/158 [==============================] - ETA: 0s - loss: 0.1965 - accuracy: 0.9300\n",
            "Epoch 8: val_loss improved from 0.19187 to 0.15370, saving model to best_model.h5\n",
            "158/158 [==============================] - 596s 4s/step - loss: 0.1965 - accuracy: 0.9300 - val_loss: 0.1537 - val_accuracy: 0.9440\n",
            "Epoch 9/10\n",
            "158/158 [==============================] - ETA: 0s - loss: 0.1604 - accuracy: 0.9444\n",
            "Epoch 9: val_loss improved from 0.15370 to 0.10787, saving model to best_model.h5\n",
            "158/158 [==============================] - 596s 4s/step - loss: 0.1604 - accuracy: 0.9444 - val_loss: 0.1079 - val_accuracy: 0.9623\n",
            "Epoch 10/10\n",
            "158/158 [==============================] - ETA: 0s - loss: 0.1176 - accuracy: 0.9616\n",
            "Epoch 10: val_loss improved from 0.10787 to 0.06909, saving model to best_model.h5\n",
            "158/158 [==============================] - 592s 4s/step - loss: 0.1176 - accuracy: 0.9616 - val_loss: 0.0691 - val_accuracy: 0.9754\n"
          ]
        }
      ]
    },
    {
      "cell_type": "code",
      "source": [
        "train_loss = history.history['loss']\n",
        "val_loss = history.history['val_loss']\n",
        "epochs = range(1, len(train_loss) + 1)\n"
      ],
      "metadata": {
        "id": "pWXg59g1PxJP"
      },
      "execution_count": 53,
      "outputs": []
    },
    {
      "cell_type": "code",
      "source": [
        "import matplotlib.pyplot as plt\n",
        "\n",
        "# Plotting\n",
        "plt.figure(figsize=(10, 6))\n",
        "plt.plot(range(len(train_loss)), train_loss, label='Train')\n",
        "plt.plot(range(len(val_loss)), val_loss, label='Valid')\n",
        "plt.title('Training and Validation Loss')\n",
        "plt.xlabel('Epochs')\n",
        "plt.ylabel('Loss')\n",
        "plt.legend()\n",
        "plt.show()\n"
      ],
      "metadata": {
        "colab": {
          "base_uri": "https://localhost:8080/",
          "height": 564
        },
        "id": "ulGlU7p9PzSm",
        "outputId": "62ecfd89-6e92-4657-b3ad-764787fc0c9b"
      },
      "execution_count": 54,
      "outputs": [
        {
          "output_type": "display_data",
          "data": {
            "text/plain": [
              "<Figure size 1000x600 with 1 Axes>"
            ],
            "image/png": "[encoded data removed]"
          },
          "metadata": {}
        }
      ]
    },
    {
      "cell_type": "code",
      "source": [
        "# Plotting accuracy\n",
        "plt.figure(figsize=(10, 5))\n",
        "plt.subplot(1, 2, 1)\n",
        "plt.plot(epochs, history.history['accuracy'], 'bo-', label='Training Accuracy')\n",
        "plt.plot(epochs, history.history['val_accuracy'], 'ro-', label='Validation Accuracy')\n",
        "plt.title('Training and Validation Accuracy')\n",
        "plt.xlabel('Epochs')\n",
        "plt.ylabel('Accuracy')\n",
        "plt.legend()"
      ],
      "metadata": {
        "colab": {
          "base_uri": "https://localhost:8080/",
          "height": 504
        },
        "id": "NRn0XwPH51WE",
        "outputId": "13110228-cdef-43ae-d875-95cd51f939ab"
      },
      "execution_count": 55,
      "outputs": [
        {
          "output_type": "execute_result",
          "data": {
            "text/plain": [
              "<matplotlib.legend.Legend at 0x7af8922e4730>"
            ]
          },
          "metadata": {},
          "execution_count": 55
        },
        {
          "output_type": "display_data",
          "data": {
            "text/plain": [
              "<Figure size 1000x500 with 1 Axes>"
            ],
            "image/png": "[encoded data removed]"
          },
          "metadata": {}
        }
      ]
    },
    {
      "cell_type": "code",
      "source": [
        "import nltk\n",
        "from nltk.tokenize import word_tokenize\n",
        "\n",
        "B = \"Tensions soared as Biden threatened to withhold toy shipments to Israel's sandcastles if they dared storm Rafah. Israeli bigwigs flailed, Erdan wailed about emboldened foes, while Netanyahu flexed with a we'll stand alone video montage. Bidens jab rocked Israels war boat, prompting cries of Not fair! from Likuds Zohar and a Hamas loves Biden diss from Ben Gvir, causing Herzog to roll his eyes. Lapid finger-pointed at Netanyahu, warning of IDF soldier jeopardy, while Michaeli accused the government of turning Israel into a strategic sitting duck.\"\n",
        "A = \"Israeli officials are reeling after US President Joe Biden's declaration that the US would cease some arms shipments if Israel launched a full-scale operation in Rafah. The statement, made in an interview with CNN, ignited criticism from Israeli Ambassador Gilad Erdan, who deemed it potentially emboldening to Israel's enemies. Prime Minister Benjamin Netanyahu responded by affirming Israel's resolve. Biden's stance underscores a shift in US-Israel relations amidst mounting pressure to protect Gazan civilians. Despite pleas to reconsider military plans, Israel has undertaken limited operations. Biden's move has stoked anger among Israeli politicians, exposing deep rifts. Likud Minister Miki Zohar decried forgetting past terror attacks, while Minister of National Security Itamar Ben Gvir's critique prompted President Isaac Herzog's rebuke. \"\n",
        "\n",
        "sentences = tokenizer.tokenize(B.strip())\n",
        "\n",
        "# Clean sentences and tokenize words\n",
        "cleaned_sentences = [clean_reviews(sent).split() for sent in sentences]\n",
        "\n",
        "sequences = tok.texts_to_sequences(cleaned_sentences)\n",
        "\n",
        "import itertools\n",
        "flattened_sequence = list(itertools.chain(*sequences))\n",
        "\n",
        "from keras.preprocessing.sequence import pad_sequences\n",
        "\n",
        "# Assuming 'max_rev_len' is the length your model expects\n",
        "padded_sequences = pad_sequences([flattened_sequence], maxlen=max_rev_len, padding='post')\n",
        "from keras.models import load_model\n",
        "\n",
        "  # Load the previously trained model\n",
        "\n",
        "# Make prediction\n",
        "predictions = model.predict(padded_sequences)\n",
        "predicted_class = (predictions > 0.5).astype(int)  # Assuming a binary classification model\n",
        "print(\"Predicted class:\", predicted_class[0])\n"
      ],
      "metadata": {
        "colab": {
          "base_uri": "https://localhost:8080/"
        },
        "id": "1SA4J0uJgE-G",
        "outputId": "fc59695c-40ee-4198-ba75-9c6ad8d9c0b7"
      },
      "execution_count": 58,
      "outputs": [
        {
          "output_type": "stream",
          "name": "stdout",
          "text": [
            "1/1 [==============================] - 0s 138ms/step\n",
            "Predicted class: [1]\n"
          ]
        }
      ]
    },
    {
      "cell_type": "code",
      "source": [
        "import nltk\n",
        "from nltk.tokenize import word_tokenize\n",
        "\n",
        "# Assume 'unseen_text' is the new input text\n",
        "B = \"Tensions soared as Biden threatened to withhold toy shipments to Israel's sandcastles if they dared storm Rafah. Israeli bigwigs flailed, Erdan wailed about emboldened foes, while Netanyahu flexed with a we'll stand alone video montage. Bidens jab rocked Israels war boat, prompting cries of Not fair! from Likuds Zohar and a Hamas loves Biden diss from Ben Gvir, causing Herzog to roll his eyes. Lapid finger-pointed at Netanyahu, warning of IDF soldier jeopardy, while Michaeli accused the government of turning Israel into a strategic sitting duck.\"\n",
        "A = \"Israeli officials are reeling after US President Joe Biden's declaration that the US would cease some arms shipments if Israel launched a full-scale operation in Rafah. The statement, made in an interview with CNN, ignited criticism from Israeli Ambassador Gilad Erdan, who deemed it potentially emboldening to Israel's enemies. Prime Minister Benjamin Netanyahu responded by affirming Israel's resolve. Biden's stance underscores a shift in US-Israel relations amidst mounting pressure to protect Gazan civilians. Despite pleas to reconsider military plans, Israel has undertaken limited operations. Biden's move has stoked anger among Israeli politicians, exposing deep rifts. Likud Minister Miki Zohar decried forgetting past terror attacks, while Minister of National Security Itamar Ben Gvir's critique prompted President Isaac Herzog's rebuke. \"\n",
        "\n",
        "sentences = tokenizer.tokenize(A.strip())\n",
        "\n",
        "# Clean sentences and tokenize words\n",
        "cleaned_sentences = [clean_reviews(sent).split() for sent in sentences]\n",
        "\n",
        "sequences = tok.texts_to_sequences(cleaned_sentences)\n",
        "\n",
        "flattened_sequence = list(itertools.chain(*sequences))\n",
        "\n",
        "padded_sequences = pad_sequences([flattened_sequence], maxlen=max_rev_len, padding='post')\n",
        "predictions = model.predict(padded_sequences)\n",
        "predicted_class = (predictions > 0.5).astype(int)  # Assuming a binary classification model\n",
        "print(\"Predicted class:\", predicted_class[0])"
      ],
      "metadata": {
        "colab": {
          "base_uri": "https://localhost:8080/"
        },
        "id": "BuwP27liZWEc",
        "outputId": "3fb7562e-b55b-4ee7-989d-a0e64b80bfd0"
      },
      "execution_count": 57,
      "outputs": [
        {
          "output_type": "stream",
          "name": "stdout",
          "text": [
            "1/1 [==============================] - 0s 242ms/step\n",
            "Predicted class: [0]\n"
          ]
        }
      ]
    },
    {
      "cell_type": "code",
      "source": [
        "import pickle\n",
        "\n",
        "# Save the tokenizer\n",
        "with open('tokenizer.pkl', 'wb') as f:\n",
        "    pickle.dump(tok, f)\n"
      ],
      "metadata": {
        "id": "fXFINKaoeRRJ"
      },
      "execution_count": 59,
      "outputs": []
    },
    {
      "cell_type": "markdown",
      "source": [],
      "metadata": {
        "id": "5778rIfnREot"
      }
    },
    {
      "cell_type": "code",
      "source": [
        "import json\n",
        "\n",
        "config = {'max_rev_len': max_rev_len}\n",
        "with open('config.json', 'w') as f:\n",
        "    json.dump(config, f)\n"
      ],
      "metadata": {
        "id": "67u2Rs9uyfCR"
      },
      "execution_count": 61,
      "outputs": []
    },
    {
      "cell_type": "code",
      "source": [
        "import os\n",
        "\n",
        "# Define the base directory within your Google Drive\n",
        "base_dir = '/content/drive/My Drive/LSTMModelFiles'\n",
        "\n",
        "# Create the directory if it does not exist\n",
        "os.makedirs(base_dir, exist_ok=True)\n",
        "\n",
        "tokenizer_path = os.path.join(base_dir, 'tokenizer.pkl')\n",
        "with open(tokenizer_path, 'wb') as f:\n",
        "    pickle.dump(tok, f)\n",
        "\n",
        "model_path = os.path.join(base_dir, 'model.h5')\n",
        "model.save(model_path)\n",
        "\n",
        "config_path = os.path.join(base_dir, 'config.json')\n",
        "with open(config_path, 'w') as f:\n",
        "    json.dump({'max_rev_len': max_rev_len}, f)\n",
        "\n",
        "\n",
        "#to load: with open(tokenizer_path, 'rb') as f:\n",
        "    #tokenizer = pickle.load(f)\n"
      ],
      "metadata": {
        "colab": {
          "base_uri": "https://localhost:8080/"
        },
        "id": "ECvdzm_GaYU4",
        "outputId": "6ac9fbc1-0f07-48f3-f8eb-a1fad1c7dafe"
      },
      "execution_count": 62,
      "outputs": [
        {
          "output_type": "stream",
          "name": "stderr",
          "text": [
            "/usr/local/lib/python3.10/dist-packages/keras/src/engine/training.py:3103: UserWarning: You are saving your model as an HDF5 file via `model.save()`. This file format is considered legacy. We recommend using instead the native Keras format, e.g. `model.save('my_model.keras')`.\n",
            "  saving_api.save_model(\n"
          ]
        }
      ]
    }
  ]
}